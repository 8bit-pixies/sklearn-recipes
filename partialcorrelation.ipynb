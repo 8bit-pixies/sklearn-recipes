{
 "cells": [
  {
   "cell_type": "markdown",
   "metadata": {},
   "source": [
    "This notebook will perform tests where:\n",
    "\n",
    "$$\\rho_{x,y \\cdot \\mathbf{z}}$$\n",
    "\n",
    "Where $|\\mathbf{z}| = n$ and $n = 1, 2, 3...$"
   ]
  },
  {
   "cell_type": "code",
   "execution_count": 98,
   "metadata": {
    "collapsed": true
   },
   "outputs": [],
   "source": [
    "from scipy.stats import chi2_contingency\n",
    "from scipy import stats\n",
    "import scipy\n",
    "import numpy as np\n",
    "import random\n",
    "from scipy.stats import norm\n",
    "from sklearn.metrics.pairwise import rbf_kernel, linear_kernel, pairwise_kernels\n",
    "from sklearn.kernel_approximation import Nystroem\n",
    "from sklearn import preprocessing\n",
    "\n",
    "from itertools import combinations, permutations, chain"
   ]
  },
  {
   "cell_type": "code",
   "execution_count": 5,
   "metadata": {
    "collapsed": true
   },
   "outputs": [],
   "source": [
    "def fast_cor1(X, y):\n",
    "    \"\"\"\n",
    "    As the dependency is a single variable there \n",
    "    is no need to loop through\n",
    "    we can use a kernel trick/approximation to solve it quickly.\n",
    "    \n",
    "    We do not care if things are perfectly negatively correlated here\n",
    "    \"\"\"\n",
    "    X_all = np.hstack([X, y.reshape(-1, 1)]).T\n",
    "    #X_all = X_all - X_all.mean(axis=0)\n",
    "    \n",
    "    # calculate correlation\n",
    "    if X_all.shape[0] < 1000:\n",
    "        K = pairwise_kernels(X_all, metric='cosine')\n",
    "    else:\n",
    "        K = Nystroem('cosine').fit_transform(X_all)\n",
    "    \n",
    "    #k_I = np.eye(K.shape[0])\n",
    "    #cov = K.dot(np.linalg.pinv(k_I - K))\n",
    "    d_inv = np.sqrt(np.diag(np.diag(K)))\n",
    "    corr = d_inv.dot(K).dot(d_inv)\n",
    "    return corr\n"
   ]
  },
  {
   "cell_type": "code",
   "execution_count": 6,
   "metadata": {
    "collapsed": true
   },
   "outputs": [],
   "source": [
    "# calculate the partial correlation \n",
    "# using the info from wikipedia\n",
    "def fast_partial_cor1(X, y):\n",
    "    \"\"\"\n",
    "    Calculate the partial correlation for order 1\n",
    "    \"\"\"\n",
    "    cor_f = fast_cor(X, y)\n",
    "    # now take out the last row and column...\n",
    "    cor_dim = cor_f.shape[0]-1\n",
    "    cor_x = cor_f[:, :cor_dim][:cor_dim, :]\n",
    "    cor_z = cor_f[cor_dim, :cor_dim].flatten()\n",
    "    \n",
    "    # calculate new correlation matrix\n",
    "    cor_m = np.ones((cor_x.shape[1], cor_x.shape[1]))\n",
    "    y_reshape = y.reshape(-1, 1)\n",
    "    tri_idx = np.triu_indices(cor_m.shape[1], 0)\n",
    "    for i, j in zip(tri_idx[0].flatten(), tri_idx[1].flatten()):\n",
    "        corr = (cor_x[i, j] - cor_z[i]*cor_z[j])\n",
    "        corr = corr/(np.sqrt(1-(cor_z[i]*cor_z[i]))*np.sqrt(1-(cor_z[j]*cor_z[j])))\n",
    "        cor_m[i, j] = corr\n",
    "        cor_m[j, i] = corr\n",
    "    return cor_m #, cor_x "
   ]
  },
  {
   "cell_type": "code",
   "execution_count": null,
   "metadata": {
    "collapsed": true
   },
   "outputs": [],
   "source": [
    "def fast_cor1(X, y):\n",
    "    \"\"\"\n",
    "    As the dependency is a single variable there \n",
    "    is no need to loop through\n",
    "    we can use a kernel trick/approximation to solve it quickly.\n",
    "    \n",
    "    We do not care if things are perfectly negatively correlated here\n",
    "    \"\"\"\n",
    "    X_all = np.hstack([X, y.reshape(-1, 1)]).T\n",
    "    #X_all = X_all - X_all.mean(axis=0)\n",
    "    \n",
    "    # calculate correlation\n",
    "    if X_all.shape[0] < 1000:\n",
    "        K = pairwise_kernels(X_all, metric='cosine')\n",
    "    else:\n",
    "        K = Nystroem('cosine').fit_transform(X_all)\n",
    "    \n",
    "    #k_I = np.eye(K.shape[0])\n",
    "    #cov = K.dot(np.linalg.pinv(k_I - K))\n",
    "    d_inv = np.sqrt(np.diag(np.diag(K)))\n",
    "    corr = d_inv.dot(K).dot(d_inv)\n",
    "    return corr"
   ]
  },
  {
   "cell_type": "code",
   "execution_count": 14,
   "metadata": {
    "collapsed": true
   },
   "outputs": [],
   "source": [
    "def fast_cor(X_all):\n",
    "    # calculate correlation\n",
    "    X_scaled = preprocessing.scale(X_all)\n",
    "    if X_all.shape[0] < 1000:\n",
    "        K = pairwise_kernels(X_scaled.T, metric='cosine')\n",
    "        return K\n",
    "    else:\n",
    "        K = Nystroem('cosine').fit_transform(X_scaled.T)\n",
    "        d_inv = np.sqrt(np.diag(np.diag(K)))\n",
    "        corr = d_inv.dot(K).dot(d_inv)\n",
    "        return corr"
   ]
  },
  {
   "cell_type": "code",
   "execution_count": 55,
   "metadata": {
    "collapsed": true
   },
   "outputs": [],
   "source": [
    "def fisher_test(cor_m, N, z_n):\n",
    "    cor_m = np.minimum(cor_m, 0.9999)\n",
    "    cor_m = np.maximum(cor_m, -0.9999)\n",
    "    z_score = 0.5*np.log((1+cor_m)/(1-cor_m))\n",
    "    test_stat = np.sqrt(N - z_n -3) * np.abs(z_score)\n",
    "    p_val = 1-scipy.stats.norm.cdf(test_stat)\n",
    "    return p_val"
   ]
  },
  {
   "cell_type": "code",
   "execution_count": 56,
   "metadata": {},
   "outputs": [],
   "source": [
    "x1 = np.random.normal(size=(10,))\n",
    "c = np.random.normal(size=(10,))\n",
    "x_dat = np.random.normal(size=(10, 3))\n",
    "x_all = np.hstack([x1.reshape(-1, 1), \n",
    "                  c.reshape(-1, 1), \n",
    "                  x_dat])"
   ]
  },
  {
   "cell_type": "code",
   "execution_count": 95,
   "metadata": {
    "collapsed": true
   },
   "outputs": [],
   "source": [
    "# pull out vectors for x1, and c...\n",
    "x_cor = fast_cor(x_all)\n",
    "x_cor_inv = np.linalg.pinv(x_cor)\n",
    "x1_cor = x_cor[:, 0]\n",
    "c_cor = x_cor[:, 1]    "
   ]
  },
  {
   "cell_type": "code",
   "execution_count": 106,
   "metadata": {},
   "outputs": [
    {
     "data": {
      "text/plain": [
       "array([[ 1.51922542, -0.26146002, -0.3971878 ,  0.46691053, -0.39883903],\n",
       "       [-0.26146002,  2.71434436, -0.47492249, -0.47380797, -2.03720088],\n",
       "       [-0.3971878 , -0.47492249,  1.24072417,  0.06957941,  0.66159051],\n",
       "       [ 0.46691053, -0.47380797,  0.06957941,  1.21856148,  0.27227746],\n",
       "       [-0.39883903, -2.03720088,  0.66159051,  0.27227746,  2.78708648]])"
      ]
     },
     "execution_count": 106,
     "metadata": {},
     "output_type": "execute_result"
    }
   ],
   "source": [
    "x_cor_inv"
   ]
  },
  {
   "cell_type": "code",
   "execution_count": 108,
   "metadata": {},
   "outputs": [
    {
     "data": {
      "text/plain": [
       "array([[ 1.24745528, -0.43636697, -0.30461206],\n",
       "       [-0.43636697,  1.16191862,  0.0098028 ],\n",
       "       [-0.30461206,  0.0098028 ,  1.0836572 ]])"
      ]
     },
     "execution_count": 108,
     "metadata": {},
     "output_type": "execute_result"
    }
   ],
   "source": [
    "np.linalg.pinv(x_cor[:, :3][:3, :])"
   ]
  },
  {
   "cell_type": "code",
   "execution_count": 104,
   "metadata": {
    "collapsed": true
   },
   "outputs": [],
   "source": [
    "def powerset(iterable, max_size=3):\n",
    "    \"powerset([1,2,3]) --> () (1,) (2,) (3,) (1,2) (1,3) (2,3) (1,2,3)\"\n",
    "    s = list(iterable)\n",
    "    return chain.from_iterable(combinations(s, r) for r in range(1, max_size+1))"
   ]
  },
  {
   "cell_type": "code",
   "execution_count": 126,
   "metadata": {},
   "outputs": [],
   "source": [
    "def partial_cor(x1, c, x_dat, x1_name, x_dat_names, max_search_depth=3):\n",
    "    max_search_depth = min(max_search_depth, len(x_dat_names))\n",
    "    x_n = x_dat.shape[0]\n",
    "    x_all = np.hstack(\n",
    "        [x1.reshape(-1, 1), \n",
    "         c.reshape(-1, 1), \n",
    "         x_dat])\n",
    "    x_cor = fast_cor(x_all)\n",
    "    partial_cor = []\n",
    "    for cond in list(powerset(range(2, x_cor.shape[1]), max_search_depth)):\n",
    "        z_n = len(cond)\n",
    "        idx = [0, 1] + list(cond)\n",
    "        V = x_cor[idx, :][:, idx]\n",
    "        V_inv = np.linalg.pinv(V)\n",
    "        cor = -V_inv[0][1]/(np.sqrt(V_inv[0][0]*V_inv[1][1]))\n",
    "        partial_cor.append({\n",
    "            'var': x1_name,\n",
    "            'cor': cor,\n",
    "            'pval': fisher_test(cor, x_n, z_n),\n",
    "            'cond': set([x_dat_names[x-2] for x in cond])\n",
    "        })\n",
    "    return partial_cor"
   ]
  },
  {
   "cell_type": "code",
   "execution_count": 127,
   "metadata": {},
   "outputs": [
    {
     "data": {
      "text/plain": [
       "[{'cond': {'x2'},\n",
       "  'cor': 0.36245284974583053,\n",
       "  'pval': 0.17616275762972311,\n",
       "  'var': 'x1'},\n",
       " {'cond': {'x3'},\n",
       "  'cor': 0.42377171743350006,\n",
       "  'pval': 0.13396194549508977,\n",
       "  'var': 'x1'},\n",
       " {'cond': {'x4'},\n",
       "  'cor': 0.13874771241880826,\n",
       "  'pval': 0.36615003962054271,\n",
       "  'var': 'x1'},\n",
       " {'cond': {'x2', 'x3'},\n",
       "  'cor': 0.41314711704975554,\n",
       "  'pval': 0.16291974043895752,\n",
       "  'var': 'x1'},\n",
       " {'cond': {'x2', 'x4'},\n",
       "  'cor': 0.043395428033868248,\n",
       "  'pval': 0.46132503624746235,\n",
       "  'var': 'x1'},\n",
       " {'cond': {'x3', 'x4'},\n",
       "  'cor': 0.22022137005973111,\n",
       "  'pval': 0.30831560887057152,\n",
       "  'var': 'x1'}]"
      ]
     },
     "execution_count": 127,
     "metadata": {},
     "output_type": "execute_result"
    }
   ],
   "source": [
    "partial_cor(x1, c, x_dat, 'x1', ['x2', 'x3', 'x4'], 2)"
   ]
  },
  {
   "cell_type": "code",
   "execution_count": null,
   "metadata": {
    "collapsed": true
   },
   "outputs": [],
   "source": []
  },
  {
   "cell_type": "code",
   "execution_count": 109,
   "metadata": {},
   "outputs": [],
   "source": [
    "# using matrix inverstion...\n",
    "partial_cor = []\n",
    "for cond in list(powerset(range(2, x_cor.shape[1]))):\n",
    "    idx = [0, 1] + list(cond)\n",
    "    V = x_cor[idx, :][:, idx]\n",
    "    V_inv = np.linalg.pinv(V)\n",
    "    cor = -V_inv[0][1]/(np.sqrt(V_inv[0][0]*V_inv[1][1]))\n",
    "    partial_cor.append({\n",
    "        'cor': cor,\n",
    "        'cond': set(cond)\n",
    "    })"
   ]
  },
  {
   "cell_type": "code",
   "execution_count": 110,
   "metadata": {},
   "outputs": [
    {
     "data": {
      "text/plain": [
       "[{'cond': {2}, 'cor': 0.36245284974583053},\n",
       " {'cond': {3}, 'cor': 0.42377171743350006},\n",
       " {'cond': {4}, 'cor': 0.13874771241880826},\n",
       " {'cond': {2, 3}, 'cor': 0.41314711704975554},\n",
       " {'cond': {2, 4}, 'cor': 0.043395428033868248},\n",
       " {'cond': {3, 4}, 'cor': 0.22022137005973111},\n",
       " {'cond': {2, 3, 4}, 'cor': 0.12875428999801561}]"
      ]
     },
     "execution_count": 110,
     "metadata": {},
     "output_type": "execute_result"
    }
   ],
   "source": [
    "partial_cor"
   ]
  },
  {
   "cell_type": "code",
   "execution_count": 58,
   "metadata": {
    "collapsed": true
   },
   "outputs": [],
   "source": [
    "def partial_cor_single(pxy, pxz, pzy):\n",
    "    a = pxy - (pxz*pzy)\n",
    "    b = np.sqrt(1-(pxz*pxz))*np.sqrt(1-(pzy*pzy))\n",
    "    return a/b"
   ]
  },
  {
   "cell_type": "code",
   "execution_count": 67,
   "metadata": {},
   "outputs": [
    {
     "data": {
      "text/plain": [
       "[(2, 0), (3, 0), (4, 0)]"
      ]
     },
     "execution_count": 67,
     "metadata": {},
     "output_type": "execute_result"
    }
   ],
   "source": [
    "[x for x in list(combinations(list(range(2, x_cor.shape[1]))+[0], 2)) if x[0] == 0 or x[1] == 0]"
   ]
  },
  {
   "cell_type": "code",
   "execution_count": 129,
   "metadata": {},
   "outputs": [
    {
     "data": {
      "text/plain": [
       "False"
      ]
     },
     "execution_count": 129,
     "metadata": {},
     "output_type": "execute_result"
    }
   ],
   "source": [
    "set([1]) == set([1, 2])"
   ]
  },
  {
   "cell_type": "code",
   "execution_count": 91,
   "metadata": {},
   "outputs": [],
   "source": [
    "order1 = []\n",
    "x_n = x_all.shape[0]\n",
    "z_n = 1\n",
    "\n",
    "for base0, base1, cond0 in list(permutations(range(x_cor.shape[1]), 3)):\n",
    "    if cond0 == 1 or base0 > base1:\n",
    "        # do not condition on label\n",
    "        continue\n",
    "    cor = partial_cor_single(x_cor[base0][base1], x_cor[base0][cond0], x_cor[base1][cond0])\n",
    "    pval = fisher_test(cor, x_n, z_n)\n",
    "    order1.append(\n",
    "        {'cor_pair': set([base0, base1]), \n",
    "         'condition': set([cond0]),\n",
    "         'cor': cor, \n",
    "         'pval': pval}\n",
    "    )"
   ]
  },
  {
   "cell_type": "code",
   "execution_count": 92,
   "metadata": {
    "collapsed": true
   },
   "outputs": [],
   "source": [
    "#order 2\n",
    "x_n = x_all.shape[0]\n",
    "z_n = 2\n",
    "\n",
    "for base0, base1, cond0, cond1 in list(permutations(range(x_cor.shape[1]), 4)):\n",
    "    if cond0 == 1 or cond1 == 1 or base0 > base1:\n",
    "        # do not condition on label\n",
    "        continue\n",
    "    pxy = [x['cor'] for x in order1 if base0 in x['cor_pair'] and base1 in x['cor_pair'] and cond1 in x['condition']][0]\n",
    "    pxz = [x['cor'] for x in order1 if base0 in x['cor_pair'] and cond0 in x['cor_pair'] and cond1 in x['condition']][0]\n",
    "    pzy = [x['cor'] for x in order1 if base1 in x['cor_pair'] and cond0 in x['cor_pair'] and cond1 in x['condition']][0]\n",
    "    \n",
    "    cor = partial_cor_single(pxy, pxz, pzy)\n",
    "    pval = fisher_test(cor, x_n, z_n)\n",
    "    order1.append(\n",
    "        {'cor_pair': set([base0, base1]), \n",
    "         'condition': set([cond0, cond1]),\n",
    "         'cor': cor, \n",
    "         'pval': pval}\n",
    "    )\n"
   ]
  },
  {
   "cell_type": "code",
   "execution_count": 93,
   "metadata": {},
   "outputs": [],
   "source": [
    "x_n = x_all.shape[0]\n",
    "z_n = 3\n",
    "\n",
    "for base0, base1, cond0, cond1, cond2 in list(permutations(range(x_cor.shape[1]), 5)):\n",
    "    if cond0 == 1 or cond1 == 1 or cond2 == 1 or base0 > base1:\n",
    "        # do not condition on label\n",
    "        continue\n",
    "    pxy = [x['cor'] for x in order1 if base0 in x['cor_pair'] and base1 in x['cor_pair'] and cond1 in x['condition'] and cond2 in x['condition']][0]\n",
    "    pxz = [x['cor'] for x in order1 if base0 in x['cor_pair'] and cond0 in x['cor_pair'] and cond1 in x['condition'] and cond2 in x['condition']][0]\n",
    "    pzy = [x['cor'] for x in order1 if base1 in x['cor_pair'] and cond0 in x['cor_pair'] and cond1 in x['condition'] and cond2 in x['condition']][0]\n",
    "    \n",
    "    cor = partial_cor_single(pxy, pxz, pzy)\n",
    "    pval = fisher_test(cor, x_n, z_n)\n",
    "    order1.append(\n",
    "        {'cor_pair': set([base0, base1]), \n",
    "         'condition': set([cond0, cond1, cond2]),\n",
    "         'cor': cor, \n",
    "         'pval': pval}\n",
    "    )"
   ]
  },
  {
   "cell_type": "code",
   "execution_count": 94,
   "metadata": {},
   "outputs": [
    {
     "data": {
      "text/plain": [
       "[{'condition': {2},\n",
       "  'cor': 0.36245284974583025,\n",
       "  'cor_pair': {0, 1},\n",
       "  'pval': 0.17616275762972344},\n",
       " {'condition': {3},\n",
       "  'cor': 0.42377171743350051,\n",
       "  'cor_pair': {0, 1},\n",
       "  'pval': 0.13396194549508955},\n",
       " {'condition': {4},\n",
       "  'cor': 0.13874771241880826,\n",
       "  'cor_pair': {0, 1},\n",
       "  'pval': 0.36615003962054271},\n",
       " {'condition': {3},\n",
       "  'cor': 0.26049660805350633,\n",
       "  'cor_pair': {0, 2},\n",
       "  'pval': 0.25683474649445936},\n",
       " {'condition': {4},\n",
       "  'cor': 0.35197985484681532,\n",
       "  'cor_pair': {0, 2},\n",
       "  'pval': 0.1838787764761981},\n",
       " {'condition': {2},\n",
       "  'cor': -0.32616836242181751,\n",
       "  'cor_pair': {0, 3},\n",
       "  'pval': 0.20348526904623077},\n",
       " {'condition': {4},\n",
       "  'cor': -0.33931738775276887,\n",
       "  'cor_pair': {0, 3},\n",
       "  'pval': 0.19339430333635321},\n",
       " {'condition': {2},\n",
       "  'cor': 0.4359254165189706,\n",
       "  'cor_pair': {0, 4},\n",
       "  'pval': 0.12623406254056957},\n",
       " {'condition': {3},\n",
       "  'cor': 0.38297302083451046,\n",
       "  'cor_pair': {0, 4},\n",
       "  'pval': 0.16146254921120318},\n",
       " {'condition': {0},\n",
       "  'cor': -0.008736070355021771,\n",
       "  'cor_pair': {1, 2},\n",
       "  'pval': 0.49146350250875404},\n",
       " {'condition': {3},\n",
       "  'cor': 0.10381711325323431,\n",
       "  'cor_pair': {1, 2},\n",
       "  'pval': 0.39927716431156279},\n",
       " {'condition': {4},\n",
       "  'cor': 0.28352782094975043,\n",
       "  'cor_pair': {1, 2},\n",
       "  'pval': 0.23759477065381307},\n",
       " {'condition': {0},\n",
       "  'cor': 0.22742132945283597,\n",
       "  'cor_pair': {1, 3},\n",
       "  'pval': 0.28536401238121134},\n",
       " {'condition': {2},\n",
       "  'cor': 0.082108540399441127,\n",
       "  'cor_pair': {1, 3},\n",
       "  'pval': 0.42012338347600098},\n",
       " {'condition': {4},\n",
       "  'cor': 0.19043354972363394,\n",
       "  'cor_pair': {1, 3},\n",
       "  'pval': 0.31838139774372509},\n",
       " {'condition': {0},\n",
       "  'cor': 0.71368579056244508,\n",
       "  'cor_pair': {1, 4},\n",
       "  'pval': 0.014209600486862817},\n",
       " {'condition': {2},\n",
       "  'cor': 0.7748178518396811,\n",
       "  'cor_pair': {1, 4},\n",
       "  'pval': 0.005726917867782455},\n",
       " {'condition': {3},\n",
       "  'cor': 0.76345861705820328,\n",
       "  'cor_pair': {1, 4},\n",
       "  'pval': 0.0069390902511425878},\n",
       " {'condition': {0},\n",
       "  'cor': -0.0062252453572636327,\n",
       "  'cor_pair': {2, 3},\n",
       "  'pval': 0.4939168161294446},\n",
       " {'condition': {4},\n",
       "  'cor': -0.10920395598599318,\n",
       "  'cor_pair': {2, 3},\n",
       "  'pval': 0.39413223316890933},\n",
       " {'condition': {0},\n",
       "  'cor': -0.25267322070601,\n",
       "  'cor_pair': {2, 4},\n",
       "  'pval': 0.26349070714114142},\n",
       " {'condition': {3},\n",
       "  'cor': -0.12574652205504228,\n",
       "  'cor_pair': {2, 4},\n",
       "  'pval': 0.37841209789140351},\n",
       " {'condition': {0},\n",
       "  'cor': 0.069017883984003423,\n",
       "  'cor_pair': {3, 4},\n",
       "  'pval': 0.43276940373167017},\n",
       " {'condition': {2},\n",
       "  'cor': -0.082879875826959742,\n",
       "  'cor_pair': {3, 4},\n",
       "  'pval': 0.41937987215020689},\n",
       " {'condition': {2, 3},\n",
       "  'cor': 0.41314711704975593,\n",
       "  'cor_pair': {0, 1},\n",
       "  'pval': 0.16291974043895729},\n",
       " {'condition': {2, 4},\n",
       "  'cor': 0.043395428033868901,\n",
       "  'cor_pair': {0, 1},\n",
       "  'pval': 0.46132503624746168},\n",
       " {'condition': {2, 3},\n",
       "  'cor': 0.41314711704975582,\n",
       "  'cor_pair': {0, 1},\n",
       "  'pval': 0.16291974043895741},\n",
       " {'condition': {3, 4},\n",
       "  'cor': 0.220221370059731,\n",
       "  'cor_pair': {0, 1},\n",
       "  'pval': 0.30831560887057163},\n",
       " {'condition': {2, 4},\n",
       "  'cor': 0.04339542803386888,\n",
       "  'cor_pair': {0, 1},\n",
       "  'pval': 0.46132503624746168},\n",
       " {'condition': {3, 4},\n",
       "  'cor': 0.22022137005973105,\n",
       "  'cor_pair': {0, 1},\n",
       "  'pval': 0.30831560887057152},\n",
       " {'condition': {3, 4},\n",
       "  'cor': 0.33680162268971331,\n",
       "  'cor_pair': {0, 2},\n",
       "  'pval': 0.21660859161819923},\n",
       " {'condition': {3, 4},\n",
       "  'cor': 0.33680162268971342,\n",
       "  'cor_pair': {0, 2},\n",
       "  'pval': 0.21660859161819923},\n",
       " {'condition': {2, 4},\n",
       "  'cor': -0.32338421417605462,\n",
       "  'cor_pair': {0, 3},\n",
       "  'pval': 0.22661942263838031},\n",
       " {'condition': {2, 4},\n",
       "  'cor': -0.32338421417605462,\n",
       "  'cor_pair': {0, 3},\n",
       "  'pval': 0.22661942263838031},\n",
       " {'condition': {2, 3},\n",
       "  'cor': 0.43404123641593301,\n",
       "  'cor_pair': {0, 4},\n",
       "  'pval': 0.14929301720938426},\n",
       " {'condition': {2, 3},\n",
       "  'cor': 0.43404123641593301,\n",
       "  'cor_pair': {0, 4},\n",
       "  'pval': 0.14929301720938426},\n",
       " {'condition': {0, 3},\n",
       "  'cor': -0.0075174422526670384,\n",
       "  'cor_pair': {1, 2},\n",
       "  'pval': 0.49329416447802876},\n",
       " {'condition': {0, 4},\n",
       "  'cor': 0.25318553984863712,\n",
       "  'cor_pair': {1, 2},\n",
       "  'pval': 0.28138742124222438},\n",
       " {'condition': {0, 3},\n",
       "  'cor': -0.0075174422526670158,\n",
       "  'cor_pair': {1, 2},\n",
       "  'pval': 0.49329416447802876},\n",
       " {'condition': {3, 4},\n",
       "  'cor': 0.31186196553222545,\n",
       "  'cor_pair': {1, 2},\n",
       "  'pval': 0.23534082491352226},\n",
       " {'condition': {0, 4},\n",
       "  'cor': 0.25318553984863712,\n",
       "  'cor_pair': {1, 2},\n",
       "  'pval': 0.28138742124222438},\n",
       " {'condition': {3, 4},\n",
       "  'cor': 0.31186196553222545,\n",
       "  'cor_pair': {1, 2},\n",
       "  'pval': 0.23534082491352226},\n",
       " {'condition': {0, 2},\n",
       "  'cor': 0.22738002791759765,\n",
       "  'cor_pair': {1, 3},\n",
       "  'pval': 0.30240992561000046},\n",
       " {'condition': {0, 4},\n",
       "  'cor': 0.25495900269862698,\n",
       "  'cor_pair': {1, 3},\n",
       "  'pval': 0.27995873591600251},\n",
       " {'condition': {0, 2},\n",
       "  'cor': 0.2273800279175977,\n",
       "  'cor_pair': {1, 3},\n",
       "  'pval': 0.30240992561000046},\n",
       " {'condition': {2, 4},\n",
       "  'cor': 0.23225893953080065,\n",
       "  'cor_pair': {1, 3},\n",
       "  'pval': 0.29840280222381144},\n",
       " {'condition': {0, 4},\n",
       "  'cor': 0.25495900269862698,\n",
       "  'cor_pair': {1, 3},\n",
       "  'pval': 0.27995873591600251},\n",
       " {'condition': {2, 4},\n",
       "  'cor': 0.23225893953080068,\n",
       "  'cor_pair': {1, 3},\n",
       "  'pval': 0.29840280222381144},\n",
       " {'condition': {0, 2},\n",
       "  'cor': 0.7353669981663431,\n",
       "  'cor_pair': {1, 4},\n",
       "  'pval': 0.017750002439394841},\n",
       " {'condition': {0, 3},\n",
       "  'cor': 0.71848489027894735,\n",
       "  'cor_pair': {1, 4},\n",
       "  'pval': 0.021560447145693717},\n",
       " {'condition': {0, 2},\n",
       "  'cor': 0.7353669981663431,\n",
       "  'cor_pair': {1, 4},\n",
       "  'pval': 0.017750002439394841},\n",
       " {'condition': {2, 3},\n",
       "  'cor': 0.78697873810882557,\n",
       "  'cor_pair': {1, 4},\n",
       "  'pval': 0.0087049495772284491},\n",
       " {'condition': {0, 3},\n",
       "  'cor': 0.71848489027894735,\n",
       "  'cor_pair': {1, 4},\n",
       "  'pval': 0.021560447145693717},\n",
       " {'condition': {2, 3},\n",
       "  'cor': 0.78697873810882557,\n",
       "  'cor_pair': {1, 4},\n",
       "  'pval': 0.0087049495772284491},\n",
       " {'condition': {0, 4},\n",
       "  'cor': 0.011617497936806035,\n",
       "  'cor_pair': {2, 3},\n",
       "  'pval': 0.48963717024574105},\n",
       " {'condition': {0, 4},\n",
       "  'cor': 0.011617497936806017,\n",
       "  'cor_pair': {2, 3},\n",
       "  'pval': 0.48963717024574105},\n",
       " {'condition': {0, 3},\n",
       "  'cor': -0.25285139896537517,\n",
       "  'cor_pair': {2, 4},\n",
       "  'pval': 0.28165684143366376},\n",
       " {'condition': {0, 3},\n",
       "  'cor': -0.25285139896537512,\n",
       "  'cor_pair': {2, 4},\n",
       "  'pval': 0.28165684143366376},\n",
       " {'condition': {0, 2},\n",
       "  'cor': 0.069708150840401939,\n",
       "  'cor_pair': {3, 4},\n",
       "  'pval': 0.43796709853931637},\n",
       " {'condition': {0, 2},\n",
       "  'cor': 0.069708150840401953,\n",
       "  'cor_pair': {3, 4},\n",
       "  'pval': 0.43796709853931626},\n",
       " {'condition': {2, 3, 4},\n",
       "  'cor': 0.12875428999800936,\n",
       "  'cor_pair': {0, 1},\n",
       "  'pval': 0.39783850390049547},\n",
       " {'condition': {2, 3, 4},\n",
       "  'cor': 0.12875428999800936,\n",
       "  'cor_pair': {0, 1},\n",
       "  'pval': 0.39783850390049547},\n",
       " {'condition': {2, 3, 4},\n",
       "  'cor': 0.12875428999800934,\n",
       "  'cor_pair': {0, 1},\n",
       "  'pval': 0.39783850390049558},\n",
       " {'condition': {2, 3, 4},\n",
       "  'cor': 0.12875428999800934,\n",
       "  'cor_pair': {0, 1},\n",
       "  'pval': 0.39783850390049558},\n",
       " {'condition': {2, 3, 4},\n",
       "  'cor': 0.12875428999800939,\n",
       "  'cor_pair': {0, 1},\n",
       "  'pval': 0.39783850390049547},\n",
       " {'condition': {2, 3, 4},\n",
       "  'cor': 0.12875428999800939,\n",
       "  'cor_pair': {0, 1},\n",
       "  'pval': 0.39783850390049547},\n",
       " {'condition': {0, 3, 4},\n",
       "  'cor': 0.25879307037103477,\n",
       "  'cor_pair': {1, 2},\n",
       "  'pval': 0.29818465533374205},\n",
       " {'condition': {0, 3, 4},\n",
       "  'cor': 0.25879307037103477,\n",
       "  'cor_pair': {1, 2},\n",
       "  'pval': 0.29818465533374205},\n",
       " {'condition': {0, 3, 4},\n",
       "  'cor': 0.25879307037103477,\n",
       "  'cor_pair': {1, 2},\n",
       "  'pval': 0.29818465533374205},\n",
       " {'condition': {0, 3, 4},\n",
       "  'cor': 0.25879307037103477,\n",
       "  'cor_pair': {1, 2},\n",
       "  'pval': 0.29818465533374205},\n",
       " {'condition': {0, 3, 4},\n",
       "  'cor': 0.25879307037103477,\n",
       "  'cor_pair': {1, 2},\n",
       "  'pval': 0.29818465533374205},\n",
       " {'condition': {0, 3, 4},\n",
       "  'cor': 0.25879307037103477,\n",
       "  'cor_pair': {1, 2},\n",
       "  'pval': 0.29818465533374205},\n",
       " {'condition': {0, 2, 4},\n",
       "  'cor': 0.26052305908731954,\n",
       "  'cor_pair': {1, 3},\n",
       "  'pval': 0.29689948826044588},\n",
       " {'condition': {0, 2, 4},\n",
       "  'cor': 0.26052305908731954,\n",
       "  'cor_pair': {1, 3},\n",
       "  'pval': 0.29689948826044588},\n",
       " {'condition': {0, 2, 4},\n",
       "  'cor': 0.26052305908731943,\n",
       "  'cor_pair': {1, 3},\n",
       "  'pval': 0.29689948826044588},\n",
       " {'condition': {0, 2, 4},\n",
       "  'cor': 0.26052305908731943,\n",
       "  'cor_pair': {1, 3},\n",
       "  'pval': 0.29689948826044588},\n",
       " {'condition': {0, 2, 4},\n",
       "  'cor': 0.26052305908731938,\n",
       "  'cor_pair': {1, 3},\n",
       "  'pval': 0.2968994882604461},\n",
       " {'condition': {0, 2, 4},\n",
       "  'cor': 0.26052305908731938,\n",
       "  'cor_pair': {1, 3},\n",
       "  'pval': 0.2968994882604461},\n",
       " {'condition': {0, 2, 3},\n",
       "  'cor': 0.74067239894259107,\n",
       "  'cor_pair': {1, 4},\n",
       "  'pval': 0.028459349650372778},\n",
       " {'condition': {0, 2, 3},\n",
       "  'cor': 0.74067239894259107,\n",
       "  'cor_pair': {1, 4},\n",
       "  'pval': 0.028459349650372778},\n",
       " {'condition': {0, 2, 3},\n",
       "  'cor': 0.74067239894259107,\n",
       "  'cor_pair': {1, 4},\n",
       "  'pval': 0.028459349650372778},\n",
       " {'condition': {0, 2, 3},\n",
       "  'cor': 0.74067239894259107,\n",
       "  'cor_pair': {1, 4},\n",
       "  'pval': 0.028459349650372778},\n",
       " {'condition': {0, 2, 3},\n",
       "  'cor': 0.74067239894259096,\n",
       "  'cor_pair': {1, 4},\n",
       "  'pval': 0.028459349650372778},\n",
       " {'condition': {0, 2, 3},\n",
       "  'cor': 0.74067239894259096,\n",
       "  'cor_pair': {1, 4},\n",
       "  'pval': 0.028459349650372778}]"
      ]
     },
     "execution_count": 94,
     "metadata": {},
     "output_type": "execute_result"
    }
   ],
   "source": [
    "order1"
   ]
  }
 ],
 "metadata": {
  "kernelspec": {
   "display_name": "Python [conda env:skrecipe]",
   "language": "python",
   "name": "conda-env-skrecipe-py"
  },
  "language_info": {
   "codemirror_mode": {
    "name": "ipython",
    "version": 3
   },
   "file_extension": ".py",
   "mimetype": "text/x-python",
   "name": "python",
   "nbconvert_exporter": "python",
   "pygments_lexer": "ipython3",
   "version": "3.6.2"
  }
 },
 "nbformat": 4,
 "nbformat_minor": 2
}
