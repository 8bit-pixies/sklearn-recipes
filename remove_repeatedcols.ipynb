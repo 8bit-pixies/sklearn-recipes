{
 "cells": [
  {
   "cell_type": "markdown",
   "metadata": {},
   "source": [
    "This is a simple transformer mixin which removes features that are the same"
   ]
  },
  {
   "cell_type": "code",
   "execution_count": 117,
   "metadata": {
    "collapsed": true
   },
   "outputs": [],
   "source": [
    "from sklearn.datasets import make_regression, make_classification\n",
    "\n",
    "from sklearn.pipeline import Pipeline, make_pipeline, FeatureUnion\n",
    "from sklearn.metrics.pairwise import pairwise_distances\n",
    "from sklearn.decomposition import PCA\n",
    "\n",
    "import numpy as np\n",
    "\n",
    "from sklearn.base import BaseEstimator\n",
    "from sklearn.feature_selection.base import SelectorMixin\n",
    "from sklearn.utils.validation import check_is_fitted\n"
   ]
  },
  {
   "cell_type": "code",
   "execution_count": 180,
   "metadata": {
    "collapsed": true
   },
   "outputs": [],
   "source": [
    "class RepeatedRemover(BaseEstimator, SelectorMixin):\n",
    "    \"\"\"\n",
    "    Repeated Remover removes columns that are the same.    \n",
    "    \"\"\"\n",
    "    def fit(self, X, y=None):\n",
    "        self.indices_ = np.ones(X.shape[1], dtype=np.bool)\n",
    "        \n",
    "        indx = []\n",
    "        indx_iter_list = np.triu_indices(X.shape[1], 1)\n",
    "        for i, j in zip(indx_iter_list[0].tolist(), indx_iter_list[1].tolist()):\n",
    "            if i in indx or j in indx:\n",
    "                continue\n",
    "            if np.array_equal(X[:,i], X[:, j]):\n",
    "                indx.append(j)\n",
    "        \n",
    "        self.indices_[indx] = False\n",
    "        return self\n",
    "    \n",
    "    def _get_support_mask(self):\n",
    "        check_is_fitted(self, 'indices_')\n",
    "        return self.indices_"
   ]
  },
  {
   "cell_type": "code",
   "execution_count": 181,
   "metadata": {
    "collapsed": true
   },
   "outputs": [],
   "source": [
    "class ColumnSelector(BaseEstimator, SelectorMixin):\n",
    "    \"\"\"\n",
    "    Repeated Remover removes columns that are the same.    \n",
    "    \"\"\"\n",
    "    def __init__(self, columns=[], exclude=False):\n",
    "        self.columns = columns\n",
    "        self.exclude = exclude\n",
    "    def fit(self, X, y=None):\n",
    "        if type(self.columns) is not list:\n",
    "            self.columns = [self.columns]\n",
    "        \n",
    "        self.indices_ = np.zeros(X.shape[1], dtype=np.bool)\n",
    "        indx = np.argwhere(X_df.columns.isin(self.columns)).flatten()        \n",
    "        self.indices_[indx] = True\n",
    "        \n",
    "        if self.exclude:\n",
    "            self.indices_ = ~self.indices_\n",
    "        \n",
    "        return self\n",
    "    \n",
    "    def _get_support_mask(self):\n",
    "        check_is_fitted(self, 'indices_')\n",
    "        return self.indices_"
   ]
  },
  {
   "cell_type": "code",
   "execution_count": 182,
   "metadata": {
    "collapsed": false
   },
   "outputs": [
    {
     "data": {
      "text/plain": [
       "(5, 3)"
      ]
     },
     "execution_count": 182,
     "metadata": {},
     "output_type": "execute_result"
    }
   ],
   "source": [
    "X = np.random.normal(size=(5, 3))\n",
    "X_repeat = np.hstack([X, X])\n",
    "\n",
    "rr = make_pipeline(RepeatedRemover())\n",
    "rr.fit_transform(X_repeat).shape"
   ]
  },
  {
   "cell_type": "code",
   "execution_count": 183,
   "metadata": {
    "collapsed": false
   },
   "outputs": [],
   "source": [
    "X_df = pd.DataFrame(X)\n",
    "X_df.columns = [\"col{}\".format(x) for x in range(X_df.shape[1])]"
   ]
  },
  {
   "cell_type": "code",
   "execution_count": 184,
   "metadata": {
    "collapsed": false
   },
   "outputs": [
    {
     "data": {
      "text/plain": [
       "(5, 1)"
      ]
     },
     "execution_count": 184,
     "metadata": {},
     "output_type": "execute_result"
    }
   ],
   "source": [
    "cs = ColumnSelector(['col1'])\n",
    "cs.fit_transform(X_df).shape"
   ]
  },
  {
   "cell_type": "code",
   "execution_count": 185,
   "metadata": {
    "collapsed": false
   },
   "outputs": [
    {
     "data": {
      "text/plain": [
       "(5, 2)"
      ]
     },
     "execution_count": 185,
     "metadata": {},
     "output_type": "execute_result"
    }
   ],
   "source": [
    "cs = ColumnSelector(['col1'], exclude=True)\n",
    "cs.fit_transform(X_df).shape"
   ]
  },
  {
   "cell_type": "markdown",
   "metadata": {},
   "source": [
    "We can force a column to be selected regardless of the previous step through `FeatureUnion`. Combining this with `RepeatedRemover` should ensure that the following dataset does not have duplicates."
   ]
  },
  {
   "cell_type": "code",
   "execution_count": 186,
   "metadata": {
    "collapsed": true
   },
   "outputs": [],
   "source": [
    "from sklearn.datasets import load_iris\n",
    "from sklearn.feature_selection import SelectKBest, chi2"
   ]
  },
  {
   "cell_type": "code",
   "execution_count": 187,
   "metadata": {
    "collapsed": true
   },
   "outputs": [],
   "source": [
    "iris = load_iris()\n",
    "X, y = iris.data, iris.target"
   ]
  },
  {
   "cell_type": "code",
   "execution_count": 188,
   "metadata": {
    "collapsed": false
   },
   "outputs": [],
   "source": [
    "X_df = pd.DataFrame(X)\n",
    "X_df.columns = iris.feature_names"
   ]
  },
  {
   "cell_type": "code",
   "execution_count": 189,
   "metadata": {
    "collapsed": false
   },
   "outputs": [
    {
     "data": {
      "text/plain": [
       "SelectKBest(k=2, score_func=<function chi2 at 0x0000026E16329C80>)"
      ]
     },
     "execution_count": 189,
     "metadata": {},
     "output_type": "execute_result"
    }
   ],
   "source": [
    "sk = SelectKBest(chi2, k=2)\n",
    "sk.fit(X_df, y)"
   ]
  },
  {
   "cell_type": "code",
   "execution_count": 190,
   "metadata": {
    "collapsed": false
   },
   "outputs": [
    {
     "data": {
      "text/plain": [
       "array([False, False,  True,  True], dtype=bool)"
      ]
     },
     "execution_count": 190,
     "metadata": {},
     "output_type": "execute_result"
    }
   ],
   "source": [
    "sk.get_support()"
   ]
  },
  {
   "cell_type": "code",
   "execution_count": 191,
   "metadata": {
    "collapsed": false
   },
   "outputs": [
    {
     "data": {
      "text/plain": [
       "Index(['petal length (cm)', 'petal width (cm)'], dtype='object')"
      ]
     },
     "execution_count": 191,
     "metadata": {},
     "output_type": "execute_result"
    }
   ],
   "source": [
    "X_df.columns[sk.get_support()]"
   ]
  },
  {
   "cell_type": "code",
   "execution_count": 192,
   "metadata": {
    "collapsed": false
   },
   "outputs": [],
   "source": [
    "# now grab `sepal length (cm)` and `petal length (cm)`\n",
    "feat_sel = FeatureUnion([\n",
    "        ('sk', SelectKBest(chi2, k=2)), \n",
    "        ('force_sel', ColumnSelector(['sepal width (cm)', 'petal length (cm)']))\n",
    "    ])\n",
    "feat_sel.fit(X_df, y)\n",
    "\n",
    "X_check = feat_sel.transform(X_df)"
   ]
  },
  {
   "cell_type": "code",
   "execution_count": 193,
   "metadata": {
    "collapsed": false
   },
   "outputs": [
    {
     "data": {
      "text/plain": [
       "array([[ 1.4,  0.2,  3.5,  1.4],\n",
       "       [ 1.4,  0.2,  3. ,  1.4],\n",
       "       [ 1.3,  0.2,  3.2,  1.3],\n",
       "       [ 1.5,  0.2,  3.1,  1.5],\n",
       "       [ 1.4,  0.2,  3.6,  1.4],\n",
       "       [ 1.7,  0.4,  3.9,  1.7],\n",
       "       [ 1.4,  0.3,  3.4,  1.4],\n",
       "       [ 1.5,  0.2,  3.4,  1.5],\n",
       "       [ 1.4,  0.2,  2.9,  1.4],\n",
       "       [ 1.5,  0.1,  3.1,  1.5],\n",
       "       [ 1.5,  0.2,  3.7,  1.5],\n",
       "       [ 1.6,  0.2,  3.4,  1.6],\n",
       "       [ 1.4,  0.1,  3. ,  1.4],\n",
       "       [ 1.1,  0.1,  3. ,  1.1],\n",
       "       [ 1.2,  0.2,  4. ,  1.2],\n",
       "       [ 1.5,  0.4,  4.4,  1.5],\n",
       "       [ 1.3,  0.4,  3.9,  1.3],\n",
       "       [ 1.4,  0.3,  3.5,  1.4],\n",
       "       [ 1.7,  0.3,  3.8,  1.7],\n",
       "       [ 1.5,  0.3,  3.8,  1.5],\n",
       "       [ 1.7,  0.2,  3.4,  1.7],\n",
       "       [ 1.5,  0.4,  3.7,  1.5],\n",
       "       [ 1. ,  0.2,  3.6,  1. ],\n",
       "       [ 1.7,  0.5,  3.3,  1.7],\n",
       "       [ 1.9,  0.2,  3.4,  1.9],\n",
       "       [ 1.6,  0.2,  3. ,  1.6],\n",
       "       [ 1.6,  0.4,  3.4,  1.6],\n",
       "       [ 1.5,  0.2,  3.5,  1.5],\n",
       "       [ 1.4,  0.2,  3.4,  1.4],\n",
       "       [ 1.6,  0.2,  3.2,  1.6],\n",
       "       [ 1.6,  0.2,  3.1,  1.6],\n",
       "       [ 1.5,  0.4,  3.4,  1.5],\n",
       "       [ 1.5,  0.1,  4.1,  1.5],\n",
       "       [ 1.4,  0.2,  4.2,  1.4],\n",
       "       [ 1.5,  0.1,  3.1,  1.5],\n",
       "       [ 1.2,  0.2,  3.2,  1.2],\n",
       "       [ 1.3,  0.2,  3.5,  1.3],\n",
       "       [ 1.5,  0.1,  3.1,  1.5],\n",
       "       [ 1.3,  0.2,  3. ,  1.3],\n",
       "       [ 1.5,  0.2,  3.4,  1.5],\n",
       "       [ 1.3,  0.3,  3.5,  1.3],\n",
       "       [ 1.3,  0.3,  2.3,  1.3],\n",
       "       [ 1.3,  0.2,  3.2,  1.3],\n",
       "       [ 1.6,  0.6,  3.5,  1.6],\n",
       "       [ 1.9,  0.4,  3.8,  1.9],\n",
       "       [ 1.4,  0.3,  3. ,  1.4],\n",
       "       [ 1.6,  0.2,  3.8,  1.6],\n",
       "       [ 1.4,  0.2,  3.2,  1.4],\n",
       "       [ 1.5,  0.2,  3.7,  1.5],\n",
       "       [ 1.4,  0.2,  3.3,  1.4],\n",
       "       [ 4.7,  1.4,  3.2,  4.7],\n",
       "       [ 4.5,  1.5,  3.2,  4.5],\n",
       "       [ 4.9,  1.5,  3.1,  4.9],\n",
       "       [ 4. ,  1.3,  2.3,  4. ],\n",
       "       [ 4.6,  1.5,  2.8,  4.6],\n",
       "       [ 4.5,  1.3,  2.8,  4.5],\n",
       "       [ 4.7,  1.6,  3.3,  4.7],\n",
       "       [ 3.3,  1. ,  2.4,  3.3],\n",
       "       [ 4.6,  1.3,  2.9,  4.6],\n",
       "       [ 3.9,  1.4,  2.7,  3.9],\n",
       "       [ 3.5,  1. ,  2. ,  3.5],\n",
       "       [ 4.2,  1.5,  3. ,  4.2],\n",
       "       [ 4. ,  1. ,  2.2,  4. ],\n",
       "       [ 4.7,  1.4,  2.9,  4.7],\n",
       "       [ 3.6,  1.3,  2.9,  3.6],\n",
       "       [ 4.4,  1.4,  3.1,  4.4],\n",
       "       [ 4.5,  1.5,  3. ,  4.5],\n",
       "       [ 4.1,  1. ,  2.7,  4.1],\n",
       "       [ 4.5,  1.5,  2.2,  4.5],\n",
       "       [ 3.9,  1.1,  2.5,  3.9],\n",
       "       [ 4.8,  1.8,  3.2,  4.8],\n",
       "       [ 4. ,  1.3,  2.8,  4. ],\n",
       "       [ 4.9,  1.5,  2.5,  4.9],\n",
       "       [ 4.7,  1.2,  2.8,  4.7],\n",
       "       [ 4.3,  1.3,  2.9,  4.3],\n",
       "       [ 4.4,  1.4,  3. ,  4.4],\n",
       "       [ 4.8,  1.4,  2.8,  4.8],\n",
       "       [ 5. ,  1.7,  3. ,  5. ],\n",
       "       [ 4.5,  1.5,  2.9,  4.5],\n",
       "       [ 3.5,  1. ,  2.6,  3.5],\n",
       "       [ 3.8,  1.1,  2.4,  3.8],\n",
       "       [ 3.7,  1. ,  2.4,  3.7],\n",
       "       [ 3.9,  1.2,  2.7,  3.9],\n",
       "       [ 5.1,  1.6,  2.7,  5.1],\n",
       "       [ 4.5,  1.5,  3. ,  4.5],\n",
       "       [ 4.5,  1.6,  3.4,  4.5],\n",
       "       [ 4.7,  1.5,  3.1,  4.7],\n",
       "       [ 4.4,  1.3,  2.3,  4.4],\n",
       "       [ 4.1,  1.3,  3. ,  4.1],\n",
       "       [ 4. ,  1.3,  2.5,  4. ],\n",
       "       [ 4.4,  1.2,  2.6,  4.4],\n",
       "       [ 4.6,  1.4,  3. ,  4.6],\n",
       "       [ 4. ,  1.2,  2.6,  4. ],\n",
       "       [ 3.3,  1. ,  2.3,  3.3],\n",
       "       [ 4.2,  1.3,  2.7,  4.2],\n",
       "       [ 4.2,  1.2,  3. ,  4.2],\n",
       "       [ 4.2,  1.3,  2.9,  4.2],\n",
       "       [ 4.3,  1.3,  2.9,  4.3],\n",
       "       [ 3. ,  1.1,  2.5,  3. ],\n",
       "       [ 4.1,  1.3,  2.8,  4.1],\n",
       "       [ 6. ,  2.5,  3.3,  6. ],\n",
       "       [ 5.1,  1.9,  2.7,  5.1],\n",
       "       [ 5.9,  2.1,  3. ,  5.9],\n",
       "       [ 5.6,  1.8,  2.9,  5.6],\n",
       "       [ 5.8,  2.2,  3. ,  5.8],\n",
       "       [ 6.6,  2.1,  3. ,  6.6],\n",
       "       [ 4.5,  1.7,  2.5,  4.5],\n",
       "       [ 6.3,  1.8,  2.9,  6.3],\n",
       "       [ 5.8,  1.8,  2.5,  5.8],\n",
       "       [ 6.1,  2.5,  3.6,  6.1],\n",
       "       [ 5.1,  2. ,  3.2,  5.1],\n",
       "       [ 5.3,  1.9,  2.7,  5.3],\n",
       "       [ 5.5,  2.1,  3. ,  5.5],\n",
       "       [ 5. ,  2. ,  2.5,  5. ],\n",
       "       [ 5.1,  2.4,  2.8,  5.1],\n",
       "       [ 5.3,  2.3,  3.2,  5.3],\n",
       "       [ 5.5,  1.8,  3. ,  5.5],\n",
       "       [ 6.7,  2.2,  3.8,  6.7],\n",
       "       [ 6.9,  2.3,  2.6,  6.9],\n",
       "       [ 5. ,  1.5,  2.2,  5. ],\n",
       "       [ 5.7,  2.3,  3.2,  5.7],\n",
       "       [ 4.9,  2. ,  2.8,  4.9],\n",
       "       [ 6.7,  2. ,  2.8,  6.7],\n",
       "       [ 4.9,  1.8,  2.7,  4.9],\n",
       "       [ 5.7,  2.1,  3.3,  5.7],\n",
       "       [ 6. ,  1.8,  3.2,  6. ],\n",
       "       [ 4.8,  1.8,  2.8,  4.8],\n",
       "       [ 4.9,  1.8,  3. ,  4.9],\n",
       "       [ 5.6,  2.1,  2.8,  5.6],\n",
       "       [ 5.8,  1.6,  3. ,  5.8],\n",
       "       [ 6.1,  1.9,  2.8,  6.1],\n",
       "       [ 6.4,  2. ,  3.8,  6.4],\n",
       "       [ 5.6,  2.2,  2.8,  5.6],\n",
       "       [ 5.1,  1.5,  2.8,  5.1],\n",
       "       [ 5.6,  1.4,  2.6,  5.6],\n",
       "       [ 6.1,  2.3,  3. ,  6.1],\n",
       "       [ 5.6,  2.4,  3.4,  5.6],\n",
       "       [ 5.5,  1.8,  3.1,  5.5],\n",
       "       [ 4.8,  1.8,  3. ,  4.8],\n",
       "       [ 5.4,  2.1,  3.1,  5.4],\n",
       "       [ 5.6,  2.4,  3.1,  5.6],\n",
       "       [ 5.1,  2.3,  3.1,  5.1],\n",
       "       [ 5.1,  1.9,  2.7,  5.1],\n",
       "       [ 5.9,  2.3,  3.2,  5.9],\n",
       "       [ 5.7,  2.5,  3.3,  5.7],\n",
       "       [ 5.2,  2.3,  3. ,  5.2],\n",
       "       [ 5. ,  1.9,  2.5,  5. ],\n",
       "       [ 5.2,  2. ,  3. ,  5.2],\n",
       "       [ 5.4,  2.3,  3.4,  5.4],\n",
       "       [ 5.1,  1.8,  3. ,  5.1]])"
      ]
     },
     "execution_count": 193,
     "metadata": {},
     "output_type": "execute_result"
    }
   ],
   "source": [
    "# this object has two columns which are now the same...\n",
    "X_check"
   ]
  },
  {
   "cell_type": "code",
   "execution_count": 194,
   "metadata": {
    "collapsed": false
   },
   "outputs": [
    {
     "data": {
      "text/plain": [
       "(150, 3)"
      ]
     },
     "execution_count": 194,
     "metadata": {},
     "output_type": "execute_result"
    }
   ],
   "source": [
    "feat_sel = Pipeline([('feature_sel', FeatureUnion([\n",
    "        ('sk', SelectKBest(chi2, k=2)), \n",
    "        ('force_sel', ColumnSelector(['sepal width (cm)', 'petal length (cm)']))\n",
    "    ])), \n",
    "        ('remover', RepeatedRemover())])\n",
    "feat_sel.fit(X_df, y)\n",
    "X_check = feat_sel.transform(X_df)\n",
    "X_check.shape # should be 3"
   ]
  }
 ],
 "metadata": {
  "anaconda-cloud": {},
  "kernelspec": {
   "display_name": "Python [default]",
   "language": "python",
   "name": "python3"
  },
  "language_info": {
   "codemirror_mode": {
    "name": "ipython",
    "version": 3
   },
   "file_extension": ".py",
   "mimetype": "text/x-python",
   "name": "python",
   "nbconvert_exporter": "python",
   "pygments_lexer": "ipython3",
   "version": "3.5.2"
  }
 },
 "nbformat": 4,
 "nbformat_minor": 1
}
