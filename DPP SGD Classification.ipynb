{
 "cells": [
  {
   "cell_type": "code",
   "execution_count": 1,
   "metadata": {
    "collapsed": true
   },
   "outputs": [],
   "source": [
    "import sklearn"
   ]
  },
  {
   "cell_type": "code",
   "execution_count": 2,
   "metadata": {
    "collapsed": true
   },
   "outputs": [],
   "source": [
    "from sklearn.datasets import make_classification\n",
    "from sklearn.linear_model import SGDClassifier\n",
    "\n",
    "import pandas as pd\n",
    "import numpy as np"
   ]
  },
  {
   "cell_type": "code",
   "execution_count": 7,
   "metadata": {
    "collapsed": true
   },
   "outputs": [],
   "source": [
    "X, y = make_classification()\n",
    "pdf = pd.DataFrame(X)\n",
    "pdf.columns = ['c{}'.format(x) for x in range(X.shape[1])]"
   ]
  },
  {
   "cell_type": "code",
   "execution_count": 8,
   "metadata": {},
   "outputs": [
    {
     "data": {
      "text/plain": [
       "(100, 20)"
      ]
     },
     "execution_count": 8,
     "metadata": {},
     "output_type": "execute_result"
    }
   ],
   "source": [
    "X.shape"
   ]
  },
  {
   "cell_type": "code",
   "execution_count": 9,
   "metadata": {
    "collapsed": true
   },
   "outputs": [],
   "source": [
    "X1 = pdf[['c{}'.format(x) for x in range(10, 20)]]\n",
    "X2 = pdf[['c{}'.format(x) for x in range(10)]]"
   ]
  },
  {
   "cell_type": "code",
   "execution_count": 37,
   "metadata": {
    "collapsed": true
   },
   "outputs": [],
   "source": [
    "\"\"\"\n",
    "Implement DPP version that is similar to what is done above\n",
    "\"\"\"\n",
    "\n",
    "class DPPRegressor(SGDRegressor):\n",
    "    def __init__(self, loss=\"squared_loss\", penalty=\"l2\", alpha=0.0001,\n",
    "                 l1_ratio=0.15, fit_intercept=True, max_iter=None, tol=None,\n",
    "                 shuffle=True, verbose=0, epsilon=0.1,\n",
    "                 random_state=None, learning_rate=\"invscaling\", eta0=0.01,\n",
    "                 power_t=0.25, warm_start=False, average=False, n_iter=None, reg_penalty=None):\n",
    "        super(GraftingRegressor, self).__init__(loss=loss, penalty=penalty,\n",
    "                                           alpha=alpha, l1_ratio=l1_ratio,\n",
    "                                           fit_intercept=fit_intercept,\n",
    "                                           max_iter=max_iter, tol=tol,\n",
    "                                           shuffle=shuffle,\n",
    "                                           verbose=verbose,\n",
    "                                           epsilon=epsilon,\n",
    "                                           random_state=random_state,\n",
    "                                           learning_rate=learning_rate,\n",
    "                                           eta0=eta0, power_t=power_t,\n",
    "                                           warm_start=warm_start,\n",
    "                                           average=average, n_iter=n_iter)\n",
    "        self.filter_cols = []\n",
    "        self.base_shape = None\n",
    "        self.reg_penalty = reg_penalty if reg_penalty is not None else l1_ratio\n",
    "    \n",
    "    def _fit_columns(self, X, return_x=True):\n",
    "        \"\"\"\n",
    "        Method filter through \"unselected\" columns. The goal of this \n",
    "        method is to filter any uninformative columns.\n",
    "        \n",
    "        This will be selected based on index only?\n",
    "        \n",
    "        If return_x is false, it will only return the boolean mask.\n",
    "        \"\"\"\n",
    "        import pandas\n",
    "        bool_mask = np.ones((X.shape[1],), dtype=np.bool)\n",
    "        if len(self.filter_cols) == 0:\n",
    "            if return_x:\n",
    "                return X\n",
    "            else:\n",
    "                return bool_mask\n",
    "        # otherwise...\n",
    "        bool_mask[self.filter_cols] = False\n",
    "        if not return_x:\n",
    "            return bool_mask\n",
    "        if type(X) is pandas.core.frame.DataFrame:\n",
    "            return X[X.columns[bool_mask]]\n",
    "        else:\n",
    "            return X[:, bool_mask]\n",
    "    \n",
    "    def _reg_penalty(self):\n",
    "        bool_mask = np.zeros((self.coef_.shape[0],), dtype=np.bool)\n",
    "        keep_cols = np.argwhere(np.abs(self.coef_) > self.reg_penalty)        \n",
    "        mask = np.array(list(set(keep_cols.flatten().tolist() + list(range(self.base_shape)))))\n",
    "        self.coef_ = self.coef_[mask]\n",
    "        bool_mask[mask] = True\n",
    "        self.filter_cols = np.argwhere(~bool_mask).flatten().tolist()        \n",
    "    \n",
    "    def _partial_grafting_fit(self, X, y):\n",
    "        \"\"\"\n",
    "        Partial fit grafting method to expand the coefficient listing\n",
    "        to taking into account new coefficients\n",
    "        \"\"\"\n",
    "        # require to know the base shape to determine/\n",
    "        # check for irrelevant columns in the future.\n",
    "        self.base_shape = self.coef_.shape[0]\n",
    "        \n",
    "        X = self._fit_columns(X)\n",
    "        n_samples, n_features = X.shape\n",
    "        coef_list = np.zeros(n_features, dtype=np.float64, order=\"C\")\n",
    "        coef_list[:self.coef_.shape[0]] = self.coef_.copy()\n",
    "        self.coef_ = coef_list.copy()\n",
    "        \n",
    "    def partial_fit(self, X, y, sample_weight=None):\n",
    "        self._partial_grafting_fit(X, y)\n",
    "        super(GraftingRegressor, self).partial_fit(X, y, sample_weight=None)  \n",
    "        \n",
    "        # update parameters based on weight of regularizer penalty\n",
    "        self._reg_penalty()\n",
    "        return self\n",
    "    \n",
    "    def predict(self, X):\n",
    "        X = self._fit_columns(X)\n",
    "        return super(GraftingRegressor, self).predict(X)        "
   ]
  },
  {
   "cell_type": "code",
   "execution_count": 38,
   "metadata": {},
   "outputs": [
    {
     "data": {
      "text/plain": [
       "GraftingClassifier(alpha=0.0001, average=False, class_weight=None,\n",
       "          epsilon=0.1, eta0=0.0, fit_intercept=True, l1_ratio=0.15,\n",
       "          learning_rate='optimal', loss='log', max_iter=1000, n_iter=None,\n",
       "          n_jobs=1, penalty='l2', power_t=0.5, random_state=None,\n",
       "          reg_penalty=0.15, shuffle=True, tol=None, verbose=0,\n",
       "          warm_start=False)"
      ]
     },
     "execution_count": 38,
     "metadata": {},
     "output_type": "execute_result"
    }
   ],
   "source": [
    "model = GraftingClassifier(max_iter=1000)\n",
    "model.fit(X1, y)"
   ]
  },
  {
   "cell_type": "code",
   "execution_count": 39,
   "metadata": {},
   "outputs": [
    {
     "data": {
      "text/plain": [
       "(1, 10)"
      ]
     },
     "execution_count": 39,
     "metadata": {},
     "output_type": "execute_result"
    }
   ],
   "source": [
    "model.coef_.shape"
   ]
  },
  {
   "cell_type": "code",
   "execution_count": 40,
   "metadata": {},
   "outputs": [
    {
     "data": {
      "text/plain": [
       "GraftingClassifier(alpha=0.0001, average=False, class_weight=None,\n",
       "          epsilon=0.1, eta0=0.0, fit_intercept=True, l1_ratio=0.15,\n",
       "          learning_rate='optimal', loss='log', max_iter=1000, n_iter=None,\n",
       "          n_jobs=1, penalty='l2', power_t=0.5, random_state=None,\n",
       "          reg_penalty=0.15, shuffle=True, tol=None, verbose=0,\n",
       "          warm_start=False)"
      ]
     },
     "execution_count": 40,
     "metadata": {},
     "output_type": "execute_result"
    }
   ],
   "source": [
    "model.partial_fit(pdf, y)"
   ]
  },
  {
   "cell_type": "code",
   "execution_count": 41,
   "metadata": {},
   "outputs": [
    {
     "data": {
      "text/plain": [
       "(1, 20)"
      ]
     },
     "execution_count": 41,
     "metadata": {},
     "output_type": "execute_result"
    }
   ],
   "source": [
    "model.coef_.shape"
   ]
  },
  {
   "cell_type": "code",
   "execution_count": 42,
   "metadata": {},
   "outputs": [
    {
     "data": {
      "text/plain": [
       "array([[  5.37347944e-14,   1.00000000e+00],\n",
       "       [  1.00000000e+00,   4.51335214e-21],\n",
       "       [  5.39579439e-05,   9.99946042e-01],\n",
       "       [  9.99976621e-01,   2.33790698e-05],\n",
       "       [  1.55368414e-03,   9.98446316e-01],\n",
       "       [  9.75326194e-01,   2.46738060e-02],\n",
       "       [  8.49456302e-08,   9.99999915e-01],\n",
       "       [  9.99978273e-01,   2.17274956e-05],\n",
       "       [  9.70334924e-14,   1.00000000e+00],\n",
       "       [  9.66951208e-01,   3.30487919e-02],\n",
       "       [  1.00000000e+00,   3.78305735e-13],\n",
       "       [  9.71810374e-01,   2.81896263e-02],\n",
       "       [  9.29884757e-01,   7.01152432e-02],\n",
       "       [  6.86451926e-01,   3.13548074e-01],\n",
       "       [  1.81199463e-04,   9.99818801e-01],\n",
       "       [  3.74383014e-03,   9.96256170e-01],\n",
       "       [  3.00435295e-02,   9.69956471e-01],\n",
       "       [  4.14297553e-01,   5.85702447e-01],\n",
       "       [  5.72559674e-02,   9.42744033e-01],\n",
       "       [  9.99999240e-01,   7.60215751e-07],\n",
       "       [  5.45302581e-09,   9.99999995e-01],\n",
       "       [  9.99999999e-01,   8.65502584e-10],\n",
       "       [  9.26192435e-01,   7.38075653e-02],\n",
       "       [  9.99975251e-01,   2.47485762e-05],\n",
       "       [  5.67272320e-01,   4.32727680e-01],\n",
       "       [  1.43226186e-09,   9.99999999e-01],\n",
       "       [  9.99973856e-01,   2.61439620e-05],\n",
       "       [  1.76104744e-03,   9.98238953e-01],\n",
       "       [  4.18936663e-10,   1.00000000e+00],\n",
       "       [  0.00000000e+00,   1.00000000e+00],\n",
       "       [  4.92734255e-04,   9.99507266e-01],\n",
       "       [  8.74657282e-01,   1.25342718e-01],\n",
       "       [  3.17920668e-02,   9.68207933e-01],\n",
       "       [  3.66127190e-04,   9.99633873e-01],\n",
       "       [  7.37063743e-10,   9.99999999e-01],\n",
       "       [  9.98445882e-01,   1.55411845e-03],\n",
       "       [  9.99256099e-01,   7.43900722e-04],\n",
       "       [  1.76125743e-03,   9.98238743e-01],\n",
       "       [  9.99999840e-01,   1.60036365e-07],\n",
       "       [  8.86763636e-07,   9.99999113e-01],\n",
       "       [  9.99916320e-01,   8.36804550e-05],\n",
       "       [  9.99796324e-01,   2.03676021e-04],\n",
       "       [  0.00000000e+00,   1.00000000e+00],\n",
       "       [  1.00000000e+00,   6.80167912e-14],\n",
       "       [  9.93692199e-01,   6.30780144e-03],\n",
       "       [  4.88590890e-01,   5.11409110e-01],\n",
       "       [  2.82018877e-04,   9.99717981e-01],\n",
       "       [  1.00000000e+00,   5.45487050e-14],\n",
       "       [  9.99996492e-01,   3.50789542e-06],\n",
       "       [  9.31836608e-01,   6.81633922e-02],\n",
       "       [  6.65911102e-01,   3.34088898e-01],\n",
       "       [  1.81022382e-03,   9.98189776e-01],\n",
       "       [  1.02292822e-01,   8.97707178e-01],\n",
       "       [  1.86864968e-10,   1.00000000e+00],\n",
       "       [  9.99999677e-01,   3.22802915e-07],\n",
       "       [  2.33603270e-09,   9.99999998e-01],\n",
       "       [  1.01484583e-01,   8.98515417e-01],\n",
       "       [  0.00000000e+00,   1.00000000e+00],\n",
       "       [  8.39647759e-01,   1.60352241e-01],\n",
       "       [  6.28931482e-01,   3.71068518e-01],\n",
       "       [  3.32584601e-06,   9.99996674e-01],\n",
       "       [  7.72365090e-01,   2.27634910e-01],\n",
       "       [  1.00000000e+00,   2.19392835e-16],\n",
       "       [  9.99999992e-01,   7.98197165e-09],\n",
       "       [  2.41370990e-09,   9.99999998e-01],\n",
       "       [  1.43995430e-05,   9.99985600e-01],\n",
       "       [  9.93581447e-01,   6.41855342e-03],\n",
       "       [  1.12482975e-02,   9.88751703e-01],\n",
       "       [  1.00000000e+00,   6.36947697e-14],\n",
       "       [  7.25957516e-06,   9.99992740e-01],\n",
       "       [  1.00000000e+00,   1.25866571e-11],\n",
       "       [  1.00000000e+00,   1.88532785e-11],\n",
       "       [  2.89601805e-04,   9.99710398e-01],\n",
       "       [  2.23299659e-05,   9.99977670e-01],\n",
       "       [  3.41433936e-05,   9.99965857e-01],\n",
       "       [  6.97528623e-06,   9.99993025e-01],\n",
       "       [  1.00000000e+00,   2.54769366e-13],\n",
       "       [  9.99025850e-01,   9.74149645e-04],\n",
       "       [  6.51584756e-01,   3.48415244e-01],\n",
       "       [  8.53884779e-01,   1.46115221e-01],\n",
       "       [  1.00000000e+00,   1.73443531e-13],\n",
       "       [  8.08908496e-13,   1.00000000e+00],\n",
       "       [  1.00000000e+00,   7.71528308e-17],\n",
       "       [  9.99774094e-01,   2.25905505e-04],\n",
       "       [  7.36260148e-01,   2.63739852e-01],\n",
       "       [  1.24015217e-04,   9.99875985e-01],\n",
       "       [  7.37935966e-01,   2.62064034e-01],\n",
       "       [  5.14894728e-02,   9.48510527e-01],\n",
       "       [  9.99981969e-01,   1.80310471e-05],\n",
       "       [  3.31027199e-07,   9.99999669e-01],\n",
       "       [  9.99999963e-01,   3.68754239e-08],\n",
       "       [  2.29861237e-05,   9.99977014e-01],\n",
       "       [  5.63617778e-02,   9.43638222e-01],\n",
       "       [  1.15855769e-02,   9.88414423e-01],\n",
       "       [  9.99999987e-01,   1.34860128e-08],\n",
       "       [  3.08903286e-01,   6.91096714e-01],\n",
       "       [  8.52381939e-01,   1.47618061e-01],\n",
       "       [  2.85172868e-02,   9.71482713e-01],\n",
       "       [  5.73329125e-01,   4.26670875e-01],\n",
       "       [  2.58269339e-09,   9.99999997e-01]])"
      ]
     },
     "execution_count": 42,
     "metadata": {},
     "output_type": "execute_result"
    }
   ],
   "source": [
    "model.predict_proba(pdf)"
   ]
  }
 ],
 "metadata": {
  "kernelspec": {
   "display_name": "Python [default]",
   "language": "python",
   "name": "python3"
  },
  "language_info": {
   "codemirror_mode": {
    "name": "ipython",
    "version": 3
   },
   "file_extension": ".py",
   "mimetype": "text/x-python",
   "name": "python",
   "nbconvert_exporter": "python",
   "pygments_lexer": "ipython3",
   "version": "3.5.2"
  }
 },
 "nbformat": 4,
 "nbformat_minor": 2
}
