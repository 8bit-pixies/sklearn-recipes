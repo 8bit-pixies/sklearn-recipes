{
 "cells": [
  {
   "cell_type": "code",
   "execution_count": 1,
   "metadata": {
    "collapsed": true
   },
   "outputs": [],
   "source": [
    "import sklearn"
   ]
  },
  {
   "cell_type": "code",
   "execution_count": 2,
   "metadata": {
    "collapsed": true
   },
   "outputs": [],
   "source": [
    "from sklearn.datasets import make_regression\n",
    "from sklearn.linear_model import SGDRegressor\n",
    "\n",
    "import pandas as pd\n",
    "import numpy as np"
   ]
  },
  {
   "cell_type": "code",
   "execution_count": 3,
   "metadata": {
    "collapsed": true
   },
   "outputs": [],
   "source": [
    "X, y = make_regression()\n",
    "pdf = pd.DataFrame(X)\n",
    "pdf.columns = ['c{}'.format(x) for x in range(100)]"
   ]
  },
  {
   "cell_type": "code",
   "execution_count": 4,
   "metadata": {},
   "outputs": [
    {
     "data": {
      "text/plain": [
       "(100, 100)"
      ]
     },
     "execution_count": 4,
     "metadata": {},
     "output_type": "execute_result"
    }
   ],
   "source": [
    "X.shape"
   ]
  },
  {
   "cell_type": "code",
   "execution_count": 5,
   "metadata": {
    "collapsed": true
   },
   "outputs": [],
   "source": [
    "X1 = pdf[['c{}'.format(x) for x in range(50, 100)]]\n",
    "X2 = pdf[['c{}'.format(x) for x in range(50)]]"
   ]
  },
  {
   "cell_type": "code",
   "execution_count": 103,
   "metadata": {
    "collapsed": true
   },
   "outputs": [],
   "source": [
    "class GraftingRegressor(SGDRegressor):\n",
    "    def __init__(self, loss=\"squared_loss\", penalty=\"l2\", alpha=0.0001,\n",
    "                 l1_ratio=0.15, fit_intercept=True, max_iter=None, tol=None,\n",
    "                 shuffle=True, verbose=0, epsilon=0.1,\n",
    "                 random_state=None, learning_rate=\"invscaling\", eta0=0.01,\n",
    "                 power_t=0.25, warm_start=False, average=False, n_iter=None, reg_penalty=None):\n",
    "        super(GraftingRegressor, self).__init__(loss=loss, penalty=penalty,\n",
    "                                           alpha=alpha, l1_ratio=l1_ratio,\n",
    "                                           fit_intercept=fit_intercept,\n",
    "                                           max_iter=max_iter, tol=tol,\n",
    "                                           shuffle=shuffle,\n",
    "                                           verbose=verbose,\n",
    "                                           epsilon=epsilon,\n",
    "                                           random_state=random_state,\n",
    "                                           learning_rate=learning_rate,\n",
    "                                           eta0=eta0, power_t=power_t,\n",
    "                                           warm_start=warm_start,\n",
    "                                           average=average, n_iter=n_iter)\n",
    "        self.filter_cols = []\n",
    "        self.base_shape = None\n",
    "        self.reg_penalty = reg_penalty if reg_penalty is not None else l1_ratio\n",
    "    \n",
    "    def _fit_columns(self, X, return_x=True):\n",
    "        \"\"\"\n",
    "        Method filter through \"unselected\" columns. The goal of this \n",
    "        method is to filter any uninformative columns.\n",
    "        \n",
    "        This will be selected based on index only?\n",
    "        \n",
    "        If return_x is false, it will only return the boolean mask.\n",
    "        \"\"\"\n",
    "        import pandas\n",
    "        bool_mask = np.ones((X.shape[1],), dtype=np.bool)\n",
    "        if len(self.filter_cols) == 0:\n",
    "            if return_x:\n",
    "                return X\n",
    "            else:\n",
    "                return bool_mask\n",
    "        # otherwise...\n",
    "        bool_mask[self.filter_cols] = False\n",
    "        if not return_x:\n",
    "            return bool_mask\n",
    "        if type(X) is pandas.core.frame.DataFrame:\n",
    "            return X[X.columns[bool_mask]]\n",
    "        else:\n",
    "            return X[:, bool_mask]\n",
    "    \n",
    "    def _reg_penalty(self, tot_new_feats, base_size):        \n",
    "        remove_cols = np.argwhere(np.abs(self.coef_[-tot_new_feats:]) < self.reg_penalty)\n",
    "        add_cols = np.argwhere(np.abs(self.coef_[-tot_new_feats:]) >= self.reg_penalty)\n",
    "        base_coef = self.coef_[:-tot_new_feats].tolist()\n",
    "        # adding new coefs\n",
    "        base_coef = base_coef + self.coef_[-tot_new_feats:][add_cols].flatten().tolist()\n",
    "        self.coef_ = np.array(base_coef)\n",
    "        remove_cols_offset = [base_size + x for x in remove_cols]\n",
    "        self.filter_cols.append(remove_cols_offset)\n",
    "    \n",
    "    def _partial_grafting_fit(self, X_, y):\n",
    "        \"\"\"\n",
    "        Partial fit grafting method to expand the coefficient listing\n",
    "        to taking into account new coefficients\n",
    "        \"\"\"\n",
    "        # require to know the base shape to determine/\n",
    "        # check for irrelevant columns in the future.\n",
    "        self.base_shape = self.coef_.shape[0]\n",
    "        \n",
    "        X = self._fit_columns(X_)\n",
    "        n_samples, n_features = X.shape\n",
    "        coef_list = np.zeros(n_features, dtype=np.float64, order=\"C\")\n",
    "        coef_list[:self.coef_.shape[0]] = self.coef_.copy()\n",
    "        self.coef_ = coef_list.copy()\n",
    "        \n",
    "    def partial_fit(self, X, y, sample_weight=None):\n",
    "        base_size = len(self.filter_cols) - self.coef_.shape[0]\n",
    "        tot_new_feats = X.shape[1] - base_size\n",
    "        self._partial_grafting_fit(X, y)\n",
    "        super(GraftingRegressor, self).partial_fit(X, y, sample_weight=None)  \n",
    "        \n",
    "        # update parameters based on weight of regularizer penalty\n",
    "        self._reg_penalty(tot_new_feats, base_size)\n",
    "        return self\n",
    "    \n",
    "    def predict(self, X):\n",
    "        X = self._fit_columns(X)\n",
    "        return super(GraftingRegressor, self).predict(X)        "
   ]
  },
  {
   "cell_type": "code",
   "execution_count": 104,
   "metadata": {},
   "outputs": [
    {
     "data": {
      "text/plain": [
       "[-1.2303520088786952,\n",
       " -0.29755658847192473,\n",
       " -1.2303520088786952,\n",
       " -0.29755658847192473]"
      ]
     },
     "execution_count": 104,
     "metadata": {},
     "output_type": "execute_result"
    }
   ],
   "source": [
    "model.coef_[-5:][[0,3]].tolist() + model.coef_[-5:][[0,3]].tolist()"
   ]
  },
  {
   "cell_type": "code",
   "execution_count": 105,
   "metadata": {},
   "outputs": [
    {
     "data": {
      "text/plain": [
       "GraftingRegressor(alpha=0.0001, average=False, epsilon=0.1, eta0=0.01,\n",
       "         fit_intercept=True, l1_ratio=0.15, learning_rate='invscaling',\n",
       "         loss='squared_loss', max_iter=1000, n_iter=None, penalty='l2',\n",
       "         power_t=0.25, random_state=None, reg_penalty=0.15, shuffle=True,\n",
       "         tol=None, verbose=0, warm_start=False)"
      ]
     },
     "execution_count": 105,
     "metadata": {},
     "output_type": "execute_result"
    }
   ],
   "source": [
    "model = GraftingRegressor(max_iter=1000)\n",
    "model.fit(X1, y)"
   ]
  },
  {
   "cell_type": "code",
   "execution_count": 106,
   "metadata": {},
   "outputs": [
    {
     "data": {
      "text/plain": [
       "50"
      ]
     },
     "execution_count": 106,
     "metadata": {},
     "output_type": "execute_result"
    }
   ],
   "source": [
    "len(model.coef_)"
   ]
  },
  {
   "cell_type": "code",
   "execution_count": 107,
   "metadata": {},
   "outputs": [
    {
     "data": {
      "text/plain": [
       "GraftingRegressor(alpha=0.0001, average=False, epsilon=0.1, eta0=0.01,\n",
       "         fit_intercept=True, l1_ratio=0.15, learning_rate='invscaling',\n",
       "         loss='squared_loss', max_iter=1000, n_iter=None, penalty='l2',\n",
       "         power_t=0.25, random_state=None, reg_penalty=0.15, shuffle=True,\n",
       "         tol=None, verbose=0, warm_start=False)"
      ]
     },
     "execution_count": 107,
     "metadata": {},
     "output_type": "execute_result"
    }
   ],
   "source": [
    "model.partial_fit(pdf, y)"
   ]
  },
  {
   "cell_type": "code",
   "execution_count": 108,
   "metadata": {},
   "outputs": [
    {
     "data": {
      "text/plain": [
       "97"
      ]
     },
     "execution_count": 108,
     "metadata": {},
     "output_type": "execute_result"
    }
   ],
   "source": [
    "len(model.coef_)"
   ]
  },
  {
   "cell_type": "code",
   "execution_count": 109,
   "metadata": {},
   "outputs": [
    {
     "data": {
      "text/plain": [
       "array([  -8.54434025,  253.67110568,  173.96532587,  121.50769307,\n",
       "         34.05225317,  -70.32430236,  159.74561303,  -44.71723753,\n",
       "       -156.98893749,  170.30902433,  -52.37927023,  250.22915706,\n",
       "       -127.50252436,  -37.90946018,  416.65513397,  -37.25241649,\n",
       "         10.03194315,  108.76249591,  130.89598554,  256.74132194,\n",
       "         18.00703619,  300.65763551,  -39.18861335,   95.85562179,\n",
       "        -16.85161846,  -13.44853864,   17.8401801 ,  243.40463137,\n",
       "        -37.51576435,  158.6283454 ,  141.07229213, -112.72008839,\n",
       "        141.21216558, -217.4730374 , -165.97622106,   40.95326168,\n",
       "         71.16952663, -242.50460099, -130.06545394, -202.17815434,\n",
       "         -7.16533651, -162.72823365,  170.03835376,  117.36209976,\n",
       "         43.40393648,   43.72662798,  122.57368727,  113.79998753,\n",
       "          6.53690737, -310.48511863,  -40.67756062,  196.48324148,\n",
       "        -58.14588667,   96.94196195, -168.3004843 ,  -68.40367592,\n",
       "         88.51250958,  -65.82738478, -118.67552562,   38.81768855,\n",
       "        182.53923576, -162.22492556,   76.39392767,  124.53825151,\n",
       "       -175.4246067 , -183.99692088,  -16.22102002,  241.21642751,\n",
       "       -153.31815756, -203.46955645,   64.29950946,   96.0132368 ,\n",
       "        117.67466275, -100.2667357 ,  227.84059597,  -22.74215652,\n",
       "        -96.48048892,  -57.87322888, -202.2944065 ,  -28.01433959,\n",
       "        148.26935145, -348.16142807,   33.60294132, -203.200728  ,\n",
       "        -44.67017669,   -4.93240092,   92.23779673,   97.6960918 ,\n",
       "        324.31044433,   14.3910425 , -145.78923224,  -12.10674884,\n",
       "       -161.66390725, -182.88296594,   56.75854608, -177.52837694,\n",
       "         -6.9329069 ,   99.21266329,  198.4797368 ,   43.07216191])"
      ]
     },
     "execution_count": 109,
     "metadata": {},
     "output_type": "execute_result"
    }
   ],
   "source": [
    "model.predict(pdf)"
   ]
  }
 ],
 "metadata": {
  "kernelspec": {
   "display_name": "Python [default]",
   "language": "python",
   "name": "python3"
  },
  "language_info": {
   "codemirror_mode": {
    "name": "ipython",
    "version": 3
   },
   "file_extension": ".py",
   "mimetype": "text/x-python",
   "name": "python",
   "nbconvert_exporter": "python",
   "pygments_lexer": "ipython3",
   "version": "3.5.2"
  }
 },
 "nbformat": 4,
 "nbformat_minor": 2
}
