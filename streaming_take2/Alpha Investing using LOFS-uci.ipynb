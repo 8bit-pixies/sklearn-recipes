{
 "cells": [
  {
   "cell_type": "markdown",
   "metadata": {},
   "source": [
    "https://www.cs.sfu.ca/~jpei/publications/Online%20Feature%20Selection%20ICDM14.pdf"
   ]
  },
  {
   "cell_type": "code",
   "execution_count": 1,
   "metadata": {
    "collapsed": true
   },
   "outputs": [],
   "source": [
    "import glob\n",
    "import os\n",
    "\n",
    "import pandas as pd \n",
    "import numpy as np\n",
    "import pprint\n",
    "from sklearn.linear_model import SGDRegressor, SGDClassifier\n",
    "from sklearn.neighbors import KNeighborsClassifier\n",
    "from sklearn.ensemble import RandomForestClassifier\n",
    "from sklearn.metrics import log_loss, accuracy_score"
   ]
  },
  {
   "cell_type": "code",
   "execution_count": 2,
   "metadata": {
    "collapsed": true
   },
   "outputs": [],
   "source": [
    "os.environ['OCTAVE_EXECUTABLE'] = \"C:/Octave/Octave-4.2.1/bin/octave-cli-4.2.1.exe\""
   ]
  },
  {
   "cell_type": "code",
   "execution_count": 3,
   "metadata": {
    "collapsed": true
   },
   "outputs": [],
   "source": [
    "%load_ext oct2py.ipython"
   ]
  },
  {
   "cell_type": "code",
   "execution_count": 4,
   "metadata": {},
   "outputs": [
    {
     "name": "stdout",
     "output_type": "stream",
     "text": [
      "warning: function LOFS_Octave/source_codes\\example.m shadows a core library function\n"
     ]
    }
   ],
   "source": [
    "from oct2py import octave\n",
    "_ = octave.addpath('LOFS_Octave/source_codes/')"
   ]
  },
  {
   "cell_type": "code",
   "execution_count": 5,
   "metadata": {},
   "outputs": [
    {
     "name": "stdout",
     "output_type": "stream",
     "text": [
      "['NIPS\\\\arcene_train.csv', 'NIPS\\\\dexter_train.csv', 'NIPS\\\\gisette_train.csv', 'NIPS\\\\madelon_train.csv']\n"
     ]
    }
   ],
   "source": [
    "all_train = glob.glob(\"microarray/*_train.csv\") + glob.glob(\"uci/*_train.csv\") + glob.glob(\"NIPS/*_train.csv\")\n",
    "all_train = glob.glob(\"uci/*_train.csv\") + glob.glob(\"NIPS/*_train.csv\")\n",
    "all_train = glob.glob(\"NIPS/*_train.csv\")\n",
    "print(all_train)"
   ]
  },
  {
   "cell_type": "code",
   "execution_count": 6,
   "metadata": {
    "collapsed": true
   },
   "outputs": [],
   "source": [
    "def train_label(fname):\n",
    "    targetname = fname.replace(\".csv\", \".labels\")\n",
    "    return pd.read_csv(targetname)"
   ]
  },
  {
   "cell_type": "code",
   "execution_count": 8,
   "metadata": {
    "scrolled": true
   },
   "outputs": [],
   "source": [
    "all_train = ['NIPS\\\\gisette_train.csv',\n",
    " 'NIPS\\\\madelon_train.csv']"
   ]
  },
  {
   "cell_type": "code",
   "execution_count": null,
   "metadata": {
    "scrolled": true
   },
   "outputs": [
    {
     "name": "stdout",
     "output_type": "stream",
     "text": [
      "NIPS\\gisette_train.csv\n",
      "warning: matrix singular to machine precision\n",
      "warning: matrix singular to machine precision\n",
      "warning: matrix singular to machine precision\n",
      "warning: matrix singular to machine precision\n",
      "warning: matrix singular to machine precision\n",
      "warning: matrix singular to machine precision\n",
      "warning: matrix singular to machine precision\n",
      "warning: matrix singular to machine precision, rcond = 1.66328e-019\n",
      "warning: matrix singular to machine precision, rcond = 9.96646e-035\n",
      "warning: matrix singular to machine precision\n",
      "warning: matrix singular to machine precision\n",
      "warning: matrix singular to machine precision\n",
      "warning: matrix singular to machine precision\n",
      "warning: matrix singular to machine precision, rcond = 6.72763e-020\n",
      "warning: matrix singular to machine precision\n",
      "warning: matrix singular to machine precision\n",
      "warning: matrix singular to machine precision\n",
      "warning: matrix singular to machine precision\n",
      "warning: matrix singular to machine precision\n",
      "warning: matrix singular to machine precision\n",
      "warning: matrix singular to machine precision\n",
      "warning: matrix singular to machine precision, rcond = 9.79964e-037\n",
      "warning: matrix singular to machine precision\n",
      "warning: matrix singular to machine precision\n",
      "warning: matrix singular to machine precision\n",
      "warning: matrix singular to machine precision, rcond = 1.03926e-019\n",
      "warning: matrix singular to machine precision\n",
      "warning: matrix singular to machine precision\n",
      "warning: matrix singular to machine precision\n",
      "warning: matrix singular to machine precision\n",
      "warning: matrix singular to machine precision, rcond = 5.10902e-022\n",
      "warning: matrix singular to machine precision\n",
      "warning: matrix singular to machine precision\n",
      "warning: matrix singular to machine precision\n",
      "warning: matrix singular to machine precision\n",
      "warning: matrix singular to machine precision, rcond = 1.61183e-039\n",
      "warning: matrix singular to machine precision\n",
      "warning: matrix singular to machine precision\n",
      "warning: matrix singular to machine precision, rcond = 9.52839e-039\n",
      "warning: matrix singular to machine precision, rcond = 1.67394e-038\n",
      "warning: matrix singular to machine precision, rcond = 1.18711e-020\n",
      "warning: matrix singular to machine precision\n",
      "warning: matrix singular to machine precision\n",
      "warning: matrix singular to machine precision\n",
      "warning: matrix singular to machine precision\n",
      "warning: matrix singular to machine precision\n",
      "warning: matrix singular to machine precision\n",
      "warning: matrix singular to machine precision\n",
      "warning: matrix singular to machine precision, rcond = 2.6673e-035\n",
      "warning: matrix singular to machine precision\n",
      "warning: matrix singular to machine precision\n",
      "warning: matrix singular to machine precision\n",
      "warning: matrix singular to machine precision\n",
      "warning: matrix singular to machine precision\n",
      "warning: matrix singular to machine precision\n",
      "warning: matrix singular to machine precision, rcond = 3.72149e-037\n",
      "warning: matrix singular to machine precision\n",
      "warning: matrix singular to machine precision, rcond = 1.95315e-036\n",
      "warning: matrix singular to machine precision\n"
     ]
    }
   ],
   "source": [
    "results_all = []\n",
    "for fpath in all_train:    \n",
    "    print(fpath)\n",
    "    X = np.array(pd.read_csv(fpath))\n",
    "    y = np.array(train_label(fpath)).flatten()\n",
    "    alpha = 0.05\n",
    "\n",
    "    X_train = np.hstack([y.reshape(-1, 1), X])\n",
    "    ai_feats = octave.Alpha_Investing(X, y.reshape(-1, 1))\n",
    "    feats_fix = [int(x-1) for x in list(np.array(ai_feats).flatten())]\n",
    "    print(len(feats_fix))\n",
    "    \n",
    "    # now fit and return metrics...\n",
    "    X_sel = X[:, feats_fix]\n",
    "    mod = SGDClassifier(loss='log', max_iter=5)\n",
    "    mod.fit(X_sel, y)\n",
    "    results = {\n",
    "            'dataset': fpath,\n",
    "            'accuracy': accuracy_score(y, mod.predict(X_sel)), \n",
    "           'logloss': log_loss(y, mod.predict_proba(X_sel)), \n",
    "           'feat_dim': len(feats_fix)}\n",
    "    print(results)\n",
    "    print(\"\\n\\n\")\n",
    "    results_all.append(results)"
   ]
  },
  {
   "cell_type": "markdown",
   "metadata": {},
   "source": [
    "Results:\n",
    "\n",
    "    [{'accuracy': 0.87179487179487181,\n",
    "      'dataset': 'uci\\\\Ionosphere_train.csv',\n",
    "      'feat_dim': 10,\n",
    "      'logloss': 1.1571746528803923},\n",
    "     {'accuracy': 0.77178874157791788,\n",
    "      'dataset': 'uci\\\\spambase_train.csv',\n",
    "      'feat_dim': 45,\n",
    "      'logloss': 7.8664959137554975},\n",
    "     {'accuracy': 0.79400749063670417,\n",
    "      'dataset': 'uci\\\\spectf_train.csv',\n",
    "      'feat_dim': 7,\n",
    "      'logloss': 2.3041623877531987},\n",
    "     {'accuracy': 0.7152899824253075,\n",
    "      'dataset': 'uci\\\\wdbc_train.csv',\n",
    "      'feat_dim': 21,\n",
    "      'logloss': 9.8335356344033933},\n",
    "     {'accuracy': 0.35483870967741937,\n",
    "      'dataset': 'microarray\\\\colon_train.csv',\n",
    "      'feat_dim': 4,\n",
    "      'logloss': 22.283081545103663},\n",
    "     {'accuracy': 0.34722222222222221,\n",
    "      'dataset': 'microarray\\\\leukemia_train.csv',\n",
    "      'feat_dim': 16,\n",
    "      'logloss': 22.546145702233364},\n",
    "     {'accuracy': 1.0,\n",
    "      'dataset': 'microarray\\\\lung_cancer_train.csv',\n",
    "      'feat_dim': 69,\n",
    "      'logloss': 9.9920072216264128e-16},\n",
    "     {'accuracy': 0.57843137254901966,\n",
    "      'dataset': 'microarray\\\\prostate_train.csv',\n",
    "      'feat_dim': 25,\n",
    "      'logloss': 14.560464558638817}]"
   ]
  },
  {
   "cell_type": "code",
   "execution_count": null,
   "metadata": {},
   "outputs": [],
   "source": [
    "pprint.pprint(results_all)"
   ]
  }
 ],
 "metadata": {
  "kernelspec": {
   "display_name": "Python [conda env:skrecipe]",
   "language": "python",
   "name": "conda-env-skrecipe-py"
  },
  "language_info": {
   "codemirror_mode": {
    "name": "ipython",
    "version": 3
   },
   "file_extension": ".py",
   "mimetype": "text/x-python",
   "name": "python",
   "nbconvert_exporter": "python",
   "pygments_lexer": "ipython3",
   "version": "3.6.2"
  }
 },
 "nbformat": 4,
 "nbformat_minor": 2
}
