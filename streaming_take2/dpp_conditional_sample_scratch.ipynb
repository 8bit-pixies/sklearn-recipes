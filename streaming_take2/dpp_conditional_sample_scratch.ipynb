{
 "cells": [
  {
   "cell_type": "markdown",
   "metadata": {},
   "source": [
    "Using the notation from kdpp paper: http://www.alexkulesza.com/pubs/kdpps_icml11.pdf\n",
    "\n",
    "Using equation (13) + (18) we have\n",
    "\n",
    "$$\\begin{aligned}\n",
    "\\text{det}(L+I) \\sum_{\\lvert Y \\rvert = k} \\mathcal{P}_L(Y) = e_k^N\n",
    "\\end{aligned}$$\n",
    "\n",
    "Rearranging:\n",
    "\n",
    "$$\\frac{e_k^N}{\\text{det}(L+I)} =  \\sum_{\\lvert Y \\rvert = k} \\mathcal{P}_L(Y) $$\n",
    "\n",
    "<!--\n",
    "Let $\\mathbf{Y}^k = \\{ Y \\in \\mathbf{Y} : \\lvert Y \\rvert = k\\}$ so then it follows that:\n",
    "\n",
    "$$P(Y' \\in \\mathbf{Y}^k) = \\frac{\\mathcal{P}_L(Y')}{\\sum_{\\lvert Y \\rvert = k} \\mathcal{P}_L(Y)}$$\n",
    "\n",
    "Define $\\mathbf{Z}^k = \\{ \\mathbf{Y}^j : j = k+1, k+2, \\dots N \\}$. -->\n",
    "\n"
   ]
  },
  {
   "cell_type": "markdown",
   "metadata": {},
   "source": [
    "Then it follows:\n",
    "\n",
    "$$\\begin{aligned}\n",
    "Pr(k' | k' > k) &= \\frac{\\sum_{\\lvert Y \\rvert = k'} \\mathcal{P}_L(Y)}{\\sum_{j=k+1, k+2, \\dots, N} \\sum_{\\lvert Y \\rvert = j} \\mathcal{P}_L(Y)}\\\\\n",
    "&= \\frac{e_{k'}^N / \\text{det}(L+I)}{\\sum_{j=k+1, k+2, \\dots, N} e_{j}^N / \\text{det}(L+I)} \\\\\n",
    "&= \\frac{e_{k'}^N }{\\sum_{j=k+1, k+2, \\dots, N} e_{j}^N } \n",
    "\\end{aligned}$$"
   ]
  },
  {
   "cell_type": "code",
   "execution_count": 1,
   "metadata": {
    "collapsed": true
   },
   "outputs": [],
   "source": [
    "from dpp import *\n",
    "import numpy as np\n",
    "from sklearn.metrics.pairwise import rbf_kernel"
   ]
  },
  {
   "cell_type": "code",
   "execution_count": 2,
   "metadata": {
    "collapsed": true
   },
   "outputs": [],
   "source": [
    "def sample_k(L, k):\n",
    "    \"\"\"\n",
    "    Given a decomposed kernel, and the number of elements thus chosen\n",
    "    return appropriate k' to be samples (ranges from k+1, k+2, ... N)\n",
    "    \"\"\"\n",
    "    N = L['D'].shape[0]\n",
    "    E = elem_sympoly(L['D'], N)\n",
    "    el_list = list(range(k+1, N+1))\n",
    "    E_ls = [E[x, -1] for x in el_list]\n",
    "    E_ls = np.array(E_ls)/(np.sum(E_ls))\n",
    "    return np.random.choice(el_list, p=E_ls)"
   ]
  },
  {
   "cell_type": "code",
   "execution_count": 3,
   "metadata": {
    "collapsed": true
   },
   "outputs": [],
   "source": [
    "X = np.random.normal(size=(100, 10))"
   ]
  },
  {
   "cell_type": "code",
   "execution_count": 4,
   "metadata": {
    "collapsed": true
   },
   "outputs": [],
   "source": [
    "feat_dist = rbf_kernel(X.T)\n",
    "L = decompose_kernel(feat_dist)"
   ]
  },
  {
   "cell_type": "code",
   "execution_count": 5,
   "metadata": {},
   "outputs": [
    {
     "data": {
      "text/plain": [
       "8"
      ]
     },
     "execution_count": 5,
     "metadata": {},
     "output_type": "execute_result"
    }
   ],
   "source": [
    "sample_k(L, 7)"
   ]
  },
  {
   "cell_type": "code",
   "execution_count": null,
   "metadata": {
    "collapsed": true
   },
   "outputs": [],
   "source": []
  },
  {
   "cell_type": "code",
   "execution_count": 6,
   "metadata": {},
   "outputs": [
    {
     "data": {
      "text/plain": [
       "[2, 1, 9, 5]"
      ]
     },
     "execution_count": 6,
     "metadata": {},
     "output_type": "execute_result"
    }
   ],
   "source": [
    "sample_dpp(L)"
   ]
  }
 ],
 "metadata": {
  "kernelspec": {
   "display_name": "Python [conda env:skrecipe]",
   "language": "python",
   "name": "conda-env-skrecipe-py"
  },
  "language_info": {
   "codemirror_mode": {
    "name": "ipython",
    "version": 3
   },
   "file_extension": ".py",
   "mimetype": "text/x-python",
   "name": "python",
   "nbconvert_exporter": "python",
   "pygments_lexer": "ipython3",
   "version": "3.6.2"
  }
 },
 "nbformat": 4,
 "nbformat_minor": 2
}
