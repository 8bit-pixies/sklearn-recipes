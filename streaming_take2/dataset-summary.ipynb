{
 "cells": [
  {
   "cell_type": "code",
   "execution_count": 1,
   "metadata": {
    "collapsed": true
   },
   "outputs": [],
   "source": [
    "import glob\n",
    "\n",
    "import numpy as np\n",
    "import pandas as pd\n",
    "\n",
    "from grafting_classifier import GraftingClassifier\n",
    "from sklearn.linear_model import SGDClassifier\n",
    "from ogfs_classifier import OGFSClassifier\n",
    "from osfs_classifier import OSFSClassifier\n",
    "from dpp_classifier import DPPClassifier\n",
    "from dpp_classifier_mitra import DPPClassifier as DPPClassifier2\n",
    "from dpp_classifier_ogfs import DPPClassifier as DPPClassifier3\n",
    "\n",
    "from sklearn.metrics import log_loss, accuracy_score\n",
    "\n",
    "#import dask.dataframe as dd\n",
    "#import dask.array as da"
   ]
  },
  {
   "cell_type": "code",
   "execution_count": 4,
   "metadata": {},
   "outputs": [
    {
     "name": "stdout",
     "output_type": "stream",
     "text": [
      "microarray\\colon_train.csv (62, 2000)\n",
      "microarray\\leukemia_train.csv (72, 7129)\n",
      "microarray\\lung_cancer_train.csv (181, 12533)\n",
      "microarray\\prostate_train.csv (102, 12600)\n"
     ]
    }
   ],
   "source": [
    "class_train = glob.glob(\"microarray/*_train.csv\")\n",
    "for x in class_train:\n",
    "    print(x, pd.read_csv(x).shape)"
   ]
  },
  {
   "cell_type": "code",
   "execution_count": 5,
   "metadata": {},
   "outputs": [
    {
     "name": "stdout",
     "output_type": "stream",
     "text": [
      "uci\\Ionosphere_train.csv (351, 34)\n",
      "uci\\spambase_train.csv (4601, 57)\n",
      "uci\\spectf_train.csv (267, 44)\n",
      "uci\\wdbc_train.csv (569, 30)\n"
     ]
    }
   ],
   "source": [
    "class_train = glob.glob(\"uci/*_train.csv\")\n",
    "for x in class_train:\n",
    "    print(x, pd.read_csv(x).shape)"
   ]
  },
  {
   "cell_type": "code",
   "execution_count": 6,
   "metadata": {},
   "outputs": [
    {
     "name": "stdout",
     "output_type": "stream",
     "text": [
      "NIPS\\arcene_train.csv (100, 10000)\n",
      "NIPS\\dexter_train.csv (300, 20000)\n",
      "NIPS\\dorothea_train.csv (800, 100000)\n",
      "NIPS\\gisette_train.csv (6000, 5000)\n",
      "NIPS\\madelon_train.csv (2000, 500)\n"
     ]
    }
   ],
   "source": [
    "class_train = glob.glob(\"NIPS/*_train.csv\")\n",
    "for x in class_train:\n",
    "    print(x, pd.read_csv(x).shape)"
   ]
  }
 ],
 "metadata": {
  "kernelspec": {
   "display_name": "Python [conda env:skrecipe]",
   "language": "python",
   "name": "conda-env-skrecipe-py"
  },
  "language_info": {
   "codemirror_mode": {
    "name": "ipython",
    "version": 3
   },
   "file_extension": ".py",
   "mimetype": "text/x-python",
   "name": "python",
   "nbconvert_exporter": "python",
   "pygments_lexer": "ipython3",
   "version": "3.6.2"
  }
 },
 "nbformat": 4,
 "nbformat_minor": 2
}
