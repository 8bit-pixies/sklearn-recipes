{
 "cells": [
  {
   "cell_type": "code",
   "execution_count": 4,
   "metadata": {
    "collapsed": true
   },
   "outputs": [],
   "source": [
    "from scipy.stats import chi2_contingency\n",
    "from scipy import stats\n",
    "import scipy\n",
    "import numpy as np\n",
    "import random\n",
    "from scipy.stats import norm\n",
    "from sklearn.metrics.pairwise import rbf_kernel, linear_kernel, pairwise_kernels\n",
    "from sklearn.kernel_approximation import Nystroem\n",
    "from sklearn import preprocessing\n",
    "\n",
    "from itertools import combinations, permutations, chain\n",
    "\n",
    "def fast_cor(X_all):\n",
    "    # calculate correlation\n",
    "    X_scaled = preprocessing.scale(X_all)\n",
    "    if X_all.shape[0] < 1000:\n",
    "        K = pairwise_kernels(X_scaled.T, metric='cosine')\n",
    "        return K\n",
    "    else:\n",
    "        K = Nystroem('cosine').fit_transform(X_scaled.T)\n",
    "        d_inv = np.sqrt(np.diag(np.diag(K)))\n",
    "        corr = d_inv.dot(K).dot(d_inv)\n",
    "        return corr\n",
    "\n",
    "def fisher_test(cor_m, N, z_n):\n",
    "    cor_m = np.minimum(cor_m, 0.9999)\n",
    "    cor_m = np.maximum(cor_m, -0.9999)\n",
    "    z_score = 0.5*np.log((1+cor_m)/(1-cor_m))\n",
    "    test_stat = np.sqrt(N - z_n -3) * np.abs(z_score)\n",
    "    p_val = 1-scipy.stats.norm.cdf(test_stat)\n",
    "    return p_val\n",
    "\n",
    "def powerset(iterable, max_size=3):\n",
    "    \"powerset([1,2,3]) --> () (1,) (2,) (3,) (1,2) (1,3) (2,3) (1,2,3)\"\n",
    "    s = list(iterable)\n",
    "    return chain.from_iterable(combinations(s, r) for r in range(1, max_size+1))\n",
    "\n",
    "def partial_dep_test(x1, c, x_dat, x1_name, x_dat_names, max_search_depth=3, prev=[]):\n",
    "    max_search_depth = min(max_search_depth, len(x_dat_names))\n",
    "    x_n = x_dat.shape[0]\n",
    "    x_all = np.hstack(\n",
    "        [x1.reshape(-1, 1), \n",
    "         c.reshape(-1, 1), \n",
    "         x_dat])\n",
    "    x_cor = fast_cor(x_all)\n",
    "    partial_cor = []\n",
    "    for cond in list(powerset(range(2, x_cor.shape[1]), max_search_depth)):\n",
    "        name_set = set([x_dat_names[x-2] for x in cond])\n",
    "        if len(\n",
    "        [x for x in prev if x['var'] == x1_name and x['cond'] == name_set]\n",
    "        ) > 0:\n",
    "            continue\n",
    "        \n",
    "        z_n = len(cond)\n",
    "        idx = [0, 1] + list(cond)\n",
    "        V = x_cor[idx, :][:, idx]\n",
    "        V_inv = np.linalg.pinv(V)\n",
    "        cor = -V_inv[0][1]/(np.sqrt(V_inv[0][0]*V_inv[1][1]))\n",
    "        partial_cor.append({\n",
    "            'var': x1_name,\n",
    "            'cor': cor,\n",
    "            'pval': fisher_test(cor, x_n, z_n),\n",
    "            'cond': name_set\n",
    "        })\n",
    "    return partial_cor\n",
    "\n"
   ]
  },
  {
   "cell_type": "code",
   "execution_count": 5,
   "metadata": {},
   "outputs": [
    {
     "data": {
      "text/plain": [
       "[{'cond': {'b'},\n",
       "  'cor': 0.019709277026838418,\n",
       "  'pval': 0.42342634780741462,\n",
       "  'var': 'a'}]"
      ]
     },
     "execution_count": 5,
     "metadata": {},
     "output_type": "execute_result"
    }
   ],
   "source": [
    "x1 = np.random.normal(size=(100,))\n",
    "y = np.random.choice([0,1], size=(100,))\n",
    "x_dat = np.random.normal(size=(100,1))"
   ]
  },
  {
   "cell_type": "code",
   "execution_count": 6,
   "metadata": {},
   "outputs": [
    {
     "data": {
      "text/plain": [
       "[{'cond': {'b'},\n",
       "  'cor': 0.019709277026838418,\n",
       "  'pval': 0.42342634780741462,\n",
       "  'var': 'a'}]"
      ]
     },
     "execution_count": 6,
     "metadata": {},
     "output_type": "execute_result"
    }
   ],
   "source": [
    "partial_dep_test(x1, y, x_dat, 'a', ['b'])"
   ]
  }
 ],
 "metadata": {
  "kernelspec": {
   "display_name": "Python [conda env:skrecipe]",
   "language": "python",
   "name": "conda-env-skrecipe-py"
  },
  "language_info": {
   "codemirror_mode": {
    "name": "ipython",
    "version": 3
   },
   "file_extension": ".py",
   "mimetype": "text/x-python",
   "name": "python",
   "nbconvert_exporter": "python",
   "pygments_lexer": "ipython3",
   "version": "3.6.2"
  }
 },
 "nbformat": 4,
 "nbformat_minor": 2
}
