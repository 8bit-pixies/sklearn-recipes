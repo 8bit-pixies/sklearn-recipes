{
 "cells": [
  {
   "cell_type": "code",
   "execution_count": 36,
   "metadata": {
    "collapsed": true
   },
   "outputs": [],
   "source": [
    "from sklearn import preprocessing\n",
    "from sklearn.kernel_approximation import Nystroem\n",
    "from sklearn.metrics.pairwise import pairwise_kernels\n",
    "import numpy as np\n",
    "\n",
    "import random\n",
    "from collections import Counter\n",
    "\n",
    "def fast_cov(X):\n",
    "    # assume...correlation and covariant are interchangeable...\n",
    "    X_scaled = preprocessing.scale(X)\n",
    "    #X_approx_cor = pairwise_kernels(X_scaled.T, metric='cosine')\n",
    "    X_approx_cor = Nystroem(\"cosine\").fit_transform(X_scaled.T)\n",
    "    X_cor = X_approx_cor.dot(X_approx_cor.T)\n",
    "    X_var = np.var(X_approx_cor, axis=1)*X_approx_cor.shape[1]\n",
    "    X_cov = np.multiply(np.multiply(X_cor, X_var.reshape(-1, 1)), X_var.reshape(1, -1))\n",
    "    return X_cov, X_approx_cor.T"
   ]
  },
  {
   "cell_type": "code",
   "execution_count": 32,
   "metadata": {
    "collapsed": true
   },
   "outputs": [],
   "source": [
    "bb = np.random.normal(size=(100, 2000))"
   ]
  },
  {
   "cell_type": "code",
   "execution_count": 33,
   "metadata": {},
   "outputs": [],
   "source": [
    "bb_cov, bb_approx = fast_cov(bb)"
   ]
  },
  {
   "cell_type": "code",
   "execution_count": 34,
   "metadata": {},
   "outputs": [
    {
     "data": {
      "text/plain": [
       "(2000, 100)"
      ]
     },
     "execution_count": 34,
     "metadata": {},
     "output_type": "execute_result"
    }
   ],
   "source": [
    "bb_approx.shape"
   ]
  },
  {
   "cell_type": "code",
   "execution_count": 35,
   "metadata": {},
   "outputs": [
    {
     "data": {
      "text/plain": [
       "array([[ 0.12825018, -0.0013603 , -0.04254763, ..., -0.1109546 ,\n",
       "        -0.20470159,  0.03030696],\n",
       "       [-0.06421031,  0.06720611,  0.25741626, ..., -0.07695153,\n",
       "         0.1193833 ,  0.0403504 ],\n",
       "       [ 0.02674707, -0.00228107,  0.22229728, ...,  0.00505623,\n",
       "         0.01939056, -0.04844715],\n",
       "       ..., \n",
       "       [-0.00393984, -0.01449098,  0.00632803, ..., -0.05652412,\n",
       "         0.05871052,  0.03073804],\n",
       "       [ 0.07856813,  0.00756916,  0.08303115, ..., -0.07727159,\n",
       "        -0.05817981, -0.11170984],\n",
       "       [ 0.0385421 ,  0.05995807,  0.00878993, ...,  0.02053457,\n",
       "        -0.03788022, -0.08801592]])"
      ]
     },
     "execution_count": 35,
     "metadata": {},
     "output_type": "execute_result"
    }
   ],
   "source": [
    "bb_approx"
   ]
  }
 ],
 "metadata": {
  "kernelspec": {
   "display_name": "Python [conda env:skrecipe]",
   "language": "python",
   "name": "conda-env-skrecipe-py"
  },
  "language_info": {
   "codemirror_mode": {
    "name": "ipython",
    "version": 3
   },
   "file_extension": ".py",
   "mimetype": "text/x-python",
   "name": "python",
   "nbconvert_exporter": "python",
   "pygments_lexer": "ipython3",
   "version": "3.6.2"
  }
 },
 "nbformat": 4,
 "nbformat_minor": 2
}
