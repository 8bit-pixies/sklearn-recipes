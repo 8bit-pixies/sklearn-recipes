{
 "cells": [
  {
   "cell_type": "markdown",
   "metadata": {},
   "source": [
    "The purpose of this notebook is to demonstrate what streaming pipelines will look like. \n",
    "\n",
    "```py\n",
    "DataSelector(\n",
    "\tFeatureUnion(\n",
    "\t\t[('base', BasePipeline), \n",
    "\t\t ('stream1', StreamPipeline),\n",
    "\t\t ('stream2', StreamPipeline)\n",
    "\t\t]\n",
    "\t)\n",
    ")\n",
    "```"
   ]
  },
  {
   "cell_type": "code",
   "execution_count": 95,
   "metadata": {
    "collapsed": true
   },
   "outputs": [],
   "source": [
    "from sklearn.datasets import make_regression, make_classification\n",
    "\n",
    "from sklearn.pipeline import Pipeline, make_pipeline, FeatureUnion\n",
    "from sklearn.metrics.pairwise import pairwise_distances\n",
    "from sklearn.decomposition import PCA\n",
    "\n",
    "import numpy as np\n",
    "import pandas as pd\n",
    "\n",
    "from sklearn.base import BaseEstimator, TransformerMixin\n",
    "from sklearn.feature_selection.base import SelectorMixin\n",
    "from sklearn.utils.validation import check_is_fitted\n",
    "\n",
    "from sklearn.linear_model import SGDRegressor"
   ]
  },
  {
   "cell_type": "code",
   "execution_count": 96,
   "metadata": {},
   "outputs": [],
   "source": [
    "pdf = pd.DataFrame(np.random.normal(size=(100,100)))"
   ]
  },
  {
   "cell_type": "code",
   "execution_count": 97,
   "metadata": {
    "collapsed": true
   },
   "outputs": [],
   "source": [
    "pdf.columns = ['c{}'.format(x) for x in range(100)]"
   ]
  },
  {
   "cell_type": "code",
   "execution_count": 98,
   "metadata": {
    "collapsed": true
   },
   "outputs": [],
   "source": [
    "y = np.random.normal(size=100)"
   ]
  },
  {
   "cell_type": "code",
   "execution_count": 99,
   "metadata": {},
   "outputs": [
    {
     "data": {
      "text/html": [
       "<div>\n",
       "<style>\n",
       "    .dataframe thead tr:only-child th {\n",
       "        text-align: right;\n",
       "    }\n",
       "\n",
       "    .dataframe thead th {\n",
       "        text-align: left;\n",
       "    }\n",
       "\n",
       "    .dataframe tbody tr th {\n",
       "        vertical-align: top;\n",
       "    }\n",
       "</style>\n",
       "<table border=\"1\" class=\"dataframe\">\n",
       "  <thead>\n",
       "    <tr style=\"text-align: right;\">\n",
       "      <th></th>\n",
       "      <th>c0</th>\n",
       "      <th>c1</th>\n",
       "      <th>c2</th>\n",
       "      <th>c3</th>\n",
       "      <th>c4</th>\n",
       "      <th>c5</th>\n",
       "      <th>c6</th>\n",
       "      <th>c7</th>\n",
       "      <th>c8</th>\n",
       "      <th>c9</th>\n",
       "      <th>...</th>\n",
       "      <th>c90</th>\n",
       "      <th>c91</th>\n",
       "      <th>c92</th>\n",
       "      <th>c93</th>\n",
       "      <th>c94</th>\n",
       "      <th>c95</th>\n",
       "      <th>c96</th>\n",
       "      <th>c97</th>\n",
       "      <th>c98</th>\n",
       "      <th>c99</th>\n",
       "    </tr>\n",
       "  </thead>\n",
       "  <tbody>\n",
       "    <tr>\n",
       "      <th>0</th>\n",
       "      <td>1.465552</td>\n",
       "      <td>-0.174947</td>\n",
       "      <td>-0.557285</td>\n",
       "      <td>-1.864667</td>\n",
       "      <td>-0.453841</td>\n",
       "      <td>-0.015839</td>\n",
       "      <td>1.032664</td>\n",
       "      <td>2.289818</td>\n",
       "      <td>-0.977157</td>\n",
       "      <td>0.798384</td>\n",
       "      <td>...</td>\n",
       "      <td>-1.089052</td>\n",
       "      <td>0.099207</td>\n",
       "      <td>-0.279303</td>\n",
       "      <td>1.492805</td>\n",
       "      <td>-0.562735</td>\n",
       "      <td>-0.279601</td>\n",
       "      <td>0.279920</td>\n",
       "      <td>-1.203971</td>\n",
       "      <td>-0.700515</td>\n",
       "      <td>-0.623444</td>\n",
       "    </tr>\n",
       "    <tr>\n",
       "      <th>1</th>\n",
       "      <td>0.503198</td>\n",
       "      <td>1.045425</td>\n",
       "      <td>0.069621</td>\n",
       "      <td>-0.828206</td>\n",
       "      <td>0.624801</td>\n",
       "      <td>-0.673744</td>\n",
       "      <td>-0.100857</td>\n",
       "      <td>-0.131911</td>\n",
       "      <td>0.144918</td>\n",
       "      <td>-1.058873</td>\n",
       "      <td>...</td>\n",
       "      <td>-1.026048</td>\n",
       "      <td>-2.785998</td>\n",
       "      <td>0.101738</td>\n",
       "      <td>1.833124</td>\n",
       "      <td>1.991244</td>\n",
       "      <td>0.648577</td>\n",
       "      <td>0.420932</td>\n",
       "      <td>-1.211033</td>\n",
       "      <td>-0.007652</td>\n",
       "      <td>0.273093</td>\n",
       "    </tr>\n",
       "    <tr>\n",
       "      <th>2</th>\n",
       "      <td>1.894920</td>\n",
       "      <td>-0.502263</td>\n",
       "      <td>-0.181144</td>\n",
       "      <td>-0.315629</td>\n",
       "      <td>-0.476192</td>\n",
       "      <td>-0.039789</td>\n",
       "      <td>0.252323</td>\n",
       "      <td>0.004571</td>\n",
       "      <td>-0.736486</td>\n",
       "      <td>0.233061</td>\n",
       "      <td>...</td>\n",
       "      <td>0.359855</td>\n",
       "      <td>-2.239837</td>\n",
       "      <td>-0.356782</td>\n",
       "      <td>1.280595</td>\n",
       "      <td>0.682922</td>\n",
       "      <td>0.187419</td>\n",
       "      <td>0.332395</td>\n",
       "      <td>-0.441433</td>\n",
       "      <td>1.162203</td>\n",
       "      <td>-0.915109</td>\n",
       "    </tr>\n",
       "    <tr>\n",
       "      <th>3</th>\n",
       "      <td>1.533769</td>\n",
       "      <td>-0.612605</td>\n",
       "      <td>0.992457</td>\n",
       "      <td>0.806356</td>\n",
       "      <td>-0.949315</td>\n",
       "      <td>2.489005</td>\n",
       "      <td>-0.996943</td>\n",
       "      <td>0.172389</td>\n",
       "      <td>1.839823</td>\n",
       "      <td>-0.680110</td>\n",
       "      <td>...</td>\n",
       "      <td>-0.751580</td>\n",
       "      <td>-0.005312</td>\n",
       "      <td>1.012568</td>\n",
       "      <td>-2.575455</td>\n",
       "      <td>0.016905</td>\n",
       "      <td>-0.491907</td>\n",
       "      <td>0.810994</td>\n",
       "      <td>0.232799</td>\n",
       "      <td>-0.638680</td>\n",
       "      <td>1.280433</td>\n",
       "    </tr>\n",
       "    <tr>\n",
       "      <th>4</th>\n",
       "      <td>-0.903803</td>\n",
       "      <td>1.185339</td>\n",
       "      <td>1.017459</td>\n",
       "      <td>-2.417675</td>\n",
       "      <td>-0.730030</td>\n",
       "      <td>1.266846</td>\n",
       "      <td>0.744343</td>\n",
       "      <td>-0.516313</td>\n",
       "      <td>0.315573</td>\n",
       "      <td>0.577418</td>\n",
       "      <td>...</td>\n",
       "      <td>-0.804820</td>\n",
       "      <td>-0.126032</td>\n",
       "      <td>0.637179</td>\n",
       "      <td>-2.863028</td>\n",
       "      <td>-0.488310</td>\n",
       "      <td>0.240614</td>\n",
       "      <td>-0.715193</td>\n",
       "      <td>2.398261</td>\n",
       "      <td>-0.662515</td>\n",
       "      <td>1.047300</td>\n",
       "    </tr>\n",
       "  </tbody>\n",
       "</table>\n",
       "<p>5 rows × 100 columns</p>\n",
       "</div>"
      ],
      "text/plain": [
       "         c0        c1        c2        c3        c4        c5        c6  \\\n",
       "0  1.465552 -0.174947 -0.557285 -1.864667 -0.453841 -0.015839  1.032664   \n",
       "1  0.503198  1.045425  0.069621 -0.828206  0.624801 -0.673744 -0.100857   \n",
       "2  1.894920 -0.502263 -0.181144 -0.315629 -0.476192 -0.039789  0.252323   \n",
       "3  1.533769 -0.612605  0.992457  0.806356 -0.949315  2.489005 -0.996943   \n",
       "4 -0.903803  1.185339  1.017459 -2.417675 -0.730030  1.266846  0.744343   \n",
       "\n",
       "         c7        c8        c9    ...          c90       c91       c92  \\\n",
       "0  2.289818 -0.977157  0.798384    ...    -1.089052  0.099207 -0.279303   \n",
       "1 -0.131911  0.144918 -1.058873    ...    -1.026048 -2.785998  0.101738   \n",
       "2  0.004571 -0.736486  0.233061    ...     0.359855 -2.239837 -0.356782   \n",
       "3  0.172389  1.839823 -0.680110    ...    -0.751580 -0.005312  1.012568   \n",
       "4 -0.516313  0.315573  0.577418    ...    -0.804820 -0.126032  0.637179   \n",
       "\n",
       "        c93       c94       c95       c96       c97       c98       c99  \n",
       "0  1.492805 -0.562735 -0.279601  0.279920 -1.203971 -0.700515 -0.623444  \n",
       "1  1.833124  1.991244  0.648577  0.420932 -1.211033 -0.007652  0.273093  \n",
       "2  1.280595  0.682922  0.187419  0.332395 -0.441433  1.162203 -0.915109  \n",
       "3 -2.575455  0.016905 -0.491907  0.810994  0.232799 -0.638680  1.280433  \n",
       "4 -2.863028 -0.488310  0.240614 -0.715193  2.398261 -0.662515  1.047300  \n",
       "\n",
       "[5 rows x 100 columns]"
      ]
     },
     "execution_count": 99,
     "metadata": {},
     "output_type": "execute_result"
    }
   ],
   "source": [
    "pdf.head()"
   ]
  },
  {
   "cell_type": "code",
   "execution_count": 100,
   "metadata": {},
   "outputs": [],
   "source": [
    "class DataSelector(BaseEstimator, TransformerMixin):\n",
    "    def __init__(self, columns=None):\n",
    "        self.columns = columns\n",
    "    \n",
    "    def fit(self, x, y=None):\n",
    "        return self\n",
    "\n",
    "    def transform(self, X):\n",
    "        if self.columns is not None:\n",
    "            return X[self.columns]\n",
    "        else:\n",
    "            return X.copy()"
   ]
  },
  {
   "cell_type": "code",
   "execution_count": 101,
   "metadata": {
    "collapsed": true
   },
   "outputs": [],
   "source": [
    "testSel = DataSelector(columns=['c0', 'c1'])"
   ]
  },
  {
   "cell_type": "code",
   "execution_count": 102,
   "metadata": {},
   "outputs": [
    {
     "data": {
      "text/html": [
       "<div>\n",
       "<style>\n",
       "    .dataframe thead tr:only-child th {\n",
       "        text-align: right;\n",
       "    }\n",
       "\n",
       "    .dataframe thead th {\n",
       "        text-align: left;\n",
       "    }\n",
       "\n",
       "    .dataframe tbody tr th {\n",
       "        vertical-align: top;\n",
       "    }\n",
       "</style>\n",
       "<table border=\"1\" class=\"dataframe\">\n",
       "  <thead>\n",
       "    <tr style=\"text-align: right;\">\n",
       "      <th></th>\n",
       "      <th>c0</th>\n",
       "      <th>c1</th>\n",
       "    </tr>\n",
       "  </thead>\n",
       "  <tbody>\n",
       "    <tr>\n",
       "      <th>0</th>\n",
       "      <td>1.465552</td>\n",
       "      <td>-0.174947</td>\n",
       "    </tr>\n",
       "    <tr>\n",
       "      <th>1</th>\n",
       "      <td>0.503198</td>\n",
       "      <td>1.045425</td>\n",
       "    </tr>\n",
       "    <tr>\n",
       "      <th>2</th>\n",
       "      <td>1.894920</td>\n",
       "      <td>-0.502263</td>\n",
       "    </tr>\n",
       "    <tr>\n",
       "      <th>3</th>\n",
       "      <td>1.533769</td>\n",
       "      <td>-0.612605</td>\n",
       "    </tr>\n",
       "    <tr>\n",
       "      <th>4</th>\n",
       "      <td>-0.903803</td>\n",
       "      <td>1.185339</td>\n",
       "    </tr>\n",
       "  </tbody>\n",
       "</table>\n",
       "</div>"
      ],
      "text/plain": [
       "         c0        c1\n",
       "0  1.465552 -0.174947\n",
       "1  0.503198  1.045425\n",
       "2  1.894920 -0.502263\n",
       "3  1.533769 -0.612605\n",
       "4 -0.903803  1.185339"
      ]
     },
     "execution_count": 102,
     "metadata": {},
     "output_type": "execute_result"
    }
   ],
   "source": [
    "testSel.fit_transform(pdf).head()"
   ]
  },
  {
   "cell_type": "code",
   "execution_count": 103,
   "metadata": {
    "collapsed": true
   },
   "outputs": [],
   "source": [
    "# simulate what streaming features might look like\n",
    "base_df = pdf[['c{}'.format(x) for x in range(20)]]\n",
    "stream1 = pdf[['c{}'.format(x) for x in range(20,30)]]\n",
    "stream2 = pdf[['c{}'.format(x) for x in range(30,40)]]"
   ]
  },
  {
   "cell_type": "code",
   "execution_count": 104,
   "metadata": {
    "collapsed": true
   },
   "outputs": [],
   "source": [
    "class SGDRegressorTransformer(SGDRegressor, TransformerMixin):\n",
    "    def transform(self, X):\n",
    "        return self.predict(X).reshape(-1, 1)"
   ]
  },
  {
   "cell_type": "code",
   "execution_count": 105,
   "metadata": {
    "collapsed": true
   },
   "outputs": [],
   "source": [
    "def streaming_pipeline(columns):\n",
    "    return make_pipeline(\n",
    "        DataSelector(columns = columns), \n",
    "        SGDRegressorTransformer()\n",
    "    )"
   ]
  },
  {
   "cell_type": "code",
   "execution_count": 106,
   "metadata": {
    "collapsed": true
   },
   "outputs": [],
   "source": [
    "base_pipeline = streaming_pipeline(['c{}'.format(x) for x in range(20)])\n",
    "stream1_pipeline = streaming_pipeline(['c{}'.format(x) for x in range(20,30)])\n",
    "stream2_pipeline = streaming_pipeline(['c{}'.format(x) for x in range(30,40)])"
   ]
  },
  {
   "cell_type": "code",
   "execution_count": 107,
   "metadata": {},
   "outputs": [],
   "source": [
    "# combine all the pipeline together...\n",
    "# using stacking...\n",
    "full_pipeline = make_pipeline(\n",
    "    FeatureUnion([\n",
    "        ('base', base_pipeline), \n",
    "        ('stream1', stream1_pipeline), \n",
    "        ('stream2', stream2_pipeline)\n",
    "    ]), \n",
    "    SGDRegressorTransformer())"
   ]
  },
  {
   "cell_type": "code",
   "execution_count": 108,
   "metadata": {},
   "outputs": [
    {
     "data": {
      "text/plain": [
       "array([-0.01046794,  0.23922794,  0.15621053,  0.18733299,  0.16227597,\n",
       "        0.13367772,  0.14907194,  0.26653494,  0.22393387,  0.25278151,\n",
       "        0.09824282,  0.01539261,  0.21714711,  0.0168649 ,  0.11493144,\n",
       "        0.25865574, -0.03777664,  0.184544  ,  0.1708652 ,  0.16301401,\n",
       "        0.11245656, -0.15420115,  0.06638265,  0.0435486 ,  0.23664126,\n",
       "        0.26327164,  0.19678683,  0.35822972,  0.1801091 ,  0.16700287,\n",
       "        0.11663264, -0.06049385,  0.32435937,  0.01853535,  0.17809397,\n",
       "        0.23245753,  0.1560194 ,  0.05948834,  0.29124497,  0.22004698,\n",
       "       -0.04410663,  0.14236225,  0.12377987,  0.20637208,  0.20046297,\n",
       "       -0.00397816,  0.12553085,  0.09607942,  0.30506073,  0.00214134,\n",
       "        0.05366545,  0.12568052,  0.1880509 ,  0.16519193,  0.22024035,\n",
       "        0.17814763,  0.09776498,  0.18493481,  0.18445454,  0.13797395,\n",
       "        0.26405709,  0.06221952,  0.26442711, -0.02111403,  0.16552624,\n",
       "        0.06590987,  0.11033476,  0.15571371,  0.03521425,  0.14117691,\n",
       "        0.16079052,  0.15620759,  0.17486006,  0.28020074,  0.07770457,\n",
       "        0.0900987 ,  0.00883711,  0.03331544,  0.14968966, -0.09472689,\n",
       "        0.25371738,  0.21202999,  0.1004424 ,  0.10822826,  0.23622119,\n",
       "        0.07866337,  0.23741026,  0.1031696 ,  0.20584872,  0.18443932,\n",
       "        0.18859864,  0.13861503,  0.13757463,  0.02292079,  0.125668  ,\n",
       "        0.05737935,  0.14002421,  0.22139114,  0.21901167,  0.06276758])"
      ]
     },
     "execution_count": 108,
     "metadata": {},
     "output_type": "execute_result"
    }
   ],
   "source": [
    "full_pipeline.fit(pdf, y)\n",
    "full_pipeline.predict(pdf)"
   ]
  },
  {
   "cell_type": "code",
   "execution_count": null,
   "metadata": {
    "collapsed": true
   },
   "outputs": [],
   "source": []
  }
 ],
 "metadata": {
  "kernelspec": {
   "display_name": "Python [default]",
   "language": "python",
   "name": "python3"
  },
  "language_info": {
   "codemirror_mode": {
    "name": "ipython",
    "version": 3
   },
   "file_extension": ".py",
   "mimetype": "text/x-python",
   "name": "python",
   "nbconvert_exporter": "python",
   "pygments_lexer": "ipython3",
   "version": "3.5.2"
  }
 },
 "nbformat": 4,
 "nbformat_minor": 2
}
