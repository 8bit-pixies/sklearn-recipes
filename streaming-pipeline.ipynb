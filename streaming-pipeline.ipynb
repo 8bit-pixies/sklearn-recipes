{
 "cells": [
  {
   "cell_type": "markdown",
   "metadata": {},
   "source": [
    "The purpose of this notebook is to demonstrate what streaming pipelines will look like. \n",
    "\n",
    "```py\n",
    "DataSelector(\n",
    "\tFeatureUnion(\n",
    "\t\t[('base', BasePipeline), \n",
    "\t\t ('stream1', StreamPipeline),\n",
    "\t\t ('stream2', StreamPipeline)\n",
    "\t\t]\n",
    "\t)\n",
    ")\n",
    "```"
   ]
  },
  {
   "cell_type": "code",
   "execution_count": 43,
   "metadata": {
    "collapsed": true
   },
   "outputs": [],
   "source": [
    "from sklearn.datasets import make_regression, make_classification\n",
    "\n",
    "from sklearn.pipeline import Pipeline, make_pipeline, FeatureUnion\n",
    "from sklearn.metrics.pairwise import pairwise_distances\n",
    "from sklearn.decomposition import PCA\n",
    "\n",
    "import numpy as np\n",
    "import pandas as pd\n",
    "\n",
    "from sklearn.base import BaseEstimator, TransformerMixin\n",
    "from sklearn.feature_selection.base import SelectorMixin\n",
    "from sklearn.utils.validation import check_is_fitted\n",
    "\n",
    "from sklearn.linear_model import SGDRegressor\n",
    "\n",
    "import itertools"
   ]
  },
  {
   "cell_type": "code",
   "execution_count": 44,
   "metadata": {
    "collapsed": true
   },
   "outputs": [],
   "source": [
    "pdf = pd.DataFrame(np.random.normal(size=(100,100)))"
   ]
  },
  {
   "cell_type": "code",
   "execution_count": 45,
   "metadata": {
    "collapsed": true
   },
   "outputs": [],
   "source": [
    "pdf.columns = ['c{}'.format(x) for x in range(100)]"
   ]
  },
  {
   "cell_type": "code",
   "execution_count": 46,
   "metadata": {
    "collapsed": true
   },
   "outputs": [],
   "source": [
    "y = np.random.normal(size=100)"
   ]
  },
  {
   "cell_type": "code",
   "execution_count": 47,
   "metadata": {},
   "outputs": [
    {
     "data": {
      "text/html": [
       "<div>\n",
       "<style>\n",
       "    .dataframe thead tr:only-child th {\n",
       "        text-align: right;\n",
       "    }\n",
       "\n",
       "    .dataframe thead th {\n",
       "        text-align: left;\n",
       "    }\n",
       "\n",
       "    .dataframe tbody tr th {\n",
       "        vertical-align: top;\n",
       "    }\n",
       "</style>\n",
       "<table border=\"1\" class=\"dataframe\">\n",
       "  <thead>\n",
       "    <tr style=\"text-align: right;\">\n",
       "      <th></th>\n",
       "      <th>c0</th>\n",
       "      <th>c1</th>\n",
       "      <th>c2</th>\n",
       "      <th>c3</th>\n",
       "      <th>c4</th>\n",
       "      <th>c5</th>\n",
       "      <th>c6</th>\n",
       "      <th>c7</th>\n",
       "      <th>c8</th>\n",
       "      <th>c9</th>\n",
       "      <th>...</th>\n",
       "      <th>c90</th>\n",
       "      <th>c91</th>\n",
       "      <th>c92</th>\n",
       "      <th>c93</th>\n",
       "      <th>c94</th>\n",
       "      <th>c95</th>\n",
       "      <th>c96</th>\n",
       "      <th>c97</th>\n",
       "      <th>c98</th>\n",
       "      <th>c99</th>\n",
       "    </tr>\n",
       "  </thead>\n",
       "  <tbody>\n",
       "    <tr>\n",
       "      <th>0</th>\n",
       "      <td>-2.327853</td>\n",
       "      <td>-0.383654</td>\n",
       "      <td>-0.973586</td>\n",
       "      <td>-0.668999</td>\n",
       "      <td>0.451195</td>\n",
       "      <td>1.353481</td>\n",
       "      <td>-0.761436</td>\n",
       "      <td>-0.830951</td>\n",
       "      <td>-2.411253</td>\n",
       "      <td>0.106185</td>\n",
       "      <td>...</td>\n",
       "      <td>-1.473897</td>\n",
       "      <td>-0.258758</td>\n",
       "      <td>-0.563682</td>\n",
       "      <td>0.245549</td>\n",
       "      <td>-0.498022</td>\n",
       "      <td>1.031419</td>\n",
       "      <td>1.679963</td>\n",
       "      <td>-1.511440</td>\n",
       "      <td>-0.506461</td>\n",
       "      <td>-0.640007</td>\n",
       "    </tr>\n",
       "    <tr>\n",
       "      <th>1</th>\n",
       "      <td>-0.844418</td>\n",
       "      <td>-0.098600</td>\n",
       "      <td>1.656304</td>\n",
       "      <td>0.072914</td>\n",
       "      <td>-0.998987</td>\n",
       "      <td>0.858702</td>\n",
       "      <td>-0.557182</td>\n",
       "      <td>1.782512</td>\n",
       "      <td>-0.446117</td>\n",
       "      <td>0.924216</td>\n",
       "      <td>...</td>\n",
       "      <td>-0.597906</td>\n",
       "      <td>1.114910</td>\n",
       "      <td>0.710107</td>\n",
       "      <td>0.478986</td>\n",
       "      <td>-0.760304</td>\n",
       "      <td>-0.306229</td>\n",
       "      <td>0.319245</td>\n",
       "      <td>-0.134885</td>\n",
       "      <td>0.712367</td>\n",
       "      <td>-2.494100</td>\n",
       "    </tr>\n",
       "    <tr>\n",
       "      <th>2</th>\n",
       "      <td>0.178444</td>\n",
       "      <td>1.089601</td>\n",
       "      <td>-0.132760</td>\n",
       "      <td>-1.268844</td>\n",
       "      <td>-1.063214</td>\n",
       "      <td>-0.765304</td>\n",
       "      <td>-0.662095</td>\n",
       "      <td>-0.996780</td>\n",
       "      <td>0.777021</td>\n",
       "      <td>1.501859</td>\n",
       "      <td>...</td>\n",
       "      <td>-0.680373</td>\n",
       "      <td>-1.211203</td>\n",
       "      <td>-1.558036</td>\n",
       "      <td>-1.049521</td>\n",
       "      <td>0.416086</td>\n",
       "      <td>-1.250368</td>\n",
       "      <td>-1.250168</td>\n",
       "      <td>0.340367</td>\n",
       "      <td>-1.447583</td>\n",
       "      <td>-1.077239</td>\n",
       "    </tr>\n",
       "    <tr>\n",
       "      <th>3</th>\n",
       "      <td>-0.123443</td>\n",
       "      <td>0.159941</td>\n",
       "      <td>-0.055948</td>\n",
       "      <td>0.736152</td>\n",
       "      <td>-0.429644</td>\n",
       "      <td>0.655818</td>\n",
       "      <td>1.211280</td>\n",
       "      <td>-1.317256</td>\n",
       "      <td>1.070772</td>\n",
       "      <td>-1.540593</td>\n",
       "      <td>...</td>\n",
       "      <td>-0.497590</td>\n",
       "      <td>0.193897</td>\n",
       "      <td>1.940245</td>\n",
       "      <td>-1.907211</td>\n",
       "      <td>-0.080360</td>\n",
       "      <td>0.376436</td>\n",
       "      <td>0.538809</td>\n",
       "      <td>-1.195341</td>\n",
       "      <td>-0.109133</td>\n",
       "      <td>1.605322</td>\n",
       "    </tr>\n",
       "    <tr>\n",
       "      <th>4</th>\n",
       "      <td>-0.611443</td>\n",
       "      <td>-0.816723</td>\n",
       "      <td>-0.104265</td>\n",
       "      <td>-0.652427</td>\n",
       "      <td>0.584967</td>\n",
       "      <td>-0.254310</td>\n",
       "      <td>0.304804</td>\n",
       "      <td>0.202659</td>\n",
       "      <td>1.546658</td>\n",
       "      <td>-1.601647</td>\n",
       "      <td>...</td>\n",
       "      <td>-1.469079</td>\n",
       "      <td>-1.466828</td>\n",
       "      <td>0.976082</td>\n",
       "      <td>0.184223</td>\n",
       "      <td>-1.956396</td>\n",
       "      <td>-0.061867</td>\n",
       "      <td>-1.925231</td>\n",
       "      <td>-0.201085</td>\n",
       "      <td>0.464327</td>\n",
       "      <td>-0.351674</td>\n",
       "    </tr>\n",
       "  </tbody>\n",
       "</table>\n",
       "<p>5 rows × 100 columns</p>\n",
       "</div>"
      ],
      "text/plain": [
       "         c0        c1        c2        c3        c4        c5        c6  \\\n",
       "0 -2.327853 -0.383654 -0.973586 -0.668999  0.451195  1.353481 -0.761436   \n",
       "1 -0.844418 -0.098600  1.656304  0.072914 -0.998987  0.858702 -0.557182   \n",
       "2  0.178444  1.089601 -0.132760 -1.268844 -1.063214 -0.765304 -0.662095   \n",
       "3 -0.123443  0.159941 -0.055948  0.736152 -0.429644  0.655818  1.211280   \n",
       "4 -0.611443 -0.816723 -0.104265 -0.652427  0.584967 -0.254310  0.304804   \n",
       "\n",
       "         c7        c8        c9    ...          c90       c91       c92  \\\n",
       "0 -0.830951 -2.411253  0.106185    ...    -1.473897 -0.258758 -0.563682   \n",
       "1  1.782512 -0.446117  0.924216    ...    -0.597906  1.114910  0.710107   \n",
       "2 -0.996780  0.777021  1.501859    ...    -0.680373 -1.211203 -1.558036   \n",
       "3 -1.317256  1.070772 -1.540593    ...    -0.497590  0.193897  1.940245   \n",
       "4  0.202659  1.546658 -1.601647    ...    -1.469079 -1.466828  0.976082   \n",
       "\n",
       "        c93       c94       c95       c96       c97       c98       c99  \n",
       "0  0.245549 -0.498022  1.031419  1.679963 -1.511440 -0.506461 -0.640007  \n",
       "1  0.478986 -0.760304 -0.306229  0.319245 -0.134885  0.712367 -2.494100  \n",
       "2 -1.049521  0.416086 -1.250368 -1.250168  0.340367 -1.447583 -1.077239  \n",
       "3 -1.907211 -0.080360  0.376436  0.538809 -1.195341 -0.109133  1.605322  \n",
       "4  0.184223 -1.956396 -0.061867 -1.925231 -0.201085  0.464327 -0.351674  \n",
       "\n",
       "[5 rows x 100 columns]"
      ]
     },
     "execution_count": 47,
     "metadata": {},
     "output_type": "execute_result"
    }
   ],
   "source": [
    "pdf.head()"
   ]
  },
  {
   "cell_type": "code",
   "execution_count": 48,
   "metadata": {
    "collapsed": true
   },
   "outputs": [],
   "source": [
    "class DataSelector(BaseEstimator, TransformerMixin):\n",
    "    def __init__(self, columns=None):\n",
    "        self.columns = columns\n",
    "    \n",
    "    def fit(self, x, y=None):\n",
    "        return self\n",
    "\n",
    "    def transform(self, X):\n",
    "        if self.columns is not None:\n",
    "            return X[self.columns]\n",
    "        else:\n",
    "            return X.copy()"
   ]
  },
  {
   "cell_type": "code",
   "execution_count": 49,
   "metadata": {
    "collapsed": true
   },
   "outputs": [],
   "source": [
    "testSel = DataSelector(columns=['c0', 'c1'])"
   ]
  },
  {
   "cell_type": "code",
   "execution_count": 50,
   "metadata": {},
   "outputs": [
    {
     "data": {
      "text/html": [
       "<div>\n",
       "<style>\n",
       "    .dataframe thead tr:only-child th {\n",
       "        text-align: right;\n",
       "    }\n",
       "\n",
       "    .dataframe thead th {\n",
       "        text-align: left;\n",
       "    }\n",
       "\n",
       "    .dataframe tbody tr th {\n",
       "        vertical-align: top;\n",
       "    }\n",
       "</style>\n",
       "<table border=\"1\" class=\"dataframe\">\n",
       "  <thead>\n",
       "    <tr style=\"text-align: right;\">\n",
       "      <th></th>\n",
       "      <th>c0</th>\n",
       "      <th>c1</th>\n",
       "    </tr>\n",
       "  </thead>\n",
       "  <tbody>\n",
       "    <tr>\n",
       "      <th>0</th>\n",
       "      <td>-2.327853</td>\n",
       "      <td>-0.383654</td>\n",
       "    </tr>\n",
       "    <tr>\n",
       "      <th>1</th>\n",
       "      <td>-0.844418</td>\n",
       "      <td>-0.098600</td>\n",
       "    </tr>\n",
       "    <tr>\n",
       "      <th>2</th>\n",
       "      <td>0.178444</td>\n",
       "      <td>1.089601</td>\n",
       "    </tr>\n",
       "    <tr>\n",
       "      <th>3</th>\n",
       "      <td>-0.123443</td>\n",
       "      <td>0.159941</td>\n",
       "    </tr>\n",
       "    <tr>\n",
       "      <th>4</th>\n",
       "      <td>-0.611443</td>\n",
       "      <td>-0.816723</td>\n",
       "    </tr>\n",
       "  </tbody>\n",
       "</table>\n",
       "</div>"
      ],
      "text/plain": [
       "         c0        c1\n",
       "0 -2.327853 -0.383654\n",
       "1 -0.844418 -0.098600\n",
       "2  0.178444  1.089601\n",
       "3 -0.123443  0.159941\n",
       "4 -0.611443 -0.816723"
      ]
     },
     "execution_count": 50,
     "metadata": {},
     "output_type": "execute_result"
    }
   ],
   "source": [
    "testSel.fit_transform(pdf).head()"
   ]
  },
  {
   "cell_type": "code",
   "execution_count": 51,
   "metadata": {
    "collapsed": true
   },
   "outputs": [],
   "source": [
    "# simulate what streaming features might look like\n",
    "base_df = pdf[['c{}'.format(x) for x in range(20)]]\n",
    "stream1 = pdf[['c{}'.format(x) for x in range(20,30)]]\n",
    "stream2 = pdf[['c{}'.format(x) for x in range(30,40)]]"
   ]
  },
  {
   "cell_type": "code",
   "execution_count": 52,
   "metadata": {
    "collapsed": true
   },
   "outputs": [],
   "source": [
    "class SGDRegressorTransformer(SGDRegressor, TransformerMixin):\n",
    "    def transform(self, X):\n",
    "        return self.predict(X).reshape(-1, 1)"
   ]
  },
  {
   "cell_type": "code",
   "execution_count": 53,
   "metadata": {
    "collapsed": true
   },
   "outputs": [],
   "source": [
    "def streaming_pipeline(columns):\n",
    "    return make_pipeline(\n",
    "        DataSelector(columns = columns), \n",
    "        SGDRegressorTransformer()\n",
    "    )"
   ]
  },
  {
   "cell_type": "code",
   "execution_count": 54,
   "metadata": {
    "collapsed": true
   },
   "outputs": [],
   "source": [
    "base_pipeline = streaming_pipeline(['c{}'.format(x) for x in range(20)])\n",
    "stream1_pipeline = streaming_pipeline(['c{}'.format(x) for x in range(20,30)])\n",
    "stream2_pipeline = streaming_pipeline(['c{}'.format(x) for x in range(30,40)])"
   ]
  },
  {
   "cell_type": "code",
   "execution_count": 55,
   "metadata": {
    "collapsed": true
   },
   "outputs": [],
   "source": [
    "# combine all the pipeline together...\n",
    "# using stacking - this will be the boosting\n",
    "# variant of grafting...\n",
    "full_pipeline = make_pipeline(\n",
    "    FeatureUnion([\n",
    "        ('base', base_pipeline), \n",
    "        ('stream1', stream1_pipeline), \n",
    "        ('stream2', stream2_pipeline)\n",
    "    ]), \n",
    "    SGDRegressorTransformer())"
   ]
  },
  {
   "cell_type": "code",
   "execution_count": 56,
   "metadata": {},
   "outputs": [
    {
     "data": {
      "text/plain": [
       "array([-0.03419487, -0.05934672,  0.01442772, -0.02602387,  0.17175713,\n",
       "        0.22263986, -0.04053778,  0.15631345,  0.08938764, -0.21817169,\n",
       "       -0.11305714,  0.11946234,  0.13107088,  0.13816118,  0.2476947 ,\n",
       "        0.0239285 ,  0.03234156, -0.01834933, -0.01123299,  0.00739144,\n",
       "        0.24455022,  0.06938402, -0.03198   , -0.02920845,  0.2147274 ,\n",
       "        0.04431022,  0.10640158,  0.17265074,  0.12187168, -0.0589285 ,\n",
       "        0.19352613,  0.06080698, -0.06099668,  0.10796755,  0.14285722,\n",
       "       -0.06583749,  0.08818538, -0.09377994, -0.15483254,  0.15889085,\n",
       "        0.12014473, -0.00500242, -0.02677674,  0.22447759, -0.03454587,\n",
       "        0.17950569,  0.03685937,  0.05210635,  0.1647257 ,  0.21373417,\n",
       "       -0.12513481, -0.00190798,  0.16054462,  0.21998268,  0.08399318,\n",
       "       -0.21877307, -0.14360767,  0.06762807,  0.07015688,  0.03888237,\n",
       "        0.11264293,  0.09255699, -0.04339565,  0.16097296,  0.01362089,\n",
       "        0.10804456,  0.10839505,  0.00751351,  0.08033387,  0.11116772,\n",
       "        0.1331145 ,  0.13495765,  0.01411594, -0.06207754,  0.02296293,\n",
       "        0.04400597, -0.13639347,  0.09387193, -0.04409592,  0.23085991,\n",
       "        0.03180041,  0.30307164, -0.03979871,  0.07954504,  0.23068767,\n",
       "        0.04888181,  0.13845677,  0.1409032 ,  0.01657323,  0.08484403,\n",
       "        0.05120072,  0.09273082,  0.00311742, -0.01395935, -0.1214792 ,\n",
       "       -0.02054614,  0.06099493,  0.24953457, -0.12244849,  0.01564956])"
      ]
     },
     "execution_count": 56,
     "metadata": {},
     "output_type": "execute_result"
    }
   ],
   "source": [
    "full_pipeline.fit(pdf, y)\n",
    "full_pipeline.predict(pdf)"
   ]
  },
  {
   "cell_type": "code",
   "execution_count": 57,
   "metadata": {
    "collapsed": true
   },
   "outputs": [],
   "source": [
    "class GraftingRegressor(BaseEstimator, TransformerMixin):\n",
    "    def __init__(self, lambda_=0.05):\n",
    "        \"\"\"\n",
    "        lambda_: is the regularizer penalty. This is used to select which columns are kept\n",
    "                 in the model.\n",
    "        \"\"\"\n",
    "        self.grafting_columns = []\n",
    "        self.stream_pipeline = []\n",
    "        self.full_pipeline = []\n",
    "        self.lambda_ = lambda_\n",
    "        \n",
    "    def streaming_pipeline(self, columns):\n",
    "        return make_pipeline(\n",
    "            DataSelector(columns = columns), \n",
    "            SGDRegressorTransformer()\n",
    "        )\n",
    "    \n",
    "    def _fit(self, X, y=None):\n",
    "        if not type(X) is pd.core.frame.DataFrame:\n",
    "            raise Exception(\"Grafting Classifier can only accept dataframes!\")\n",
    "        \n",
    "        flat_columns = list(itertools.chain(*self.grafting_columns))\n",
    "        new_feats = [x for x in list(X.columns) if x not in flat_columns]\n",
    "        \n",
    "        idx = len(self.stream_pipeline)\n",
    "        self.stream_pipeline.append(('stream{}'.format(idx), self.streaming_pipeline(new_feats)))\n",
    "        self.full_pipeline = make_pipeline(\n",
    "            FeatureUnion(self.stream_pipeline[:]), \n",
    "            SGDRegressorTransformer())\n",
    "        \n",
    "    \n",
    "    def fit(self, X, y=None):\n",
    "        self._fit(X, y)\n",
    "        self.full_pipeline.fit(X, y)\n",
    "        return self\n",
    "    \n",
    "    def partial_fit(self, X, y=None):\n",
    "        self._fit(X, y)\n",
    "        self.full_pipeline.partial_fit(X, y)\n",
    "        return self\n",
    "    \n",
    "    def predict(self, X):\n",
    "        return self.full_pipeline.predict(X)\n",
    "\n",
    "    def transform(self, X):\n",
    "        return self.predict(X)"
   ]
  },
  {
   "cell_type": "code",
   "execution_count": 58,
   "metadata": {},
   "outputs": [],
   "source": [
    "gcc  = GraftingRegressor()"
   ]
  },
  {
   "cell_type": "code",
   "execution_count": 59,
   "metadata": {},
   "outputs": [
    {
     "data": {
      "text/plain": [
       "GraftingRegressor(lambda_=0.05)"
      ]
     },
     "execution_count": 59,
     "metadata": {},
     "output_type": "execute_result"
    }
   ],
   "source": [
    "gcc.fit(pdf, y)"
   ]
  },
  {
   "cell_type": "code",
   "execution_count": 60,
   "metadata": {},
   "outputs": [
    {
     "data": {
      "text/plain": [
       "array([ 0.19179683, -0.60742052, -0.00920165,  0.38130569,  1.05208714,\n",
       "        0.1007226 , -0.48735704,  0.31960556,  0.18053738, -0.74860718,\n",
       "       -0.11486622,  0.64108098,  0.30700003,  0.52888454,  0.42120084,\n",
       "        0.12707565, -0.30972632,  0.14747264, -0.01489899, -0.90587179,\n",
       "        0.73468842,  0.20139892,  0.02210034, -0.31356146,  0.16925942,\n",
       "       -0.00601615,  0.02266016,  0.67614959,  0.64942781, -0.48004621,\n",
       "        0.80321672,  0.06668287, -0.68843085, -0.40218752,  0.89353432,\n",
       "       -0.58928666,  0.29323523, -0.1384801 , -0.4851901 , -0.26488388,\n",
       "        0.11687493, -0.05827873,  0.62314585,  0.38233092, -0.68486886,\n",
       "        0.14164497,  0.20641961, -0.04218438,  0.73156202,  0.54559164,\n",
       "       -0.50248031,  0.12541779,  0.63706737,  0.1911822 ,  0.29672445,\n",
       "       -0.88050758, -0.91790943, -0.12012719, -0.02669789, -0.2479627 ,\n",
       "        0.1634231 , -0.09886096,  0.01310313, -0.28130584,  0.05376851,\n",
       "        0.49175918,  0.30921739,  0.34817415,  0.26605157,  0.21400467,\n",
       "        0.29827733,  0.23032576, -0.22084962, -0.35398633,  0.31248191,\n",
       "       -0.09679243, -0.83282621,  0.21604687,  0.00900499,  0.5704374 ,\n",
       "        0.1330781 ,  0.77742355,  0.30200293,  0.10424318,  0.78087288,\n",
       "        0.40039432,  0.31570911,  0.4694501 , -0.2226182 , -0.05869532,\n",
       "       -0.95543917,  0.04908881, -0.17083075, -0.59247136, -0.52969724,\n",
       "       -0.14724634, -0.11224007,  1.09611328, -0.49477405,  0.11817945])"
      ]
     },
     "execution_count": 60,
     "metadata": {},
     "output_type": "execute_result"
    }
   ],
   "source": [
    "gcc.transform(pdf)"
   ]
  },
  {
   "cell_type": "code",
   "execution_count": 61,
   "metadata": {},
   "outputs": [
    {
     "data": {
      "text/plain": [
       "array([ 0.19179683, -0.60742052, -0.00920165,  0.38130569,  1.05208714,\n",
       "        0.1007226 , -0.48735704,  0.31960556,  0.18053738, -0.74860718,\n",
       "       -0.11486622,  0.64108098,  0.30700003,  0.52888454,  0.42120084,\n",
       "        0.12707565, -0.30972632,  0.14747264, -0.01489899, -0.90587179,\n",
       "        0.73468842,  0.20139892,  0.02210034, -0.31356146,  0.16925942,\n",
       "       -0.00601615,  0.02266016,  0.67614959,  0.64942781, -0.48004621,\n",
       "        0.80321672,  0.06668287, -0.68843085, -0.40218752,  0.89353432,\n",
       "       -0.58928666,  0.29323523, -0.1384801 , -0.4851901 , -0.26488388,\n",
       "        0.11687493, -0.05827873,  0.62314585,  0.38233092, -0.68486886,\n",
       "        0.14164497,  0.20641961, -0.04218438,  0.73156202,  0.54559164,\n",
       "       -0.50248031,  0.12541779,  0.63706737,  0.1911822 ,  0.29672445,\n",
       "       -0.88050758, -0.91790943, -0.12012719, -0.02669789, -0.2479627 ,\n",
       "        0.1634231 , -0.09886096,  0.01310313, -0.28130584,  0.05376851,\n",
       "        0.49175918,  0.30921739,  0.34817415,  0.26605157,  0.21400467,\n",
       "        0.29827733,  0.23032576, -0.22084962, -0.35398633,  0.31248191,\n",
       "       -0.09679243, -0.83282621,  0.21604687,  0.00900499,  0.5704374 ,\n",
       "        0.1330781 ,  0.77742355,  0.30200293,  0.10424318,  0.78087288,\n",
       "        0.40039432,  0.31570911,  0.4694501 , -0.2226182 , -0.05869532,\n",
       "       -0.95543917,  0.04908881, -0.17083075, -0.59247136, -0.52969724,\n",
       "       -0.14724634, -0.11224007,  1.09611328, -0.49477405,  0.11817945])"
      ]
     },
     "execution_count": 61,
     "metadata": {},
     "output_type": "execute_result"
    }
   ],
   "source": [
    "gcc.predict(pdf)"
   ]
  }
 ],
 "metadata": {
  "kernelspec": {
   "display_name": "Python [default]",
   "language": "python",
   "name": "python3"
  },
  "language_info": {
   "codemirror_mode": {
    "name": "ipython",
    "version": 3
   },
   "file_extension": ".py",
   "mimetype": "text/x-python",
   "name": "python",
   "nbconvert_exporter": "python",
   "pygments_lexer": "ipython3",
   "version": "3.5.2"
  }
 },
 "nbformat": 4,
 "nbformat_minor": 2
}
