{
 "cells": [
  {
   "cell_type": "markdown",
   "metadata": {},
   "source": [
    "In this implementation of alpha-investing we will use \n",
    "\n",
    "mse and log loss as measures of likelihood for likelihood-ratio test"
   ]
  },
  {
   "cell_type": "code",
   "execution_count": 2,
   "metadata": {
    "collapsed": true
   },
   "outputs": [],
   "source": [
    "import sklearn"
   ]
  },
  {
   "cell_type": "code",
   "execution_count": 4,
   "metadata": {
    "collapsed": true
   },
   "outputs": [],
   "source": [
    "from sklearn.datasets import make_regression, make_classification\n",
    "from sklearn.linear_model import SGDRegressor, SGDClassifier\n",
    "from sklearn.metrics import log_loss\n",
    "from scipy.stats import chi2, norm\n",
    "\n",
    "import pandas as pd\n",
    "import numpy as np"
   ]
  },
  {
   "cell_type": "code",
   "execution_count": 12,
   "metadata": {
    "collapsed": true
   },
   "outputs": [],
   "source": [
    "X, y = make_classification(n_features=100)\n",
    "pdf = pd.DataFrame(X)\n",
    "pdf.columns = ['c{}'.format(x) for x in range(X.shape[1])]"
   ]
  },
  {
   "cell_type": "code",
   "execution_count": 63,
   "metadata": {
    "collapsed": true
   },
   "outputs": [],
   "source": [
    "X1 = pdf[['c{}'.format(x) for x in range(50, 100)]]\n",
    "X2 = pdf[['c{}'.format(x) for x in range(50)]]"
   ]
  },
  {
   "cell_type": "code",
   "execution_count": 219,
   "metadata": {
    "collapsed": true
   },
   "outputs": [],
   "source": [
    "def get_p_val(X, col, y):\n",
    "    # use log loss to calculate change in likelihood\n",
    "    col = np.array(col)\n",
    "    X = np.array(X)\n",
    "    new_X = np.hstack([X, col.reshape(-1, 1)])\n",
    "    mod = SGDClassifier(max_iter=1000)\n",
    "    nul_y = mod.fit(X, y).predict(X)\n",
    "    alt_y = mod.fit(new_X, y).predict(new_X)\n",
    "    \n",
    "    # calculate log loss\n",
    "    nul_ll = log_loss(y, nul_y)\n",
    "    alt_ll = log_loss(y, alt_y)\n",
    "    return chi2.cdf(2*(nul_ll-alt_ll), 1)"
   ]
  },
  {
   "cell_type": "code",
   "execution_count": 228,
   "metadata": {
    "collapsed": true
   },
   "outputs": [],
   "source": [
    "import pandas\n",
    "\n",
    "class AlphaInvestClassifier(SGDClassifier):\n",
    "    def __init__(self, loss=\"log\", penalty='l2', alpha=0.0001, l1_ratio=0.15,\n",
    "                 fit_intercept=True, max_iter=None, tol=None, shuffle=True,\n",
    "                 verbose=0, epsilon=0.1, n_jobs=1,\n",
    "                 random_state=None, learning_rate=\"optimal\", eta0=0.0,\n",
    "                 power_t=0.5, class_weight=None, warm_start=False,\n",
    "                 average=False, n_iter=None, \n",
    "                 wealth=0.5, delta_alpha=0.5):\n",
    "        super(AlphaInvestClassifier, self).__init__(\n",
    "            loss=loss, penalty=penalty, alpha=alpha, l1_ratio=l1_ratio,\n",
    "            fit_intercept=fit_intercept, max_iter=max_iter, tol=tol,\n",
    "            shuffle=shuffle, verbose=verbose, epsilon=epsilon, n_jobs=n_jobs,\n",
    "            random_state=random_state, learning_rate=learning_rate, eta0=eta0,\n",
    "            power_t=power_t, class_weight=class_weight, warm_start=warm_start,\n",
    "            average=average, n_iter=n_iter)\n",
    "        \"\"\"\n",
    "        intragroup_alpha : the alpha level of t-test used to determine significance\n",
    "        intergroup_thres : the threshold for lasso to remove redundancy\n",
    "        \"\"\"\n",
    "        self.coef_info = {'cols': [], 'coef':[], 'excluded_cols': []}\n",
    "        self.seen_cols = []\n",
    "        self.base_shape = None\n",
    "        self.delta_alpha = delta_alpha\n",
    "        self.wealth = wealth\n",
    "        self.temp_X = None\n",
    "    \n",
    "    def add_column_exclusion(self, cols):\n",
    "        self.coef_info['excluded_cols'] = self.coef_info['excluded_cols'] + cols\n",
    "    \n",
    "    def _alpha_sel(self, X_, y):\n",
    "        # need to continually refit...\n",
    "        new_X = X_[X_.columns.difference(self.coef_info['cols'])]\n",
    "        col_list = self.coef_info['cols'][:]\n",
    "                \n",
    "        for col in list(new_X.columns):\n",
    "            # perform test with and without dataset...\n",
    "            if col in self.coef_info['cols']:\n",
    "                continue\n",
    "            temp_X = X_[col_list]\n",
    "            # evaluate this column\n",
    "            pval = get_p_val(temp_X, new_X[[col]], y)\n",
    "            alpha = self.wealth/(2*temp_X.shape[1])\n",
    "            if pval < alpha:\n",
    "                col_list.append(col)\n",
    "                self.wealth = self.wealth + self.delta_alpha - alpha\n",
    "            else:\n",
    "                self.wealth = self.wealth - alpha\n",
    "        \n",
    "        # add and update cols...        \n",
    "        sel_cols = list(self.coef_info['cols']) + list(col_list)\n",
    "        self.coef_info['excluded_cols'] = [col for col in self.seen_cols if col not in sel_cols]\n",
    "        \n",
    "    def _fit_columns(self, X_, return_x=True, transform_only=False):\n",
    "        \"\"\"\n",
    "        Method filter through \"unselected\" columns. The goal of this \n",
    "        method is to filter any uninformative columns.\n",
    "        \n",
    "        This will be selected based on index only?\n",
    "        \n",
    "        If return_x is false, it will only return the boolean mask.\n",
    "        \"\"\"\n",
    "        X = X_[X_.columns.difference(self.coef_info['excluded_cols'])]\n",
    "        \n",
    "        # order the columns correctly...\n",
    "        col_order = self.coef_info['cols'] + list([x for x in X.columns if x not in self.coef_info['cols']])\n",
    "        X = X[col_order]\n",
    "        return X\n",
    "\n",
    "    def _reg_penalty(self, X):\n",
    "        col_coef = [(col, coef) for col, coef in zip(X.columns.tolist(), self.coef_.flatten()) if np.abs(coef) >= -0.1]\n",
    "        self.coef_info['cols'] = [x for x, _ in col_coef]\n",
    "        self.coef_info['coef'] = [x for _, x in col_coef]\n",
    "        self.coef_info['excluded_cols'] = [x for x in self.seen_cols if x not in self.coef_info['cols']]\n",
    "        self.coef_ = np.array(self.coef_info['coef']).reshape(1, -1) \n",
    "\n",
    "    \n",
    "    def fit(self, X, y, coef_init=None, intercept_init=None,\n",
    "            sample_weight=None):\n",
    "        X_ = X.copy()\n",
    "        self.seen_cols = list(set(self.seen_cols + X.columns.tolist()))\n",
    "        super(AlphaInvestClassifier, self).fit(X, y, coef_init=coef_init, intercept_init=intercept_init,\n",
    "            sample_weight=sample_weight)\n",
    "        # update params in self...\n",
    "        self._reg_penalty(X)\n",
    "        return self\n",
    "    \n",
    "    def partial_fit(self, X, y, sample_weight=None):\n",
    "        X_ = X.copy()\n",
    "        self.seen_cols = list(set(self.seen_cols + X.columns.tolist()))\n",
    "                \n",
    "        # TODO: alpha investing\n",
    "        self._alpha_sel(X, y)\n",
    "        X = self._fit_columns(X)\n",
    "        \n",
    "        # now update coefficients\n",
    "        n_samples, n_features = X.shape\n",
    "        coef_list = np.zeros(n_features, dtype=np.float64, order=\"C\")\n",
    "        coef_list[:len(self.coef_info['coef'])] = self.coef_info['coef']\n",
    "        self.coef_ = np.array(coef_list).reshape(1, -1)\n",
    "        \n",
    "        super(AlphaInvestClassifier, self).partial_fit(X, y, sample_weight=None)  \n",
    "        self._reg_penalty(X)\n",
    "        return self\n",
    "    \n",
    "    def predict(self, X):\n",
    "        X = self._fit_columns(X, transform_only=True)\n",
    "        print(X.shape)\n",
    "        return super(AlphaInvestClassifier, self).predict(X)        "
   ]
  },
  {
   "cell_type": "code",
   "execution_count": 229,
   "metadata": {},
   "outputs": [
    {
     "data": {
      "text/plain": [
       "AlphaInvestClassifier(alpha=0.0001, average=False, class_weight=None,\n",
       "           delta_alpha=0.5, epsilon=0.1, eta0=0.0, fit_intercept=True,\n",
       "           l1_ratio=0.15, learning_rate='optimal', loss='log',\n",
       "           max_iter=1000, n_iter=None, n_jobs=1, penalty='l2', power_t=0.5,\n",
       "           random_state=None, shuffle=True, tol=None, verbose=0,\n",
       "           warm_start=False, wealth=0.5)"
      ]
     },
     "execution_count": 229,
     "metadata": {},
     "output_type": "execute_result"
    }
   ],
   "source": [
    "model = AlphaInvestClassifier(max_iter=1000)\n",
    "model.fit(X1, y)"
   ]
  },
  {
   "cell_type": "code",
   "execution_count": 230,
   "metadata": {},
   "outputs": [
    {
     "data": {
      "text/plain": [
       "(1, 50)"
      ]
     },
     "execution_count": 230,
     "metadata": {},
     "output_type": "execute_result"
    }
   ],
   "source": [
    "model.coef_.shape"
   ]
  },
  {
   "cell_type": "code",
   "execution_count": 231,
   "metadata": {},
   "outputs": [
    {
     "data": {
      "text/plain": [
       "(100, 100)"
      ]
     },
     "execution_count": 231,
     "metadata": {},
     "output_type": "execute_result"
    }
   ],
   "source": [
    "X.shape"
   ]
  },
  {
   "cell_type": "code",
   "execution_count": 232,
   "metadata": {},
   "outputs": [
    {
     "data": {
      "text/plain": [
       "AlphaInvestClassifier(alpha=0.0001, average=False, class_weight=None,\n",
       "           delta_alpha=0.5, epsilon=0.1, eta0=0.0, fit_intercept=True,\n",
       "           l1_ratio=0.15, learning_rate='optimal', loss='log',\n",
       "           max_iter=1000, n_iter=None, n_jobs=1, penalty='l2', power_t=0.5,\n",
       "           random_state=None, shuffle=True, tol=None, verbose=0,\n",
       "           warm_start=False, wealth=5.496525188423535)"
      ]
     },
     "execution_count": 232,
     "metadata": {},
     "output_type": "execute_result"
    }
   ],
   "source": [
    "model.partial_fit(pdf, y)"
   ]
  },
  {
   "cell_type": "code",
   "execution_count": 233,
   "metadata": {},
   "outputs": [
    {
     "data": {
      "text/plain": [
       "(1, 63)"
      ]
     },
     "execution_count": 233,
     "metadata": {},
     "output_type": "execute_result"
    }
   ],
   "source": [
    "model.coef_.shape"
   ]
  },
  {
   "cell_type": "code",
   "execution_count": 234,
   "metadata": {},
   "outputs": [
    {
     "data": {
      "text/plain": [
       "array([[-1.40557248, -0.88788165,  0.38372411, -2.24081128,  0.66972483,\n",
       "        -0.64350162,  0.85438136,  0.04042193, -0.01538706,  0.06757342,\n",
       "        -1.25499272,  0.11494996, -1.40591974, -0.83071893,  0.16587216,\n",
       "         1.47474283, -1.22174061,  0.51435627, -0.12324712,  1.08245498,\n",
       "         2.69074713,  0.48649149,  0.89170509, -0.05568443, -0.07496318,\n",
       "         1.62795369, -0.57925737,  1.67012175,  1.3775246 ,  0.05973542,\n",
       "         0.93207993,  1.75555292,  1.70193322,  1.10237292,  0.28589175,\n",
       "        -2.14672538, -1.56547407, -0.77975897,  1.16712828, -2.28340218,\n",
       "        -0.50992027,  2.13034668,  1.62433397,  0.48339388, -2.34263205,\n",
       "        -0.3983398 , -1.82335428,  0.32547465,  0.42979027, -2.00671893,\n",
       "        -0.1772509 , -0.16498311, -0.35506663,  0.18110621,  0.44923474,\n",
       "         0.05680154,  0.07812235,  0.15597599, -0.37357532,  0.1499198 ,\n",
       "         0.44422007,  0.13859843, -0.26109668]])"
      ]
     },
     "execution_count": 234,
     "metadata": {},
     "output_type": "execute_result"
    }
   ],
   "source": [
    "model.coef_"
   ]
  },
  {
   "cell_type": "code",
   "execution_count": 236,
   "metadata": {},
   "outputs": [
    {
     "name": "stdout",
     "output_type": "stream",
     "text": [
      "(100, 63)\n"
     ]
    },
    {
     "data": {
      "text/plain": [
       "array([1, 0, 1, 1, 1, 0, 0, 0, 0, 1, 0, 1, 0, 1, 0, 1, 1, 0, 1, 1, 1, 0, 0,\n",
       "       0, 1, 1, 1, 1, 1, 1, 1, 1, 0, 1, 1, 1, 0, 1, 0, 1, 0, 0, 0, 0, 1, 1,\n",
       "       0, 0, 1, 1, 1, 1, 0, 0, 0, 0, 1, 0, 0, 0, 1, 1, 1, 1, 0, 0, 0, 0, 1,\n",
       "       0, 1, 0, 0, 0, 0, 0, 1, 0, 1, 0, 0, 0, 0, 0, 0, 0, 0, 0, 1, 0, 0, 1,\n",
       "       1, 1, 1, 0, 1, 0, 0, 0])"
      ]
     },
     "execution_count": 236,
     "metadata": {},
     "output_type": "execute_result"
    }
   ],
   "source": [
    "model.predict(pdf)"
   ]
  }
 ],
 "metadata": {
  "kernelspec": {
   "display_name": "Python [default]",
   "language": "python",
   "name": "python3"
  },
  "language_info": {
   "codemirror_mode": {
    "name": "ipython",
    "version": 3
   },
   "file_extension": ".py",
   "mimetype": "text/x-python",
   "name": "python",
   "nbconvert_exporter": "python",
   "pygments_lexer": "ipython3",
   "version": "3.5.2"
  }
 },
 "nbformat": 4,
 "nbformat_minor": 2
}
