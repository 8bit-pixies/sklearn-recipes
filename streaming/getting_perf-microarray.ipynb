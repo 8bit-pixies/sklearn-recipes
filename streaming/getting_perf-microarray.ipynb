{
 "cells": [
  {
   "cell_type": "code",
   "execution_count": 1,
   "metadata": {
    "collapsed": true
   },
   "outputs": [],
   "source": [
    "import glob\n",
    "\n",
    "import numpy as np\n",
    "import pandas as pd\n",
    "\n",
    "from grafting_classifier import GraftingClassifier\n",
    "from sklearn.linear_model import SGDClassifier\n",
    "from ogfs_classifier import OGFSClassifier\n",
    "from dpp_classifier import DPPClassifier\n",
    "from dpp_classifier_mitra import DPPClassifier as DPPClassifier2\n",
    "\n",
    "from sklearn.metrics import log_loss, accuracy_score\n",
    "\n",
    "#import dask.dataframe as dd\n",
    "#import dask.array as da"
   ]
  },
  {
   "cell_type": "code",
   "execution_count": 2,
   "metadata": {},
   "outputs": [
    {
     "name": "stdout",
     "output_type": "stream",
     "text": [
      "['microarray\\\\colon_train.csv', 'microarray\\\\leukemia_train.csv', 'microarray\\\\lung_cancer_train.csv', 'microarray\\\\prostate_train.csv']\n"
     ]
    }
   ],
   "source": [
    "class_train = glob.glob(\"microarray/*_train.csv\")\n",
    "print(class_train)"
   ]
  },
  {
   "cell_type": "code",
   "execution_count": 3,
   "metadata": {
    "collapsed": true
   },
   "outputs": [],
   "source": [
    "def train_label(fname):\n",
    "    targetname = fname.replace(\".csv\", \".labels\")\n",
    "    return pd.read_csv(targetname)"
   ]
  },
  {
   "cell_type": "code",
   "execution_count": 4,
   "metadata": {
    "collapsed": true
   },
   "outputs": [],
   "source": [
    "def get_performance(mod, fpath, base=False):\n",
    "    train1 = pd.read_csv(fpath).fillna(0)\n",
    "    y = np.array(train_label(fpath)).flatten()\n",
    "    \n",
    "    # simulate streaming...\n",
    "    # try splitting into groups of ~10,\n",
    "    # if there is no splits, try ~5.\n",
    "    train1_cols = np.array_split(range(train1.shape[1]), int(train1.shape[1]/10.0) + 1)\n",
    "    if len(train1_cols) == 1:\n",
    "        train1_cols = np.array_split(range(train1.shape[1]), int(train1.shape[1]/5.0) + 1)\n",
    "    all_cols = []\n",
    "\n",
    "    #mod = GraftingClassifier(max_iter=5)\n",
    "    if base:\n",
    "        mod.fit(train1, y)\n",
    "        results = {'accuracy': accuracy_score(y, mod.predict(train1)), \n",
    "               'logloss': log_loss(y, mod.predict_proba(train1)), \n",
    "               'feat_dim': mod.coef_.flatten().shape}\n",
    "        return results\n",
    "\n",
    "    for idx, collist in enumerate(train1_cols):\n",
    "        if idx == 0:\n",
    "            column_list = list(np.array(list(train1.columns))[collist])\n",
    "            mod.fit(train1[column_list], y)\n",
    "            all_cols.extend(list(collist))\n",
    "        else:\n",
    "            all_cols.extend(list(collist))\n",
    "            column_list = list(np.array(list(train1.columns))[all_cols])\n",
    "            mod.partial_fit(train1[column_list], y)\n",
    "    \n",
    "    results = {'accuracy': accuracy_score(y, mod.predict(train1)), \n",
    "               'logloss': log_loss(y, mod.predict_proba(train1)), \n",
    "               'feat_dim': mod.coef_.flatten().shape}\n",
    "    return results"
   ]
  },
  {
   "cell_type": "code",
   "execution_count": 5,
   "metadata": {
    "collapsed": true
   },
   "outputs": [],
   "source": [
    "models = [\n",
    "    ('Grafting', GraftingClassifier(max_iter=5, random_state=42)), \n",
    "    ('DPP', DPPClassifier(max_iter=5, random_state=42)), \n",
    "    ('DPP2', DPPClassifier2(max_iter=5, random_state=42)),\n",
    "    #('OGFS', OGFSClassifier(max_iter=5, random_state=42)),\n",
    "    ('Base', SGDClassifier(loss='log', max_iter=5, random_state=42))\n",
    "]"
   ]
  },
  {
   "cell_type": "code",
   "execution_count": 6,
   "metadata": {},
   "outputs": [
    {
     "name": "stderr",
     "output_type": "stream",
     "text": [
      "C:\\Users\\chapm\\Anaconda3\\envs\\skrecipe\\lib\\site-packages\\sklearn\\linear_model\\base.py:340: RuntimeWarning: overflow encountered in exp\n",
      "  np.exp(prob, prob)\n",
      "C:\\Users\\chapm\\Documents\\GitHub\\sklearn-recipes\\streaming\\dpp.py:233: RuntimeWarning: divide by zero encountered in true_divide\n",
      "  V_norm = V[choose_item, :]/Vj[choose_item]\n",
      "C:\\Users\\chapm\\Documents\\GitHub\\sklearn-recipes\\streaming\\dpp.py:215: RuntimeWarning: invalid value encountered in less\n",
      "  choose_item = np.random.choice(range(len(P_list)), 1, p=P_norm)[0]\n"
     ]
    },
    {
     "name": "stdout",
     "output_type": "stream",
     "text": [
      "Grafting {'accuracy': 1.0, 'logloss': 9.9920072216264148e-16, 'feat_dim': (490,)}\n"
     ]
    },
    {
     "name": "stderr",
     "output_type": "stream",
     "text": [
      "C:\\Users\\chapm\\Anaconda3\\envs\\skrecipe\\lib\\site-packages\\scipy\\stats\\morestats.py:2397: UserWarning: Warning: sample size too small for normal approximation.\n",
      "  warnings.warn(\"Warning: sample size too small for normal approximation.\")\n",
      "C:\\Users\\chapm\\Anaconda3\\envs\\skrecipe\\lib\\site-packages\\scipy\\stats\\morestats.py:2422: RuntimeWarning: invalid value encountered in double_scalars\n",
      "  z = (T - mn - correction) / se\n",
      "C:\\Users\\chapm\\Anaconda3\\envs\\skrecipe\\lib\\site-packages\\scipy\\stats\\_distn_infrastructure.py:879: RuntimeWarning: invalid value encountered in greater\n",
      "  return (self.a < x) & (x < self.b)\n",
      "C:\\Users\\chapm\\Anaconda3\\envs\\skrecipe\\lib\\site-packages\\scipy\\stats\\_distn_infrastructure.py:879: RuntimeWarning: invalid value encountered in less\n",
      "  return (self.a < x) & (x < self.b)\n",
      "C:\\Users\\chapm\\Anaconda3\\envs\\skrecipe\\lib\\site-packages\\scipy\\stats\\_distn_infrastructure.py:1818: RuntimeWarning: invalid value encountered in less_equal\n",
      "  cond2 = cond0 & (x <= self.a)\n"
     ]
    },
    {
     "name": "stdout",
     "output_type": "stream",
     "text": [
      "DPP {'accuracy': 0.80645161290322576, 'logloss': 6.6849244635311003, 'feat_dim': (84,)}\n",
      "DPP2 {'accuracy': 0.66129032258064513, 'logloss': 11.698617811179425, 'feat_dim': (81,)}\n",
      "Base {'accuracy': 0.66129032258064513, 'logloss': 11.698617811179425, 'feat_dim': (2000,)}\n"
     ]
    }
   ],
   "source": [
    "ex_dat = class_train[0]\n",
    "for nm, mod in models:\n",
    "    if nm != 'Base':\n",
    "        print(nm, get_performance(mod, ex_dat))\n",
    "    else:\n",
    "        print(nm, get_performance(mod, ex_dat, base=True))"
   ]
  },
  {
   "cell_type": "code",
   "execution_count": 7,
   "metadata": {},
   "outputs": [
    {
     "name": "stderr",
     "output_type": "stream",
     "text": [
      "C:\\Users\\chapm\\Anaconda3\\envs\\skrecipe\\lib\\site-packages\\sklearn\\linear_model\\base.py:340: RuntimeWarning: overflow encountered in exp\n",
      "  np.exp(prob, prob)\n"
     ]
    },
    {
     "name": "stdout",
     "output_type": "stream",
     "text": [
      "Grafting {'accuracy': 1.0, 'logloss': 9.9920072216264148e-16, 'feat_dim': (866,)}\n"
     ]
    },
    {
     "name": "stderr",
     "output_type": "stream",
     "text": [
      "C:\\Users\\chapm\\Documents\\GitHub\\sklearn-recipes\\streaming\\dpp.py:233: RuntimeWarning: divide by zero encountered in true_divide\n",
      "  V_norm = V[choose_item, :]/Vj[choose_item]\n",
      "C:\\Users\\chapm\\Documents\\GitHub\\sklearn-recipes\\streaming\\dpp.py:215: RuntimeWarning: invalid value encountered in less\n",
      "  choose_item = np.random.choice(range(len(P_list)), 1, p=P_norm)[0]\n",
      "C:\\Users\\chapm\\Anaconda3\\envs\\skrecipe\\lib\\site-packages\\scipy\\stats\\morestats.py:2397: UserWarning: Warning: sample size too small for normal approximation.\n",
      "  warnings.warn(\"Warning: sample size too small for normal approximation.\")\n",
      "C:\\Users\\chapm\\Anaconda3\\envs\\skrecipe\\lib\\site-packages\\scipy\\stats\\morestats.py:2422: RuntimeWarning: invalid value encountered in double_scalars\n",
      "  z = (T - mn - correction) / se\n",
      "C:\\Users\\chapm\\Anaconda3\\envs\\skrecipe\\lib\\site-packages\\scipy\\stats\\_distn_infrastructure.py:879: RuntimeWarning: invalid value encountered in greater\n",
      "  return (self.a < x) & (x < self.b)\n",
      "C:\\Users\\chapm\\Anaconda3\\envs\\skrecipe\\lib\\site-packages\\scipy\\stats\\_distn_infrastructure.py:879: RuntimeWarning: invalid value encountered in less\n",
      "  return (self.a < x) & (x < self.b)\n",
      "C:\\Users\\chapm\\Anaconda3\\envs\\skrecipe\\lib\\site-packages\\scipy\\stats\\_distn_infrastructure.py:1818: RuntimeWarning: invalid value encountered in less_equal\n",
      "  cond2 = cond0 & (x <= self.a)\n"
     ]
    },
    {
     "name": "stdout",
     "output_type": "stream",
     "text": [
      "DPP {'accuracy': 0.97222222222222221, 'logloss': 0.95941045541418646, 'feat_dim': (109,)}\n",
      "DPP2 {'accuracy': 0.40277777777777779, 'logloss': 20.627324791404991, 'feat_dim': (75,)}\n",
      "Base {'accuracy': 1.0, 'logloss': 9.9920072216264148e-16, 'feat_dim': (7129,)}\n"
     ]
    }
   ],
   "source": [
    "ex_dat = class_train[1]\n",
    "for nm, mod in models:\n",
    "    if nm != 'Base':\n",
    "        print(nm, get_performance(mod, ex_dat))\n",
    "    else:\n",
    "        print(nm, get_performance(mod, ex_dat, base=True))"
   ]
  },
  {
   "cell_type": "code",
   "execution_count": null,
   "metadata": {},
   "outputs": [
    {
     "name": "stderr",
     "output_type": "stream",
     "text": [
      "C:\\Users\\chapm\\Anaconda3\\envs\\skrecipe\\lib\\site-packages\\sklearn\\linear_model\\base.py:340: RuntimeWarning: overflow encountered in exp\n",
      "  np.exp(prob, prob)\n"
     ]
    },
    {
     "name": "stdout",
     "output_type": "stream",
     "text": [
      "Grafting {'accuracy': 1.0, 'logloss': 9.9920072216264128e-16, 'feat_dim': (140,)}\n"
     ]
    },
    {
     "name": "stderr",
     "output_type": "stream",
     "text": [
      "C:\\Users\\chapm\\Documents\\GitHub\\sklearn-recipes\\streaming\\dpp.py:233: RuntimeWarning: divide by zero encountered in true_divide\n",
      "  V_norm = V[choose_item, :]/Vj[choose_item]\n",
      "C:\\Users\\chapm\\Documents\\GitHub\\sklearn-recipes\\streaming\\dpp.py:215: RuntimeWarning: invalid value encountered in less\n",
      "  choose_item = np.random.choice(range(len(P_list)), 1, p=P_norm)[0]\n",
      "C:\\Users\\chapm\\Anaconda3\\envs\\skrecipe\\lib\\site-packages\\scipy\\stats\\morestats.py:2397: UserWarning: Warning: sample size too small for normal approximation.\n",
      "  warnings.warn(\"Warning: sample size too small for normal approximation.\")\n",
      "C:\\Users\\chapm\\Anaconda3\\envs\\skrecipe\\lib\\site-packages\\scipy\\stats\\morestats.py:2422: RuntimeWarning: invalid value encountered in double_scalars\n",
      "  z = (T - mn - correction) / se\n",
      "C:\\Users\\chapm\\Anaconda3\\envs\\skrecipe\\lib\\site-packages\\scipy\\stats\\_distn_infrastructure.py:879: RuntimeWarning: invalid value encountered in greater\n",
      "  return (self.a < x) & (x < self.b)\n",
      "C:\\Users\\chapm\\Anaconda3\\envs\\skrecipe\\lib\\site-packages\\scipy\\stats\\_distn_infrastructure.py:879: RuntimeWarning: invalid value encountered in less\n",
      "  return (self.a < x) & (x < self.b)\n",
      "C:\\Users\\chapm\\Anaconda3\\envs\\skrecipe\\lib\\site-packages\\scipy\\stats\\_distn_infrastructure.py:1818: RuntimeWarning: invalid value encountered in less_equal\n",
      "  cond2 = cond0 & (x <= self.a)\n",
      "C:\\Users\\chapm\\Documents\\GitHub\\sklearn-recipes\\streaming\\dpp.py:214: RuntimeWarning: invalid value encountered in true_divide\n",
      "  P_norm = P_norm/np.sum(P_norm)\n"
     ]
    },
    {
     "name": "stdout",
     "output_type": "stream",
     "text": [
      "DPP {'accuracy': 0.93922651933701662, 'logloss': 2.0990416593592136, 'feat_dim': (48,)}\n",
      "DPP2 {'accuracy': 0.94475138121546964, 'logloss': 1.9082196903265574, 'feat_dim': (210,)}\n",
      "Base {'accuracy': 1.0, 'logloss': 9.9920072216264128e-16, 'feat_dim': (12533,)}\n"
     ]
    }
   ],
   "source": [
    "ex_dat = class_train[2]\n",
    "for nm, mod in models:\n",
    "    if nm != 'Base':\n",
    "        print(nm, get_performance(mod, ex_dat))\n",
    "    else:\n",
    "        print(nm, get_performance(mod, ex_dat, base=True))"
   ]
  },
  {
   "cell_type": "code",
   "execution_count": null,
   "metadata": {},
   "outputs": [
    {
     "name": "stderr",
     "output_type": "stream",
     "text": [
      "C:\\Users\\chapm\\Anaconda3\\envs\\skrecipe\\lib\\site-packages\\sklearn\\linear_model\\base.py:340: RuntimeWarning: overflow encountered in exp\n",
      "  np.exp(prob, prob)\n"
     ]
    },
    {
     "name": "stdout",
     "output_type": "stream",
     "text": [
      "Grafting {'accuracy': 1.0, 'logloss': 9.9920072216264128e-16, 'feat_dim': (1432,)}\n"
     ]
    },
    {
     "name": "stderr",
     "output_type": "stream",
     "text": [
      "C:\\Users\\chapm\\Documents\\GitHub\\sklearn-recipes\\streaming\\dpp.py:233: RuntimeWarning: divide by zero encountered in true_divide\n",
      "  V_norm = V[choose_item, :]/Vj[choose_item]\n",
      "C:\\Users\\chapm\\Documents\\GitHub\\sklearn-recipes\\streaming\\dpp.py:215: RuntimeWarning: invalid value encountered in less\n",
      "  choose_item = np.random.choice(range(len(P_list)), 1, p=P_norm)[0]\n",
      "C:\\Users\\chapm\\Anaconda3\\envs\\skrecipe\\lib\\site-packages\\scipy\\stats\\morestats.py:2397: UserWarning: Warning: sample size too small for normal approximation.\n",
      "  warnings.warn(\"Warning: sample size too small for normal approximation.\")\n",
      "C:\\Users\\chapm\\Anaconda3\\envs\\skrecipe\\lib\\site-packages\\scipy\\stats\\morestats.py:2422: RuntimeWarning: invalid value encountered in double_scalars\n",
      "  z = (T - mn - correction) / se\n",
      "C:\\Users\\chapm\\Anaconda3\\envs\\skrecipe\\lib\\site-packages\\scipy\\stats\\_distn_infrastructure.py:879: RuntimeWarning: invalid value encountered in greater\n",
      "  return (self.a < x) & (x < self.b)\n",
      "C:\\Users\\chapm\\Anaconda3\\envs\\skrecipe\\lib\\site-packages\\scipy\\stats\\_distn_infrastructure.py:879: RuntimeWarning: invalid value encountered in less\n",
      "  return (self.a < x) & (x < self.b)\n",
      "C:\\Users\\chapm\\Anaconda3\\envs\\skrecipe\\lib\\site-packages\\scipy\\stats\\_distn_infrastructure.py:1818: RuntimeWarning: invalid value encountered in less_equal\n",
      "  cond2 = cond0 & (x <= self.a)\n",
      "C:\\Users\\chapm\\Documents\\GitHub\\sklearn-recipes\\streaming\\dpp.py:240: RuntimeWarning: invalid value encountered in true_divide\n",
      "  V[:, a] = V[:, a]/np.linalg.norm(V[:, a])\n",
      "C:\\Users\\chapm\\Documents\\GitHub\\sklearn-recipes\\streaming\\dpp.py:214: RuntimeWarning: invalid value encountered in true_divide\n",
      "  P_norm = P_norm/np.sum(P_norm)\n",
      "C:\\Users\\chapm\\Documents\\GitHub\\sklearn-recipes\\streaming\\dpp.py:240: RuntimeWarning: divide by zero encountered in true_divide\n",
      "  V[:, a] = V[:, a]/np.linalg.norm(V[:, a])\n"
     ]
    },
    {
     "name": "stdout",
     "output_type": "stream",
     "text": [
      "DPP {'accuracy': 0.52941176470588236, 'logloss': 16.253541832899145, 'feat_dim': (69,)}\n"
     ]
    },
    {
     "name": "stderr",
     "output_type": "stream",
     "text": [
      "C:\\Users\\chapm\\Documents\\GitHub\\sklearn-recipes\\streaming\\dpp.py:233: RuntimeWarning: overflow encountered in true_divide\n",
      "  V_norm = V[choose_item, :]/Vj[choose_item]\n"
     ]
    }
   ],
   "source": [
    "ex_dat = class_train[3]\n",
    "for nm, mod in models:\n",
    "    if nm != 'Base':\n",
    "        print(nm, get_performance(mod, ex_dat))\n",
    "    else:\n",
    "        print(nm, get_performance(mod, ex_dat, base=True))"
   ]
  }
 ],
 "metadata": {
  "kernelspec": {
   "display_name": "Python [conda env:skrecipe]",
   "language": "python",
   "name": "conda-env-skrecipe-py"
  },
  "language_info": {
   "codemirror_mode": {
    "name": "ipython",
    "version": 3
   },
   "file_extension": ".py",
   "mimetype": "text/x-python",
   "name": "python",
   "nbconvert_exporter": "python",
   "pygments_lexer": "ipython3",
   "version": "3.6.2"
  }
 },
 "nbformat": 4,
 "nbformat_minor": 2
}
