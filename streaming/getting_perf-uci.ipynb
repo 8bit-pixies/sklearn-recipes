{
 "cells": [
  {
   "cell_type": "code",
   "execution_count": 1,
   "metadata": {
    "collapsed": true
   },
   "outputs": [],
   "source": [
    "import glob\n",
    "\n",
    "import numpy as np\n",
    "import pandas as pd\n",
    "\n",
    "from grafting_classifier import GraftingClassifier\n",
    "from sklearn.linear_model import SGDClassifier\n",
    "from ogfs_classifier import OGFSClassifier\n",
    "from osfs_classifier import OSFSClassifier\n",
    "from dpp_classifier import DPPClassifier\n",
    "from dpp_classifier_mitra import DPPClassifier as DPPClassifier2\n",
    "from dpp_classifier_ogfs import DPPClassifier as DPPClassifier3\n",
    "\n",
    "from sklearn.metrics import log_loss, accuracy_score\n",
    "\n",
    "#import dask.dataframe as dd\n",
    "#import dask.array as da"
   ]
  },
  {
   "cell_type": "code",
   "execution_count": 2,
   "metadata": {
    "collapsed": false
   },
   "outputs": [
    {
     "name": "stdout",
     "output_type": "stream",
     "text": [
      "['uci\\\\BreastCancer_train.csv', 'uci\\\\Ionosphere_train.csv', 'uci\\\\PimaIndiansDiabetes_train.csv']\n"
     ]
    }
   ],
   "source": [
    "class_train = glob.glob(\"uci/*_train.csv\")\n",
    "print(class_train)"
   ]
  },
  {
   "cell_type": "code",
   "execution_count": 3,
   "metadata": {
    "collapsed": true
   },
   "outputs": [],
   "source": [
    "def train_label(fname):\n",
    "    targetname = fname.replace(\".csv\", \".labels\")\n",
    "    return pd.read_csv(targetname)"
   ]
  },
  {
   "cell_type": "code",
   "execution_count": 4,
   "metadata": {
    "collapsed": true
   },
   "outputs": [],
   "source": [
    "def get_performance(mod, fpath, base=False):\n",
    "    train1 = pd.read_csv(fpath).fillna(0)\n",
    "    y = np.array(train_label(fpath)).flatten()\n",
    "    \n",
    "    # simulate streaming...\n",
    "    # try splitting into groups of ~10,\n",
    "    # if there is no splits, try ~5.\n",
    "    train1_cols = np.array_split(range(train1.shape[1]), int(train1.shape[1]/10.0) + 1)\n",
    "    if len(train1_cols) == 1:\n",
    "        train1_cols = np.array_split(range(train1.shape[1]), int(train1.shape[1]/5.0) + 1)\n",
    "    all_cols = []\n",
    "\n",
    "    #mod = GraftingClassifier(max_iter=5)\n",
    "    if base:\n",
    "        mod.fit(train1, y)\n",
    "        results = {'accuracy': accuracy_score(y, mod.predict(train1)), \n",
    "               'logloss': log_loss(y, mod.predict_proba(train1)), \n",
    "               'feat_dim': mod.coef_.flatten().shape}\n",
    "        return results\n",
    "\n",
    "    for idx, collist in enumerate(train1_cols):\n",
    "        if idx == 0:\n",
    "            column_list = list(np.array(list(train1.columns))[collist])\n",
    "            mod.fit(train1[column_list], y)\n",
    "            all_cols.extend(list(collist))\n",
    "        else:\n",
    "            all_cols.extend(list(collist))\n",
    "            column_list = list(np.array(list(train1.columns))[all_cols])\n",
    "            mod.partial_fit(train1[column_list], y)\n",
    "    \n",
    "    results = {'accuracy': accuracy_score(y, mod.predict(train1)), \n",
    "               'logloss': log_loss(y, mod.predict_proba(train1)), \n",
    "               'feat_dim': mod.coef_.flatten().shape}\n",
    "    return results"
   ]
  },
  {
   "cell_type": "code",
   "execution_count": 18,
   "metadata": {
    "collapsed": true
   },
   "outputs": [],
   "source": [
    "def create_models():\n",
    "    return [\n",
    "    ('Grafting', GraftingClassifier(max_iter=5, random_state=42)), \n",
    "    ('DPP', DPPClassifier(max_iter=5, random_state=42)), \n",
    "    ('DPP2', DPPClassifier2(max_iter=5, random_state=42)),\n",
    "    ('DPP3', DPPClassifier3(max_iter=5, random_state=42)),\n",
    "    ('OGFS', OGFSClassifier(max_iter=5, random_state=42)),\n",
    "    ('OSFS', OSFSClassifier(max_iter=5, random_state=42)),\n",
    "    ('Base', SGDClassifier(loss='log', max_iter=5, random_state=42))\n",
    "]"
   ]
  },
  {
   "cell_type": "code",
   "execution_count": 6,
   "metadata": {
    "collapsed": false
   },
   "outputs": [
    {
     "name": "stderr",
     "output_type": "stream",
     "text": [
      "C:\\Users\\chapm\\Anaconda3\\envs\\skrecipe\\lib\\site-packages\\sklearn\\linear_model\\base.py:340: RuntimeWarning: overflow encountered in exp\n",
      "  np.exp(prob, prob)\n",
      "C:\\Users\\chapm\\Documents\\GitHub\\sklearn-recipes\\streaming\\dpp.py:233: RuntimeWarning: divide by zero encountered in true_divide\n",
      "  V_norm = V[choose_item, :]/Vj[choose_item]\n",
      "C:\\Users\\chapm\\Documents\\GitHub\\sklearn-recipes\\streaming\\dpp.py:215: RuntimeWarning: invalid value encountered in less\n",
      "  choose_item = np.random.choice(range(len(P_list)), 1, p=P_norm)[0]\n",
      "C:\\Users\\chapm\\Anaconda3\\envs\\skrecipe\\lib\\site-packages\\scipy\\stats\\morestats.py:2397: UserWarning: Warning: sample size too small for normal approximation.\n",
      "  warnings.warn(\"Warning: sample size too small for normal approximation.\")\n",
      "C:\\Users\\chapm\\Anaconda3\\envs\\skrecipe\\lib\\site-packages\\scipy\\stats\\morestats.py:2422: RuntimeWarning: invalid value encountered in double_scalars\n",
      "  z = (T - mn - correction) / se\n",
      "C:\\Users\\chapm\\Anaconda3\\envs\\skrecipe\\lib\\site-packages\\scipy\\stats\\_distn_infrastructure.py:879: RuntimeWarning: invalid value encountered in greater\n",
      "  return (self.a < x) & (x < self.b)\n",
      "C:\\Users\\chapm\\Anaconda3\\envs\\skrecipe\\lib\\site-packages\\scipy\\stats\\_distn_infrastructure.py:879: RuntimeWarning: invalid value encountered in less\n",
      "  return (self.a < x) & (x < self.b)\n",
      "C:\\Users\\chapm\\Anaconda3\\envs\\skrecipe\\lib\\site-packages\\scipy\\stats\\_distn_infrastructure.py:1818: RuntimeWarning: invalid value encountered in less_equal\n",
      "  cond2 = cond0 & (x <= self.a)\n"
     ]
    },
    {
     "name": "stdout",
     "output_type": "stream",
     "text": [
      "Grafting {'accuracy': 0.65104166666666663, 'logloss': 12.052593846140708, 'feat_dim': (8,)}\n",
      "DPP {'accuracy': 0.65494791666666663, 'logloss': 11.917676750848088, 'feat_dim': (4,)}\n",
      "DPP2 {'accuracy': 0.64973958333333337, 'logloss': 12.097566211238245, 'feat_dim': (5,)}\n",
      "DPP3 {'accuracy': 0.63411458333333337, 'logloss': 12.571086838711411, 'feat_dim': (7,)}\n",
      "OGFS {'accuracy': 0.50520833333333337, 'logloss': 17.058408630870893, 'feat_dim': (6,)}\n",
      "OSFS {'accuracy': 0.65494791666666663, 'logloss': 11.570228328980377, 'feat_dim': (3,)}\n",
      "Base {'accuracy': 0.63541666666666663, 'logloss': 12.592262227311187, 'feat_dim': (8,)}\n"
     ]
    },
    {
     "name": "stderr",
     "output_type": "stream",
     "text": [
      "C:\\Users\\chapm\\Documents\\GitHub\\sklearn-recipes\\streaming\\osfs_util.py:34: RuntimeWarning: divide by zero encountered in true_divide\n",
      "  z_score = 0.5*np.log((1+cor_m)/(1-cor_m))\n"
     ]
    }
   ],
   "source": [
    "ex_dat = class_train[2]\n",
    "models = create_models()\n",
    "for nm, mod in models:\n",
    "    if nm != 'Base':\n",
    "        print(nm, get_performance(mod, ex_dat))\n",
    "    else:\n",
    "        print(nm, get_performance(mod, ex_dat, base=True))"
   ]
  },
  {
   "cell_type": "code",
   "execution_count": 14,
   "metadata": {
    "collapsed": false
   },
   "outputs": [
    {
     "name": "stdout",
     "output_type": "stream",
     "text": [
      "Grafting {'accuracy': 0.97138769670958514, 'logloss': 0.91856623906017976, 'feat_dim': (9,)}\n",
      "DPP {'accuracy': 0.94706723891273248, 'logloss': 1.6185424629236025, 'feat_dim': (5,)}\n",
      "DPP2 {'accuracy': 0.9570815450643777, 'logloss': 1.4133663631023548, 'feat_dim': (6,)}\n",
      "DPP3 {'accuracy': 0.87267525035765381, 'logloss': 3.9070534432835231, 'feat_dim': (9,)}\n"
     ]
    },
    {
     "name": "stderr",
     "output_type": "stream",
     "text": [
      "C:\\Users\\chapm\\Anaconda3\\envs\\skrecipe\\lib\\site-packages\\scipy\\stats\\morestats.py:2397: UserWarning: Warning: sample size too small for normal approximation.\n",
      "  warnings.warn(\"Warning: sample size too small for normal approximation.\")\n",
      "C:\\Users\\chapm\\Anaconda3\\envs\\skrecipe\\lib\\site-packages\\scipy\\stats\\morestats.py:2422: RuntimeWarning: invalid value encountered in double_scalars\n",
      "  z = (T - mn - correction) / se\n",
      "C:\\Users\\chapm\\Anaconda3\\envs\\skrecipe\\lib\\site-packages\\scipy\\stats\\_distn_infrastructure.py:879: RuntimeWarning: invalid value encountered in greater\n",
      "  return (self.a < x) & (x < self.b)\n",
      "C:\\Users\\chapm\\Anaconda3\\envs\\skrecipe\\lib\\site-packages\\scipy\\stats\\_distn_infrastructure.py:879: RuntimeWarning: invalid value encountered in less\n",
      "  return (self.a < x) & (x < self.b)\n",
      "C:\\Users\\chapm\\Anaconda3\\envs\\skrecipe\\lib\\site-packages\\scipy\\stats\\_distn_infrastructure.py:1818: RuntimeWarning: invalid value encountered in less_equal\n",
      "  cond2 = cond0 & (x <= self.a)\n"
     ]
    },
    {
     "name": "stdout",
     "output_type": "stream",
     "text": [
      "OGFS {'accuracy': 0.94992846924177399, 'logloss': 1.5791605522077283, 'feat_dim': (7,)}\n",
      "OSFS {'accuracy': 0.90414878397711018, 'logloss': 2.998981862509567, 'feat_dim': (2,)}\n",
      "Base {'accuracy': 0.96995708154506433, 'logloss': 0.9308724123193598, 'feat_dim': (9,)}\n"
     ]
    },
    {
     "name": "stderr",
     "output_type": "stream",
     "text": [
      "C:\\Users\\chapm\\Documents\\GitHub\\sklearn-recipes\\streaming\\osfs_util.py:34: RuntimeWarning: divide by zero encountered in true_divide\n",
      "  z_score = 0.5*np.log((1+cor_m)/(1-cor_m))\n"
     ]
    }
   ],
   "source": [
    "ex_dat = class_train[0]\n",
    "models = create_models()\n",
    "for nm, mod in models:\n",
    "    if nm != 'Base':\n",
    "        print(nm, get_performance(mod, ex_dat))\n",
    "    else:\n",
    "        print(nm, get_performance(mod, ex_dat, base=True))"
   ]
  },
  {
   "cell_type": "code",
   "execution_count": 17,
   "metadata": {
    "collapsed": false
   },
   "outputs": [
    {
     "name": "stdout",
     "output_type": "stream",
     "text": [
      "Grafting {'accuracy': 0.89743589743589747, 'logloss': 1.9542522745571684, 'feat_dim': (33,)}\n",
      "DPP {'accuracy': 0.88319088319088324, 'logloss': 1.3414946864222554, 'feat_dim': (22,)}\n",
      "DPP2 {'accuracy': 0.85470085470085466, 'logloss': 1.1251716041792057, 'feat_dim': (22,)}\n"
     ]
    },
    {
     "name": "stderr",
     "output_type": "stream",
     "text": [
      "C:\\Users\\chapm\\Documents\\GitHub\\sklearn-recipes\\streaming\\dpp_classifier_mitra.py:49: RuntimeWarning: divide by zero encountered in true_divide\n",
      "  S_c2 = np.diag(s_b)/np.diag(s_w)   # OGFS (criterion2)\n",
      "C:\\Users\\chapm\\Documents\\GitHub\\sklearn-recipes\\streaming\\dpp_classifier_ogfs.py:79: RuntimeWarning: divide by zero encountered in true_divide\n",
      "  X = s_b/s_w\n",
      "C:\\Users\\chapm\\Documents\\GitHub\\sklearn-recipes\\streaming\\dpp_classifier_ogfs.py:98: RuntimeWarning: divide by zero encountered in double_scalars\n",
      "  prev_score = np.sum(curr_u1)/np.sum(curr_u2)\n",
      "C:\\Users\\chapm\\Documents\\GitHub\\sklearn-recipes\\streaming\\dpp_classifier_ogfs.py:93: RuntimeWarning: divide by zero encountered in double_scalars\n",
      "  score = ((np.sum(test_u1)/np.sum(test_u2)) - prev_score)\n",
      "C:\\Users\\chapm\\Documents\\GitHub\\sklearn-recipes\\streaming\\dpp_classifier_ogfs.py:93: RuntimeWarning: invalid value encountered in double_scalars\n",
      "  score = ((np.sum(test_u1)/np.sum(test_u2)) - prev_score)\n",
      "C:\\Users\\chapm\\Documents\\GitHub\\sklearn-recipes\\streaming\\dpp_classifier_ogfs.py:143: RuntimeWarning: divide by zero encountered in true_divide\n",
      "  eval2 = s_b/s_w\n",
      "C:\\Users\\chapm\\Documents\\GitHub\\sklearn-recipes\\streaming\\dpp_classifier_ogfs.py:145: RuntimeWarning: divide by zero encountered in true_divide\n",
      "  eval2 = np.diag(s_b)/np.diag(s_w)\n",
      "C:\\Users\\chapm\\Anaconda3\\envs\\skrecipe\\lib\\site-packages\\numpy\\core\\_methods.py:112: RuntimeWarning: invalid value encountered in subtract\n",
      "  x = asanyarray(arr - arrmean)\n",
      "C:\\Users\\chapm\\Anaconda3\\envs\\skrecipe\\lib\\site-packages\\scipy\\stats\\_distn_infrastructure.py:876: RuntimeWarning: invalid value encountered in greater_equal\n",
      "  return (self.a <= x) & (x <= self.b)\n",
      "C:\\Users\\chapm\\Anaconda3\\envs\\skrecipe\\lib\\site-packages\\scipy\\stats\\_distn_infrastructure.py:876: RuntimeWarning: invalid value encountered in less_equal\n",
      "  return (self.a <= x) & (x <= self.b)\n"
     ]
    },
    {
     "name": "stdout",
     "output_type": "stream",
     "text": [
      "DPP3 {'accuracy': 0.86609686609686609, 'logloss': 1.1260011462820467, 'feat_dim': (21,)}\n",
      "OGFS {'accuracy': 0.89743589743589747, 'logloss': 1.2220482424845152, 'feat_dim': (25,)}\n"
     ]
    },
    {
     "name": "stderr",
     "output_type": "stream",
     "text": [
      "C:\\Users\\chapm\\Documents\\GitHub\\sklearn-recipes\\streaming\\osfs_util.py:34: RuntimeWarning: divide by zero encountered in true_divide\n",
      "  z_score = 0.5*np.log((1+cor_m)/(1-cor_m))\n"
     ]
    },
    {
     "name": "stdout",
     "output_type": "stream",
     "text": [
      "OSFS {'accuracy': 0.88888888888888884, 'logloss': 1.2373781425976114, 'feat_dim': (21,)}\n",
      "Base {'accuracy': 0.91737891737891741, 'logloss': 1.9154349277794036, 'feat_dim': (34,)}\n"
     ]
    }
   ],
   "source": [
    "ex_dat = class_train[1]\n",
    "models = create_models()\n",
    "for nm, mod in models:\n",
    "    if nm != 'Base':\n",
    "        print(nm, get_performance(mod, ex_dat))\n",
    "    else:\n",
    "        print(nm, get_performance(mod, ex_dat, base=True))"
   ]
  },
  {
   "cell_type": "code",
   "execution_count": null,
   "metadata": {
    "collapsed": true
   },
   "outputs": [],
   "source": []
  }
 ],
 "metadata": {
  "anaconda-cloud": {},
  "kernelspec": {
   "display_name": "Python [conda env:skrecipe]",
   "language": "python",
   "name": "conda-env-skrecipe-py"
  },
  "language_info": {
   "codemirror_mode": {
    "name": "ipython",
    "version": 3
   },
   "file_extension": ".py",
   "mimetype": "text/x-python",
   "name": "python",
   "nbconvert_exporter": "python",
   "pygments_lexer": "ipython3",
   "version": "3.6.2"
  }
 },
 "nbformat": 4,
 "nbformat_minor": 2
}
