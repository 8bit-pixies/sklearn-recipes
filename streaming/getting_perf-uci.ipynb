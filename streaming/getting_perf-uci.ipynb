{
 "cells": [
  {
   "cell_type": "code",
   "execution_count": 1,
   "metadata": {
    "collapsed": true
   },
   "outputs": [],
   "source": [
    "import glob\n",
    "\n",
    "import numpy as np\n",
    "import pandas as pd\n",
    "\n",
    "from grafting_classifier import GraftingClassifier\n",
    "from sklearn.linear_model import SGDClassifier\n",
    "from ogfs_classifier import OGFSClassifier\n",
    "from osfs_classifier import OSFSClassifier\n",
    "from dpp_classifier import DPPClassifier\n",
    "from dpp_classifier_mitra import DPPClassifier as DPPClassifier2\n",
    "from dpp_classifier_ogfs import DPPClassifier as DPPClassifier3\n",
    "\n",
    "from sklearn.metrics import log_loss, accuracy_score\n",
    "\n",
    "#import dask.dataframe as dd\n",
    "#import dask.array as da"
   ]
  },
  {
   "cell_type": "code",
   "execution_count": 2,
   "metadata": {
    "collapsed": false
   },
   "outputs": [
    {
     "name": "stdout",
     "output_type": "stream",
     "text": [
      "['uci\\\\Ionosphere_train.csv', 'uci\\\\spambase_train.csv', 'uci\\\\spectf_train.csv', 'uci\\\\wdbc_train.csv']\n"
     ]
    }
   ],
   "source": [
    "class_train = glob.glob(\"uci/*_train.csv\")\n",
    "print(class_train)"
   ]
  },
  {
   "cell_type": "code",
   "execution_count": 3,
   "metadata": {
    "collapsed": true
   },
   "outputs": [],
   "source": [
    "def train_label(fname):\n",
    "    targetname = fname.replace(\".csv\", \".labels\")\n",
    "    return pd.read_csv(targetname)"
   ]
  },
  {
   "cell_type": "code",
   "execution_count": 4,
   "metadata": {
    "collapsed": true
   },
   "outputs": [],
   "source": [
    "def get_performance(mod, fpath, base=False):\n",
    "    train1 = pd.read_csv(fpath).fillna(0)\n",
    "    y = np.array(train_label(fpath)).flatten()\n",
    "    \n",
    "    # simulate streaming...\n",
    "    # try splitting into groups of ~10,\n",
    "    # if there is no splits, try ~5.\n",
    "    train1_cols = np.array_split(range(train1.shape[1]), int(train1.shape[1]/10.0) + 1)\n",
    "    if len(train1_cols) == 1:\n",
    "        train1_cols = np.array_split(range(train1.shape[1]), int(train1.shape[1]/5.0) + 1)\n",
    "    all_cols = []\n",
    "\n",
    "    #mod = GraftingClassifier(max_iter=5)\n",
    "    if base:\n",
    "        mod.fit(train1, y)\n",
    "        results = {'accuracy': accuracy_score(y, mod.predict(train1)), \n",
    "               'logloss': log_loss(y, mod.predict_proba(train1)), \n",
    "               'feat_dim': mod.coef_.flatten().shape}\n",
    "        return results\n",
    "    \n",
    "    # lets normalise the dataset...\n",
    "    train1 = (train1 - train1.mean())/(np.maximum(train1.std(), 1))\n",
    "    for idx, collist in enumerate(train1_cols):\n",
    "        if idx == 0:\n",
    "            column_list = list(np.array(list(train1.columns))[collist])\n",
    "            mod.fit(train1[column_list], y)\n",
    "            all_cols.extend(list(collist))\n",
    "        else:\n",
    "            all_cols.extend(list(collist))\n",
    "            column_list = list(np.array(list(train1.columns))[all_cols])\n",
    "            mod.partial_fit(train1[column_list], y)\n",
    "    \n",
    "    results = {'accuracy': accuracy_score(y, mod.predict(train1)), \n",
    "               'logloss': log_loss(y, mod.predict_proba(train1)), \n",
    "               'feat_dim': mod.coef_.flatten().shape}\n",
    "    return results"
   ]
  },
  {
   "cell_type": "code",
   "execution_count": 5,
   "metadata": {
    "collapsed": true
   },
   "outputs": [],
   "source": [
    "def create_models():\n",
    "    return [\n",
    "    ('Grafting', GraftingClassifier(max_iter=5, random_state=42)), \n",
    "    ('DPP', DPPClassifier(max_iter=5, random_state=42)), \n",
    "    #('DPP2', DPPClassifier2(max_iter=5, random_state=42)),\n",
    "    ('DPP3', DPPClassifier3(max_iter=5, random_state=42)),\n",
    "    ('OGFS', OGFSClassifier(max_iter=5, random_state=42)),\n",
    "    ('OSFS', OSFSClassifier(max_iter=5, random_state=42)),\n",
    "    ('Base', SGDClassifier(loss='log', max_iter=5, random_state=42))\n",
    "]"
   ]
  },
  {
   "cell_type": "code",
   "execution_count": 6,
   "metadata": {
    "collapsed": false
   },
   "outputs": [
    {
     "name": "stdout",
     "output_type": "stream",
     "text": [
      "uci\\Ionosphere_train.csv (351, 34)\n",
      "Grafting {'accuracy': 0.90028490028490027, 'logloss': 0.74098002095622384, 'feat_dim': (32,)}\n",
      "DPP {'accuracy': 0.86894586894586889, 'logloss': 0.48697468342748756, 'feat_dim': (9,)}\n"
     ]
    },
    {
     "name": "stderr",
     "output_type": "stream",
     "text": [
      "C:\\Users\\chapm\\Documents\\GitHub\\sklearn-recipes\\streaming\\dpp_classifier_ogfs.py:79: RuntimeWarning: divide by zero encountered in true_divide\n",
      "  X = s_b/s_w\n",
      "C:\\Users\\chapm\\Documents\\GitHub\\sklearn-recipes\\streaming\\dpp_classifier_ogfs.py:98: RuntimeWarning: divide by zero encountered in double_scalars\n",
      "  prev_score = np.sum(curr_u1)/np.sum(curr_u2)\n",
      "C:\\Users\\chapm\\Documents\\GitHub\\sklearn-recipes\\streaming\\dpp_classifier_ogfs.py:93: RuntimeWarning: divide by zero encountered in double_scalars\n",
      "  score = ((np.sum(test_u1)/np.sum(test_u2)) - prev_score)\n",
      "C:\\Users\\chapm\\Documents\\GitHub\\sklearn-recipes\\streaming\\dpp_classifier_ogfs.py:93: RuntimeWarning: invalid value encountered in double_scalars\n",
      "  score = ((np.sum(test_u1)/np.sum(test_u2)) - prev_score)\n",
      "C:\\Users\\chapm\\Documents\\GitHub\\sklearn-recipes\\streaming\\dpp_classifier_ogfs.py:143: RuntimeWarning: divide by zero encountered in true_divide\n",
      "  eval2 = s_b/s_w\n",
      "C:\\Users\\chapm\\Documents\\GitHub\\sklearn-recipes\\streaming\\dpp_classifier_ogfs.py:145: RuntimeWarning: divide by zero encountered in true_divide\n",
      "  eval2 = np.diag(s_b)/np.diag(s_w)\n",
      "C:\\Users\\chapm\\Anaconda3\\envs\\skrecipe\\lib\\site-packages\\numpy\\core\\_methods.py:112: RuntimeWarning: invalid value encountered in subtract\n",
      "  x = asanyarray(arr - arrmean)\n",
      "C:\\Users\\chapm\\Anaconda3\\envs\\skrecipe\\lib\\site-packages\\scipy\\stats\\_distn_infrastructure.py:876: RuntimeWarning: invalid value encountered in greater_equal\n",
      "  return (self.a <= x) & (x <= self.b)\n",
      "C:\\Users\\chapm\\Anaconda3\\envs\\skrecipe\\lib\\site-packages\\scipy\\stats\\_distn_infrastructure.py:876: RuntimeWarning: invalid value encountered in less_equal\n",
      "  return (self.a <= x) & (x <= self.b)\n"
     ]
    },
    {
     "name": "stdout",
     "output_type": "stream",
     "text": [
      "DPP3 {'accuracy': 0.86039886039886038, 'logloss': 0.74610861608362322, 'feat_dim': (23,)}\n",
      "OGFS {'accuracy': 0.87749287749287752, 'logloss': 0.66038083699105898, 'feat_dim': (26,)}\n",
      "OSFS {'accuracy': 0.79487179487179482, 'logloss': 1.1849841892721311, 'feat_dim': (5,)}\n",
      "Base {'accuracy': 0.91737891737891741, 'logloss': 1.9154349277794036, 'feat_dim': (34,)}\n"
     ]
    }
   ],
   "source": [
    "ex_dat = class_train[0]\n",
    "print(ex_dat, pd.read_csv(ex_dat).shape)\n",
    "models = create_models()\n",
    "for nm, mod in models:\n",
    "    if nm != 'Base':\n",
    "        print(nm, get_performance(mod, ex_dat))\n",
    "    else:\n",
    "        print(nm, get_performance(mod, ex_dat, base=True))"
   ]
  },
  {
   "cell_type": "code",
   "execution_count": 7,
   "metadata": {
    "collapsed": false
   },
   "outputs": [
    {
     "name": "stdout",
     "output_type": "stream",
     "text": [
      "uci\\spambase_train.csv (4601, 57)\n",
      "Grafting {'accuracy': 0.92088676374701151, 'logloss': 0.26983268043411535, 'feat_dim': (50,)}\n"
     ]
    },
    {
     "name": "stderr",
     "output_type": "stream",
     "text": [
      "C:\\Users\\chapm\\Anaconda3\\envs\\skrecipe\\lib\\site-packages\\sklearn\\kernel_approximation.py:470: UserWarning: n_components > n_samples. This is not possible.\n",
      "n_components was set to n_samples, which results in inefficient evaluation of the full kernel.\n",
      "  warnings.warn(\"n_components > n_samples. This is not possible.\\n\"\n",
      "C:\\Users\\chapm\\Anaconda3\\envs\\skrecipe\\lib\\site-packages\\scipy\\stats\\morestats.py:2397: UserWarning: Warning: sample size too small for normal approximation.\n",
      "  warnings.warn(\"Warning: sample size too small for normal approximation.\")\n",
      "C:\\Users\\chapm\\Anaconda3\\envs\\skrecipe\\lib\\site-packages\\scipy\\stats\\morestats.py:2422: RuntimeWarning: invalid value encountered in double_scalars\n",
      "  z = (T - mn - correction) / se\n",
      "C:\\Users\\chapm\\Anaconda3\\envs\\skrecipe\\lib\\site-packages\\scipy\\stats\\_distn_infrastructure.py:879: RuntimeWarning: invalid value encountered in greater\n",
      "  return (self.a < x) & (x < self.b)\n",
      "C:\\Users\\chapm\\Anaconda3\\envs\\skrecipe\\lib\\site-packages\\scipy\\stats\\_distn_infrastructure.py:879: RuntimeWarning: invalid value encountered in less\n",
      "  return (self.a < x) & (x < self.b)\n",
      "C:\\Users\\chapm\\Anaconda3\\envs\\skrecipe\\lib\\site-packages\\scipy\\stats\\_distn_infrastructure.py:1818: RuntimeWarning: invalid value encountered in less_equal\n",
      "  cond2 = cond0 & (x <= self.a)\n"
     ]
    },
    {
     "name": "stdout",
     "output_type": "stream",
     "text": [
      "DPP {'accuracy': 0.81938708976309493, 'logloss': 0.46031455107612113, 'feat_dim': (10,)}\n",
      "DPP3 {'accuracy': 0.88024342534231692, 'logloss': 0.35987306878143693, 'feat_dim': (37,)}\n",
      "OGFS {'accuracy': 0.91241034557704848, 'logloss': 0.29388171935398261, 'feat_dim': (24,)}\n",
      "OSFS {'accuracy': 0.81156270376005213, 'logloss': 0.49108155193168401, 'feat_dim': (7,)}\n",
      "Base {'accuracy': 0.708324277331015, 'logloss': 10.070713136799997, 'feat_dim': (57,)}\n"
     ]
    },
    {
     "name": "stderr",
     "output_type": "stream",
     "text": [
      "C:\\Users\\chapm\\Anaconda3\\envs\\skrecipe\\lib\\site-packages\\sklearn\\linear_model\\base.py:340: RuntimeWarning: overflow encountered in exp\n",
      "  np.exp(prob, prob)\n"
     ]
    }
   ],
   "source": [
    "ex_dat = class_train[1]\n",
    "print(ex_dat, pd.read_csv(ex_dat).shape)\n",
    "models = create_models()\n",
    "for nm, mod in models:\n",
    "    if nm != 'Base':\n",
    "        print(nm, get_performance(mod, ex_dat))\n",
    "    else:\n",
    "        print(nm, get_performance(mod, ex_dat, base=True))"
   ]
  },
  {
   "cell_type": "code",
   "execution_count": 8,
   "metadata": {
    "collapsed": false
   },
   "outputs": [
    {
     "name": "stdout",
     "output_type": "stream",
     "text": [
      "uci\\spectf_train.csv (267, 44)\n",
      "Grafting {'accuracy': 0.797752808988764, 'logloss': 0.5767922374772857, 'feat_dim': (37,)}\n",
      "DPP {'accuracy': 0.79400749063670417, 'logloss': 0.63745048472449595, 'feat_dim': (31,)}\n",
      "DPP3 {'accuracy': 0.79400749063670417, 'logloss': 0.70656341135636747, 'feat_dim': (29,)}\n"
     ]
    },
    {
     "name": "stderr",
     "output_type": "stream",
     "text": [
      "C:\\Users\\chapm\\Documents\\GitHub\\sklearn-recipes\\streaming\\SPEC.py:114: RuntimeWarning: invalid value encountered in power\n",
      "  d1 = np.power(np.array(W.sum(axis=1)), -0.5)\n",
      "C:\\Users\\chapm\\Documents\\GitHub\\sklearn-recipes\\streaming\\SPEC.py:116: RuntimeWarning: invalid value encountered in power\n",
      "  d2 = np.power(np.array(W.sum(axis=1)), 0.5)\n",
      "C:\\Users\\chapm\\Anaconda3\\envs\\skrecipe\\lib\\site-packages\\scipy\\stats\\_distn_infrastructure.py:876: RuntimeWarning: invalid value encountered in greater_equal\n",
      "  return (self.a <= x) & (x <= self.b)\n",
      "C:\\Users\\chapm\\Anaconda3\\envs\\skrecipe\\lib\\site-packages\\scipy\\stats\\_distn_infrastructure.py:876: RuntimeWarning: invalid value encountered in less_equal\n",
      "  return (self.a <= x) & (x <= self.b)\n"
     ]
    },
    {
     "name": "stdout",
     "output_type": "stream",
     "text": [
      "OGFS {'accuracy': 0.79400749063670417, 'logloss': 0.74690754658996694, 'feat_dim': (5,)}\n",
      "OSFS {'accuracy': 0.79400749063670417, 'logloss': 0.78399720192355737, 'feat_dim': (16,)}\n",
      "Base {'accuracy': 0.79400749063670417, 'logloss': 7.1147292199254215, 'feat_dim': (44,)}\n"
     ]
    }
   ],
   "source": [
    "ex_dat = class_train[2]\n",
    "print(ex_dat, pd.read_csv(ex_dat).shape)\n",
    "models = create_models()\n",
    "for nm, mod in models:\n",
    "    if nm != 'Base':\n",
    "        print(nm, get_performance(mod, ex_dat))\n",
    "    else:\n",
    "        print(nm, get_performance(mod, ex_dat, base=True))"
   ]
  },
  {
   "cell_type": "code",
   "execution_count": 9,
   "metadata": {
    "collapsed": false
   },
   "outputs": [
    {
     "name": "stdout",
     "output_type": "stream",
     "text": [
      "uci\\wdbc_train.csv (569, 30)\n",
      "Grafting {'accuracy': 0.94200351493848855, 'logloss': 0.19962258813204223, 'feat_dim': (24,)}\n",
      "DPP {'accuracy': 0.86291739894551844, 'logloss': 0.38867023987714688, 'feat_dim': (13,)}\n",
      "DPP3 {'accuracy': 0.86643233743409487, 'logloss': 0.38675676693202549, 'feat_dim': (13,)}\n",
      "OGFS {'accuracy': 0.95782073813708257, 'logloss': 0.10190076800196465, 'feat_dim': (18,)}\n",
      "OSFS {'accuracy': 0.77328646748681895, 'logloss': 0.46301339093328314, 'feat_dim': (10,)}\n",
      "Base {'accuracy': 0.91564147627416526, 'logloss': 2.9136401879713767, 'feat_dim': (30,)}\n"
     ]
    },
    {
     "name": "stderr",
     "output_type": "stream",
     "text": [
      "C:\\Users\\chapm\\Anaconda3\\envs\\skrecipe\\lib\\site-packages\\sklearn\\linear_model\\base.py:340: RuntimeWarning: overflow encountered in exp\n",
      "  np.exp(prob, prob)\n"
     ]
    }
   ],
   "source": [
    "ex_dat = class_train[3]\n",
    "print(ex_dat, pd.read_csv(ex_dat).shape)\n",
    "models = create_models()\n",
    "for nm, mod in models:\n",
    "    if nm != 'Base':\n",
    "        print(nm, get_performance(mod, ex_dat))\n",
    "    else:\n",
    "        print(nm, get_performance(mod, ex_dat, base=True))"
   ]
  },
  {
   "cell_type": "code",
   "execution_count": null,
   "metadata": {
    "collapsed": true
   },
   "outputs": [],
   "source": []
  }
 ],
 "metadata": {
  "anaconda-cloud": {},
  "kernelspec": {
   "display_name": "Python [conda env:skrecipe]",
   "language": "python",
   "name": "conda-env-skrecipe-py"
  },
  "language_info": {
   "codemirror_mode": {
    "name": "ipython",
    "version": 3
   },
   "file_extension": ".py",
   "mimetype": "text/x-python",
   "name": "python",
   "nbconvert_exporter": "python",
   "pygments_lexer": "ipython3",
   "version": "3.6.2"
  }
 },
 "nbformat": 4,
 "nbformat_minor": 2
}
