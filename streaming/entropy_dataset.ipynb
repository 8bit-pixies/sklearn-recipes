{
 "cells": [
  {
   "cell_type": "code",
   "execution_count": 7,
   "metadata": {},
   "outputs": [],
   "source": [
    "import numpy as np\n",
    "\n",
    "from sklearn.preprocessing import MinMaxScaler\n",
    "from sklearn.metrics.pairwise import euclidean_distances"
   ]
  },
  {
   "cell_type": "code",
   "execution_count": 4,
   "metadata": {},
   "outputs": [],
   "source": [
    "X = np.random.normal(size=(10, 10))"
   ]
  },
  {
   "cell_type": "markdown",
   "metadata": {},
   "source": [
    "**Entropy**\n",
    "\n",
    "Based on the paper in Mitra paper. _Distance_ is based on this:\n",
    "\n",
    "$$D_{pq}  = \\left( \\sum_{j=1}^M \\left(\\frac{x_{p,j} - x_{q,j}}{\\text{max}_j - \\text{min}_j}\\right)^2 \\right)^{1/2}$$\n",
    "\n",
    "This is simply `MinMaxScaler` with euclidean distance.\n",
    "\n",
    "Then we will further define\n",
    "\n",
    "$$\\text{sim}(p, q) = e^{-\\alpha D_{pq}}$$\n",
    "\n",
    "Where $\\alpha = \\frac{-\\log 0.5}{\\bar{D}}$ and $\\bar{D}$ is the average distance computed between data points for the whole dataset.\n",
    "\n",
    "Then using this, we can calculate _Entropy_:\n",
    "\n",
    "$$-\\sum_{p=1}^l \\sum_{q=1}^l (\\text{sim}(p, q) \\times \\log sim(p, q) + (1-\\text{sim}(p, q))\\times \\log(1-\\text{sim}(p, q)))$$"
   ]
  },
  {
   "cell_type": "code",
   "execution_count": 6,
   "metadata": {
    "collapsed": true
   },
   "outputs": [],
   "source": [
    "mm = MinMaxScaler()\n",
    "X_mm = mm.fit_transform(X)"
   ]
  },
  {
   "cell_type": "code",
   "execution_count": 25,
   "metadata": {},
   "outputs": [
    {
     "data": {
      "text/plain": [
       "array([ 2.71828183,  2.71828183,  2.71828183,  2.71828183,  2.71828183,\n",
       "        2.71828183])"
      ]
     },
     "execution_count": 25,
     "metadata": {},
     "output_type": "execute_result"
    }
   ],
   "source": [
    "np.exp(np.array([1,1,1,1,1,1]))"
   ]
  },
  {
   "cell_type": "code",
   "execution_count": 36,
   "metadata": {
    "collapsed": true
   },
   "outputs": [],
   "source": [
    "def entropy(X):\n",
    "    mm = MinMaxScaler()\n",
    "    X_mm = mm.fit_transform(X)\n",
    "    Dpq = euclidean_distances(X_mm)\n",
    "    D_bar = np.mean([x for x in np.triu(Dpq).flatten() if x != 0])\n",
    "    alpha = -np.log(0.5)/D_bar\n",
    "    sim_pq = np.exp(-alpha * Dpq)\n",
    "    log_sim_pq = np.log(sim_pq)\n",
    "    entropy = -2*np.sum(np.triu(sim_pq*log_sim_pq + ((1-sim_pq)*np.log((1-sim_pq))), 1))\n",
    "    return entropy"
   ]
  },
  {
   "cell_type": "code",
   "execution_count": 41,
   "metadata": {},
   "outputs": [
    {
     "name": "stderr",
     "output_type": "stream",
     "text": [
      "c:\\users\\chapm\\anaconda3\\lib\\site-packages\\ipykernel\\__main__.py:9: RuntimeWarning: divide by zero encountered in log\n",
      "c:\\users\\chapm\\anaconda3\\lib\\site-packages\\ipykernel\\__main__.py:9: RuntimeWarning: invalid value encountered in multiply\n"
     ]
    },
    {
     "data": {
      "text/plain": [
       "56.444984076641092"
      ]
     },
     "execution_count": 41,
     "metadata": {},
     "output_type": "execute_result"
    }
   ],
   "source": [
    "entropy(np.random.normal(size=(10, 2)))"
   ]
  }
 ],
 "metadata": {
  "kernelspec": {
   "display_name": "Python [default]",
   "language": "python",
   "name": "python3"
  },
  "language_info": {
   "codemirror_mode": {
    "name": "ipython",
    "version": 3
   },
   "file_extension": ".py",
   "mimetype": "text/x-python",
   "name": "python",
   "nbconvert_exporter": "python",
   "pygments_lexer": "ipython3",
   "version": "3.5.2"
  }
 },
 "nbformat": 4,
 "nbformat_minor": 2
}
