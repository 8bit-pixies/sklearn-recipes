{
 "cells": [
  {
   "cell_type": "code",
   "execution_count": 1,
   "metadata": {
    "collapsed": true
   },
   "outputs": [],
   "source": [
    "import glob\n",
    "\n",
    "import numpy as np\n",
    "import pandas as pd\n",
    "\n",
    "from grafting_classifier import GraftingClassifier\n",
    "from sklearn.linear_model import SGDClassifier\n",
    "from ogfs_classifier import OGFSClassifier\n",
    "from osfs_classifier import OSFSClassifier\n",
    "from dpp_classifier import DPPClassifier\n",
    "from dpp_classifier_mitra import DPPClassifier as DPPClassifier2\n",
    "from dpp_classifier_ogfs import DPPClassifier as DPPClassifier3\n",
    "\n",
    "from sklearn.metrics import log_loss, accuracy_score\n",
    "\n",
    "#import dask.dataframe as dd\n",
    "#import dask.array as da"
   ]
  },
  {
   "cell_type": "code",
   "execution_count": 2,
   "metadata": {},
   "outputs": [
    {
     "name": "stdout",
     "output_type": "stream",
     "text": [
      "['NIPS\\\\arcene_train.csv', 'NIPS\\\\dexter_train.csv', 'NIPS\\\\dorothea_train.csv', 'NIPS\\\\gisette_train.csv', 'NIPS\\\\madelon_train.csv']\n"
     ]
    }
   ],
   "source": [
    "class_train = glob.glob(\"NIPS/*_train.csv\")\n",
    "print(class_train)"
   ]
  },
  {
   "cell_type": "code",
   "execution_count": 3,
   "metadata": {
    "collapsed": true
   },
   "outputs": [],
   "source": [
    "def train_label(fname):\n",
    "    targetname = fname.replace(\".csv\", \".labels\")\n",
    "    return pd.read_csv(targetname)"
   ]
  },
  {
   "cell_type": "code",
   "execution_count": 4,
   "metadata": {
    "collapsed": true
   },
   "outputs": [],
   "source": [
    "def get_performance(mod, fpath, base=False):\n",
    "    train1 = pd.read_csv(fpath).fillna(0)\n",
    "    col_sel = [x for x in train1.columns.tolist() if x != 'target']\n",
    "    train1 = train1[col_sel]\n",
    "    y = np.array(train_label(fpath)).flatten()\n",
    "    \n",
    "    # simulate streaming...\n",
    "    # try splitting into groups of ~10,\n",
    "    # if there is no splits, try ~5.\n",
    "    train1_cols = np.array_split(range(train1.shape[1]), int(train1.shape[1]/10.0) + 1)\n",
    "    if len(train1_cols) == 1:\n",
    "        train1_cols = np.array_split(range(train1.shape[1]), int(train1.shape[1]/5.0) + 1)\n",
    "    all_cols = []\n",
    "\n",
    "    #mod = GraftingClassifier(max_iter=5)\n",
    "    if base:\n",
    "        mod.fit(train1, y)\n",
    "        results = {'accuracy': accuracy_score(y, mod.predict(train1)), \n",
    "               'logloss': log_loss(y, mod.predict_proba(train1)), \n",
    "               'feat_dim': mod.coef_.flatten().shape}\n",
    "        return results\n",
    "    \n",
    "    # lets normalise the dataset...\n",
    "    train1 = (train1 - train1.mean())/(np.maximum(train1.std(), 1))\n",
    "    for idx, collist in enumerate(train1_cols):\n",
    "        if idx == 0:\n",
    "            column_list = list(np.array(list(train1.columns))[collist])\n",
    "            mod.fit(train1[column_list], y)\n",
    "            all_cols.extend(list(collist))\n",
    "        else:\n",
    "            all_cols.extend(list(collist))\n",
    "            column_list = list(np.array(list(train1.columns))[all_cols])\n",
    "            mod.partial_fit(train1[column_list], y)\n",
    "    \n",
    "    results = {'accuracy': accuracy_score(y, mod.predict(train1)), \n",
    "               'logloss': log_loss(y, mod.predict_proba(train1)), \n",
    "               'feat_dim': mod.coef_.flatten().shape}\n",
    "    return results"
   ]
  },
  {
   "cell_type": "code",
   "execution_count": 5,
   "metadata": {
    "collapsed": true
   },
   "outputs": [],
   "source": [
    "def create_models():\n",
    "    return [\n",
    "    ('Grafting', GraftingClassifier(max_iter=5, random_state=42)), \n",
    "    ('DPP', DPPClassifier(max_iter=5, random_state=42)), \n",
    "    #('DPP2', DPPClassifier2(max_iter=5, random_state=42)),\n",
    "    ('DPP3', DPPClassifier3(max_iter=5, random_state=42)),\n",
    "    ('OGFS', OGFSClassifier(max_iter=5, random_state=42)),\n",
    "    ('OSFS', OSFSClassifier(max_iter=5, random_state=42)),\n",
    "    ('Base', SGDClassifier(loss='log', max_iter=5, random_state=42))\n",
    "]"
   ]
  },
  {
   "cell_type": "code",
   "execution_count": 6,
   "metadata": {},
   "outputs": [
    {
     "name": "stdout",
     "output_type": "stream",
     "text": [
      "NIPS\\gisette_train.csv (6000, 5000)\n",
      "Grafting {'accuracy': 0.98899999999999999, 'logloss': 0.036959451043201558, 'feat_dim': (138,)}\n"
     ]
    },
    {
     "name": "stderr",
     "output_type": "stream",
     "text": [
      "C:\\Users\\chapm\\Anaconda3\\envs\\skrecipe\\lib\\site-packages\\sklearn\\kernel_approximation.py:470: UserWarning: n_components > n_samples. This is not possible.\n",
      "n_components was set to n_samples, which results in inefficient evaluation of the full kernel.\n",
      "  warnings.warn(\"n_components > n_samples. This is not possible.\\n\"\n",
      "C:\\Users\\chapm\\Anaconda3\\envs\\skrecipe\\lib\\site-packages\\scipy\\stats\\morestats.py:2397: UserWarning: Warning: sample size too small for normal approximation.\n",
      "  warnings.warn(\"Warning: sample size too small for normal approximation.\")\n",
      "C:\\Users\\chapm\\Anaconda3\\envs\\skrecipe\\lib\\site-packages\\scipy\\stats\\morestats.py:2422: RuntimeWarning: invalid value encountered in double_scalars\n",
      "  z = (T - mn - correction) / se\n",
      "C:\\Users\\chapm\\Anaconda3\\envs\\skrecipe\\lib\\site-packages\\scipy\\stats\\_distn_infrastructure.py:879: RuntimeWarning: invalid value encountered in greater\n",
      "  return (self.a < x) & (x < self.b)\n",
      "C:\\Users\\chapm\\Anaconda3\\envs\\skrecipe\\lib\\site-packages\\scipy\\stats\\_distn_infrastructure.py:879: RuntimeWarning: invalid value encountered in less\n",
      "  return (self.a < x) & (x < self.b)\n",
      "C:\\Users\\chapm\\Anaconda3\\envs\\skrecipe\\lib\\site-packages\\scipy\\stats\\_distn_infrastructure.py:1818: RuntimeWarning: invalid value encountered in less_equal\n",
      "  cond2 = cond0 & (x <= self.a)\n",
      "C:\\Users\\chapm\\Documents\\GitHub\\sklearn-recipes\\streaming\\dpp.py:240: RuntimeWarning: invalid value encountered in true_divide\n",
      "  V[:, a] = V[:, a]/np.linalg.norm(V[:, a])\n",
      "C:\\Users\\chapm\\Documents\\GitHub\\sklearn-recipes\\streaming\\dpp.py:215: RuntimeWarning: invalid value encountered in less\n",
      "  choose_item = np.random.choice(range(len(P_list)), 1, p=P_norm)[0]\n",
      "C:\\Users\\chapm\\Documents\\GitHub\\sklearn-recipes\\streaming\\dpp.py:233: RuntimeWarning: divide by zero encountered in true_divide\n",
      "  V_norm = V[choose_item, :]/Vj[choose_item]\n"
     ]
    },
    {
     "name": "stdout",
     "output_type": "stream",
     "text": [
      "DPP {'accuracy': 0.76266666666666671, 'logloss': 0.53303751471298244, 'feat_dim': (6,)}\n"
     ]
    },
    {
     "name": "stderr",
     "output_type": "stream",
     "text": [
      "C:\\Users\\chapm\\Documents\\GitHub\\sklearn-recipes\\streaming\\dpp_classifier_ogfs.py:79: RuntimeWarning: divide by zero encountered in true_divide\n",
      "  X = s_b/s_w\n",
      "C:\\Users\\chapm\\Documents\\GitHub\\sklearn-recipes\\streaming\\dpp_classifier_ogfs.py:98: RuntimeWarning: divide by zero encountered in double_scalars\n",
      "  prev_score = np.sum(curr_u1)/np.sum(curr_u2)\n",
      "C:\\Users\\chapm\\Documents\\GitHub\\sklearn-recipes\\streaming\\dpp_classifier_ogfs.py:93: RuntimeWarning: divide by zero encountered in double_scalars\n",
      "  score = ((np.sum(test_u1)/np.sum(test_u2)) - prev_score)\n",
      "C:\\Users\\chapm\\Documents\\GitHub\\sklearn-recipes\\streaming\\dpp_classifier_ogfs.py:93: RuntimeWarning: invalid value encountered in double_scalars\n",
      "  score = ((np.sum(test_u1)/np.sum(test_u2)) - prev_score)\n",
      "C:\\Users\\chapm\\Documents\\GitHub\\sklearn-recipes\\streaming\\dpp_classifier_ogfs.py:143: RuntimeWarning: divide by zero encountered in true_divide\n",
      "  eval2 = s_b/s_w\n",
      "C:\\Users\\chapm\\Documents\\GitHub\\sklearn-recipes\\streaming\\dpp_classifier_ogfs.py:145: RuntimeWarning: divide by zero encountered in true_divide\n",
      "  eval2 = np.diag(s_b)/np.diag(s_w)\n",
      "C:\\Users\\chapm\\Anaconda3\\envs\\skrecipe\\lib\\site-packages\\numpy\\core\\_methods.py:112: RuntimeWarning: invalid value encountered in subtract\n",
      "  x = asanyarray(arr - arrmean)\n",
      "C:\\Users\\chapm\\Documents\\GitHub\\sklearn-recipes\\streaming\\dpp_classifier_ogfs.py:132: RuntimeWarning: invalid value encountered in double_scalars\n",
      "  t_stat = (mu - X[idx])/(sigma/np.sqrt(U))\n",
      "C:\\Users\\chapm\\Anaconda3\\envs\\skrecipe\\lib\\site-packages\\scipy\\stats\\_distn_infrastructure.py:876: RuntimeWarning: invalid value encountered in greater_equal\n",
      "  return (self.a <= x) & (x <= self.b)\n",
      "C:\\Users\\chapm\\Anaconda3\\envs\\skrecipe\\lib\\site-packages\\scipy\\stats\\_distn_infrastructure.py:876: RuntimeWarning: invalid value encountered in less_equal\n",
      "  return (self.a <= x) & (x <= self.b)\n"
     ]
    },
    {
     "name": "stdout",
     "output_type": "stream",
     "text": [
      "DPP3 {'accuracy': 0.76183333333333336, 'logloss': 0.49872233855613485, 'feat_dim': (32,)}\n"
     ]
    },
    {
     "name": "stderr",
     "output_type": "stream",
     "text": [
      "C:\\Users\\chapm\\Documents\\GitHub\\sklearn-recipes\\streaming\\SPEC.py:150: RuntimeWarning: divide by zero encountered in double_scalars\n",
      "  w_fea[i] = np.sum(a1 * s[0:n_samples-1])/(1-np.power(np.dot(np.transpose(F_hat), v), 2))\n",
      "C:\\Users\\chapm\\Documents\\GitHub\\sklearn-recipes\\streaming\\ogfs_classifier.py:80: RuntimeWarning: invalid value encountered in double_scalars\n",
      "  score = ((np.sum(test_u1)/np.sum(test_u2)) - prev_score)\n",
      "C:\\Users\\chapm\\Documents\\GitHub\\sklearn-recipes\\streaming\\ogfs_classifier.py:119: RuntimeWarning: invalid value encountered in double_scalars\n",
      "  t_stat = (mu - X[idx])/(sigma/np.sqrt(U))\n",
      "C:\\Users\\chapm\\Documents\\GitHub\\sklearn-recipes\\streaming\\ogfs_classifier.py:66: RuntimeWarning: invalid value encountered in true_divide\n",
      "  X = s_b/s_w\n",
      "C:\\Users\\chapm\\Documents\\GitHub\\sklearn-recipes\\streaming\\ogfs_classifier.py:85: RuntimeWarning: invalid value encountered in double_scalars\n",
      "  prev_score = np.sum(curr_u1)/np.sum(curr_u2)\n",
      "C:\\Users\\chapm\\Documents\\GitHub\\sklearn-recipes\\streaming\\ogfs_classifier.py:130: RuntimeWarning: invalid value encountered in true_divide\n",
      "  set2 = evaluate_feats2(s_b/s_w, alpha)\n"
     ]
    },
    {
     "name": "stdout",
     "output_type": "stream",
     "text": [
      "OGFS {'accuracy': 0.99116666666666664, 'logloss': 0.028828522153572341, 'feat_dim': (166,)}\n",
      "OSFS {'accuracy': 0.91916666666666669, 'logloss': 0.21737861485611581, 'feat_dim': (22,)}\n",
      "Base {'accuracy': 0.9986666666666667, 'logloss': 0.046051701859881909, 'feat_dim': (5000,)}\n"
     ]
    },
    {
     "name": "stderr",
     "output_type": "stream",
     "text": [
      "C:\\Users\\chapm\\Anaconda3\\envs\\skrecipe\\lib\\site-packages\\sklearn\\linear_model\\base.py:340: RuntimeWarning: overflow encountered in exp\n",
      "  np.exp(prob, prob)\n"
     ]
    }
   ],
   "source": [
    "ex_dat = class_train[3]\n",
    "print(ex_dat, pd.read_csv(ex_dat).shape)\n",
    "models = create_models()\n",
    "for nm, mod in models:\n",
    "    if nm != 'Base':\n",
    "        print(nm, get_performance(mod, ex_dat))\n",
    "    else:\n",
    "        print(nm, get_performance(mod, ex_dat, base=True))"
   ]
  }
 ],
 "metadata": {
  "anaconda-cloud": {},
  "kernelspec": {
   "display_name": "Python [conda env:skrecipe]",
   "language": "python",
   "name": "conda-env-skrecipe-py"
  },
  "language_info": {
   "codemirror_mode": {
    "name": "ipython",
    "version": 3
   },
   "file_extension": ".py",
   "mimetype": "text/x-python",
   "name": "python",
   "nbconvert_exporter": "python",
   "pygments_lexer": "ipython3",
   "version": "3.6.2"
  }
 },
 "nbformat": 4,
 "nbformat_minor": 2
}
