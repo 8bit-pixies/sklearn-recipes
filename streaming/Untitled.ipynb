{
 "cells": [
  {
   "cell_type": "code",
   "execution_count": 1,
   "metadata": {
    "collapsed": true
   },
   "outputs": [],
   "source": [
    "from scipy.stats import chi2_contingency\n",
    "from scipy import stats\n",
    "import scipy\n",
    "import numpy as np\n",
    "import random\n",
    "from scipy.stats import norm\n",
    "from sklearn.metrics.pairwise import rbf_kernel, linear_kernel, pairwise_kernels\n",
    "from sklearn.kernel_approximation import Nystroem\n",
    "\n",
    "from osfs_util import *"
   ]
  },
  {
   "cell_type": "code",
   "execution_count": 14,
   "metadata": {
    "collapsed": true
   },
   "outputs": [],
   "source": [
    "def fast_cor(X, y):\n",
    "    \"\"\"\n",
    "    As the dependency is a single variable there \n",
    "    is no need to loop through\n",
    "    we can use a kernel trick/approximation to solve it quickly.\n",
    "    \n",
    "    We do not care if things are perfectly negatively correlated here\n",
    "    \"\"\"\n",
    "    X_all = np.hstack([X, y.reshape(-1, 1)]).T\n",
    "    \n",
    "    # calculate correlation\n",
    "    if X_all.shape[0] < 1000:\n",
    "        K = pairwise_kernels(X_all, metric='cosine')\n",
    "    else:\n",
    "        K = Nystroem('cosine').fit_transform(X_all)\n",
    "    \n",
    "    #k_I = np.eye(K.shape[0])\n",
    "    #cov = K.dot(np.linalg.pinv(k_I - K))\n",
    "    d_inv = np.sqrt(np.diag(np.diag(K)))\n",
    "    corr = d_inv.dot(K).dot(d_inv)\n",
    "    return corr\n",
    "\n",
    "# calculate the partial correlation \n",
    "# using the info from wikipedia\n",
    "def fast_partial_cor(X, y):\n",
    "    \"\"\"\n",
    "    Calculate the partial correlation\n",
    "    \"\"\"\n",
    "    cor_f = fast_cor(X, y)\n",
    "    # now take out the last row and column...\n",
    "    cor_dim = cor_f.shape[0]-1\n",
    "    cor_x = cor_f[:, :cor_dim][:cor_dim, :]\n",
    "    cor_z = cor_f[cor_dim, :cor_dim].flatten()\n",
    "    \n",
    "    # calculate new correlation matrix\n",
    "    cor_m = np.ones((cor_x.shape[1], cor_x.shape[1]))\n",
    "    y_reshape = y.reshape(-1, 1)\n",
    "    tri_idx = np.triu_indices(cor_m.shape[1], 0)\n",
    "    for i, j in zip(tri_idx[0].flatten(), tri_idx[1].flatten()):\n",
    "        corr = (cor_x[i, j] - cor_z[i]*cor_z[j])\n",
    "        corr = corr/(np.sqrt(1-(cor_z[i]*cor_z[i]))*np.sqrt(1-(cor_z[j]*cor_z[j])))\n",
    "        cor_m[i, j] = corr\n",
    "        cor_m[j, i] = corr\n",
    "    return cor_m #, cor_x \n",
    "\n",
    "def fast_fisher_test(X, y):\n",
    "    \"\"\"\n",
    "    Claculate score between x, y, and z\n",
    "    \"\"\"\n",
    "    #cor_m = partial_cor(X, y)\n",
    "    cor_m = fast_partial_cor(X, y)\n",
    "    #print(cor_m.shape)\n",
    "    print(cor_m)\n",
    "    #cor_m[cor_m == 0] = np.finfo(float).eps\n",
    "    #cor_v = cor_m[0, 1]\n",
    "    z_score = 0.5*np.log((1+cor_m)/(1-cor_m))\n",
    "    z_n = len(set(list(y)))\n",
    "    N = X.shape[0]\n",
    "    test_stat = np.sqrt(N - z_n -3) * np.abs(z_score)\n",
    "    p_val = 1-scipy.stats.norm.cdf(test_stat)\n",
    "    np.fill_diagonal(p_val, float(\"inf\"))\n",
    "    return test_stat, p_val"
   ]
  },
  {
   "cell_type": "code",
   "execution_count": 16,
   "metadata": {
    "collapsed": true
   },
   "outputs": [],
   "source": [
    "X = np.random.normal(size=(10, 4))\n",
    "y = np.random.choice([0, 1], replace=True, size=10)"
   ]
  },
  {
   "cell_type": "code",
   "execution_count": 17,
   "metadata": {
    "collapsed": false
   },
   "outputs": [
    {
     "data": {
      "text/plain": [
       "array([[ 1.        , -0.35155508, -0.21116138, -0.32335698],\n",
       "       [-0.35155508,  1.        , -0.360369  ,  0.70616073],\n",
       "       [-0.21116138, -0.360369  ,  1.        , -0.06567142],\n",
       "       [-0.32335698,  0.70616073, -0.06567142,  1.        ]])"
      ]
     },
     "execution_count": 17,
     "metadata": {},
     "output_type": "execute_result"
    }
   ],
   "source": [
    "fast_partial_cor(X, y)"
   ]
  },
  {
   "cell_type": "code",
   "execution_count": 18,
   "metadata": {
    "collapsed": false
   },
   "outputs": [
    {
     "data": {
      "text/plain": [
       "array([[ 1.        , -0.61291546,  0.33684095, -0.48963989],\n",
       "       [-0.61291546,  1.        , -0.44922903,  0.70374419],\n",
       "       [ 0.33684095, -0.44922903,  1.        , -0.1607842 ],\n",
       "       [-0.48963989,  0.70374419, -0.1607842 ,  1.        ]])"
      ]
     },
     "execution_count": 18,
     "metadata": {},
     "output_type": "execute_result"
    }
   ],
   "source": [
    "partial_cor(X, y)"
   ]
  },
  {
   "cell_type": "code",
   "execution_count": 19,
   "metadata": {
    "collapsed": true
   },
   "outputs": [],
   "source": []
  },
  {
   "cell_type": "code",
   "execution_count": 20,
   "metadata": {
    "collapsed": false
   },
   "outputs": [
    {
     "name": "stdout",
     "output_type": "stream",
     "text": [
      "[[ 1.         -0.61291546  0.33684095 -0.48963989]\n",
      " [-0.61291546  1.         -0.44922903  0.70374419]\n",
      " [ 0.33684095 -0.44922903  1.         -0.1607842 ]\n",
      " [-0.48963989  0.70374419 -0.1607842   1.        ]]\n"
     ]
    },
    {
     "name": "stderr",
     "output_type": "stream",
     "text": [
      "C:\\Users\\chapm\\Documents\\GitHub\\sklearn-recipes\\streaming\\osfs_util.py:85: RuntimeWarning: divide by zero encountered in true_divide\n",
      "  z_score = 0.5*np.log((1+cor_m)/(1-cor_m))\n"
     ]
    },
    {
     "data": {
      "text/plain": [
       "(array([[        inf,  1.59560841,  0.78379744,  1.19760795],\n",
       "        [ 1.59560841,         inf,  1.08166202,  1.95584424],\n",
       "        [ 0.78379744,  1.08166202,         inf,  0.36267146],\n",
       "        [ 1.19760795,  1.95584424,  0.36267146,         inf]]),\n",
       " array([[        inf,  0.05528812,  0.21657949,  0.11553484],\n",
       "        [ 0.05528812,         inf,  0.13970137,  0.02524175],\n",
       "        [ 0.21657949,  0.13970137,         inf,  0.35842516],\n",
       "        [ 0.11553484,  0.02524175,  0.35842516,         inf]]))"
      ]
     },
     "execution_count": 20,
     "metadata": {},
     "output_type": "execute_result"
    }
   ],
   "source": [
    "fisher_test(X, y)"
   ]
  },
  {
   "cell_type": "code",
   "execution_count": 21,
   "metadata": {
    "collapsed": false
   },
   "outputs": [
    {
     "name": "stdout",
     "output_type": "stream",
     "text": [
      "[[ 1.         -0.35155508 -0.21116138 -0.32335698]\n",
      " [-0.35155508  1.         -0.360369    0.70616073]\n",
      " [-0.21116138 -0.360369    1.         -0.06567142]\n",
      " [-0.32335698  0.70616073 -0.06567142  1.        ]]\n"
     ]
    },
    {
     "name": "stderr",
     "output_type": "stream",
     "text": [
      "C:\\Users\\chapm\\Anaconda3\\lib\\site-packages\\ipykernel\\__main__.py:11: RuntimeWarning: divide by zero encountered in true_divide\n"
     ]
    },
    {
     "data": {
      "text/plain": [
       "(array([[ 41.84795378,   0.82112222,   0.47938306,   0.74995832],\n",
       "        [  0.82112222,          inf,   0.8436906 ,   1.96658601],\n",
       "        [  0.47938306,   0.8436906 ,          inf,   0.1470574 ],\n",
       "        [  0.74995832,   1.96658601,   0.1470574 ,  40.29802957]]),\n",
       " array([[        inf,  0.20578833,  0.31583307,  0.22663991],\n",
       "        [ 0.20578833,         inf,  0.19942116,  0.02461548],\n",
       "        [ 0.31583307,  0.19942116,         inf,  0.44154336],\n",
       "        [ 0.22663991,  0.02461548,  0.44154336,         inf]]))"
      ]
     },
     "execution_count": 21,
     "metadata": {},
     "output_type": "execute_result"
    }
   ],
   "source": [
    "fast_fisher_test(X, y)"
   ]
  },
  {
   "cell_type": "code",
   "execution_count": null,
   "metadata": {
    "collapsed": true
   },
   "outputs": [],
   "source": []
  }
 ],
 "metadata": {
  "kernelspec": {
   "display_name": "Python [default]",
   "language": "python",
   "name": "python3"
  },
  "language_info": {
   "codemirror_mode": {
    "name": "ipython",
    "version": 3
   },
   "file_extension": ".py",
   "mimetype": "text/x-python",
   "name": "python",
   "nbconvert_exporter": "python",
   "pygments_lexer": "ipython3",
   "version": "3.5.2"
  }
 },
 "nbformat": 4,
 "nbformat_minor": 1
}
