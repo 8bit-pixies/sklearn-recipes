{
 "cells": [
  {
   "cell_type": "markdown",
   "metadata": {},
   "source": [
    "Implementation of OSFS using conditional dependence information as shown in LOFS libraries"
   ]
  },
  {
   "cell_type": "code",
   "execution_count": 1,
   "metadata": {
    "collapsed": true
   },
   "outputs": [],
   "source": [
    "import sklearn"
   ]
  },
  {
   "cell_type": "code",
   "execution_count": 2,
   "metadata": {
    "collapsed": true
   },
   "outputs": [],
   "source": [
    "from sklearn.datasets import make_regression, make_classification\n",
    "from sklearn.linear_model import SGDRegressor, SGDClassifier\n",
    "\n",
    "import pandas as pd\n",
    "import numpy as np\n",
    "\n",
    "from osfs_util import dependence_test, fisher_test\n",
    "from scipy import stats\n",
    "from sklearn.metrics.pairwise import rbf_kernel\n",
    "from sklearn.mixture import BayesianGaussianMixture"
   ]
  },
  {
   "cell_type": "code",
   "execution_count": 3,
   "metadata": {
    "collapsed": true
   },
   "outputs": [],
   "source": [
    "X, y = make_classification(n_features=100)\n",
    "pdf = pd.DataFrame(X)\n",
    "pdf.columns = ['c{}'.format(x) for x in range(X.shape[1])]"
   ]
  },
  {
   "cell_type": "code",
   "execution_count": 4,
   "metadata": {
    "collapsed": true
   },
   "outputs": [],
   "source": [
    "X1 = pdf[['c{}'.format(x) for x in range(50, 100)]]\n",
    "X2 = pdf[['c{}'.format(x) for x in range(50)]]"
   ]
  },
  {
   "cell_type": "code",
   "execution_count": 5,
   "metadata": {},
   "outputs": [],
   "source": [
    "X = np.random.normal(size=(100, 100))"
   ]
  },
  {
   "cell_type": "code",
   "execution_count": 48,
   "metadata": {
    "collapsed": true
   },
   "outputs": [],
   "source": [
    "import pandas\n",
    "\n",
    "class OSFSClassifier(SGDClassifier):\n",
    "    def __init__(self, loss=\"log\", penalty='l2', alpha=0.0001, l1_ratio=0.15,\n",
    "                 fit_intercept=True, max_iter=None, tol=None, shuffle=True,\n",
    "                 verbose=0, epsilon=0.1, n_jobs=1,\n",
    "                 random_state=None, learning_rate=\"optimal\", eta0=0.0,\n",
    "                 power_t=0.5, class_weight=None, warm_start=False,\n",
    "                 average=False, n_iter=None, \n",
    "                 relevance_alpha=0.05):\n",
    "        super(OSFSClassifier, self).__init__(\n",
    "            loss=loss, penalty=penalty, alpha=alpha, l1_ratio=l1_ratio,\n",
    "            fit_intercept=fit_intercept, max_iter=max_iter, tol=tol,\n",
    "            shuffle=shuffle, verbose=verbose, epsilon=epsilon, n_jobs=n_jobs,\n",
    "            random_state=random_state, learning_rate=learning_rate, eta0=eta0,\n",
    "            power_t=power_t, class_weight=class_weight, warm_start=warm_start,\n",
    "            average=average, n_iter=n_iter)\n",
    "        \"\"\"\n",
    "        intragroup_alpha : the alpha level of t-test used to determine significance\n",
    "        intergroup_thres : the threshold for lasso to remove redundancy\n",
    "        \"\"\"\n",
    "        self.coef_info = {'cols': [], 'coef':[], 'excluded_cols': []}\n",
    "        self.seen_cols = []\n",
    "        self.base_shape = None\n",
    "        self.relevance_alpha = relevance_alpha\n",
    "    \n",
    "    def add_column_exclusion(self, cols):\n",
    "        self.coef_info['excluded_cols'] = self.coef_info['excluded_cols'] + cols\n",
    "        \n",
    "    def _fit_columns(self, X_, return_x=True, transform_only=False):\n",
    "        \"\"\"\n",
    "        Method filter through \"unselected\" columns. The goal of this \n",
    "        method is to filter any uninformative columns.\n",
    "        \n",
    "        This will be selected based on index only?\n",
    "        \n",
    "        If return_x is false, it will only return the boolean mask.\n",
    "        \"\"\"\n",
    "        X = X_[X_.columns.difference(self.coef_info['excluded_cols'])]\n",
    "        \n",
    "        # order the columns correctly...\n",
    "        col_order = self.coef_info['cols'] + list([x for x in X.columns if x not in self.coef_info['cols']])\n",
    "        X = X[col_order]\n",
    "        return X\n",
    "    \n",
    "    def _reg_penalty(self, X):\n",
    "        col_coef = [(col, coef) for col, coef in zip(X.columns.tolist(), self.coef_.flatten()) if np.abs(coef) >= -1]\n",
    "        self.coef_info['cols'] = [x for x, _ in col_coef]\n",
    "        self.coef_info['coef'] = [x for _, x in col_coef]\n",
    "        self.coef_info['excluded_cols'] = [x for x in self.seen_cols if x not in self.coef_info['cols']]\n",
    "        self.coef_ = np.array(self.coef_info['coef']).reshape(1, -1)\n",
    "    \n",
    "    def _osfs_sel(self, X_, y):\n",
    "        \"\"\"\n",
    "        Partial fit online group feature selection method to \n",
    "        perform spectral analysis on incoming feature set\n",
    "        to then expand the coefficient listing\n",
    "        \"\"\"\n",
    "        X = np.array(X_)\n",
    "        _, pval_m = fisher_test(X, y)\n",
    "        cols_to_index = [(idx, x) for idx, x in enumerate(X_.columns) if x in self.coef_info['cols']]\n",
    "        unseen_cols_to_index = [(idx, x) for idx, x in enumerate(X_.columns) if x not in self.coef_info['cols']]\n",
    "        # get the appropriate submatrix\n",
    "        \n",
    "        col_strong = []\n",
    "        col_weak = []\n",
    "        # we will have to evaluate each feature one at a time!\n",
    "        for new_col, colname in unseen_cols_to_index:\n",
    "            new_sel = cols_to_index + col_strong + [colname]\n",
    "            colname_to_indx = [idx for idx, x in enumerate(X_.columns) if x in new_sel]\n",
    "            pval_test = pval_m[colname_to_indx, :][:, colname_to_indx]\n",
    "            try:\n",
    "                strong_dep = np.max(pval_test[np.triu_indices(pval_test.shape[0], 1)])\n",
    "                weak_dep   = np.min(pval_test[np.triu_indices(pval_test.shape[0], 1)])\n",
    "            except:\n",
    "                strong_dep = float(\"inf\")\n",
    "                weak_dep = float(\"inf\")\n",
    "            if strong_dep < self.relevance_alpha:\n",
    "                col_strong.append(colname)\n",
    "            elif weak_dep < self.relevance_alpha:\n",
    "                col_weak.append(colname)\n",
    "        \n",
    "        # now evaluate all the weak columns to determine if they are redundant or not.\n",
    "        sel_cols = list(self.coef_info['cols']) + list(col_strong) + list(col_weak)\n",
    "        X_redun = X_[sel_cols]\n",
    "        if X_redun.shape[0] > 0:\n",
    "            _, pval_m = fisher_test(np.array(X_redun), y)\n",
    "            for idx, col in enumerate(X_redun.columns):\n",
    "                if col not in col_weak:\n",
    "                    continue\n",
    "                elif np.min(pval_m[idx, :]) < self.relevance_alpha:\n",
    "                    col_strong.append(col)\n",
    "        \n",
    "        # update infomation\n",
    "        print(self.coef_info['cols'])\n",
    "        print(col_strong)\n",
    "        self.coef_info['cols'] = list(set(self.coef_info['cols'] + col_strong))\n",
    "        self.coef_info['excluded_cols'] = [col for col in self.seen_cols if col not in sel_cols]        \n",
    "        \n",
    "    def fit(self, X, y, coef_init=None, intercept_init=None,\n",
    "            sample_weight=None):\n",
    "        X_ = X.copy()\n",
    "        self.seen_cols = list(set(self.seen_cols + X.columns.tolist()))\n",
    "        \n",
    "        # TODO: add the spectral selection here\n",
    "        #self._osfs_sel(X, y)\n",
    "        X = self._fit_columns(X)\n",
    "        \n",
    "        super(OSFSClassifier, self).fit(X, y, coef_init=coef_init, intercept_init=intercept_init,\n",
    "            sample_weight=sample_weight)\n",
    "        self._reg_penalty(X)\n",
    "        return self\n",
    "    \n",
    "    def partial_fit(self, X, y, sample_weight=None):\n",
    "        X_ = X.copy()\n",
    "        self.seen_cols = list(set(self.seen_cols + X.columns.tolist()))\n",
    "        X = X[X.columns.difference(self.coef_info['excluded_cols'])]\n",
    "        print(X.shape)\n",
    "        self._osfs_sel(X, y)\n",
    "        X = self._fit_columns(X)\n",
    "        print(X.shape)\n",
    "        \n",
    "        # now update coefficients\n",
    "        n_samples, n_features = X.shape\n",
    "        coef_list = np.zeros(n_features, dtype=np.float64, order=\"C\")\n",
    "        coef_list[:len(self.coef_info['coef'])] = self.coef_info['coef']\n",
    "        self.coef_ = np.array(coef_list).reshape(1, -1)\n",
    "        super(OSFSClassifier, self).partial_fit(X, y, sample_weight=None)  \n",
    "        self._reg_penalty(X)\n",
    "        return self\n",
    "    \n",
    "    def predict(self, X):\n",
    "        X = self._fit_columns(X, transform_only=True)\n",
    "        print(X.shape)\n",
    "        return super(OSFSClassifier, self).predict(X)\n",
    "    def predict_proba(self, X):\n",
    "        X = self._fit_columns(X, transform_only=True)\n",
    "        print(X.shape)\n",
    "        return super(OSFSClassifier, self).predict_proba(X)   "
   ]
  },
  {
   "cell_type": "code",
   "execution_count": 49,
   "metadata": {},
   "outputs": [
    {
     "data": {
      "text/plain": [
       "OSFSClassifier(alpha=0.0001, average=False, class_weight=None, epsilon=0.1,\n",
       "        eta0=0.0, fit_intercept=True, l1_ratio=0.15,\n",
       "        learning_rate='optimal', loss='log', max_iter=5, n_iter=None,\n",
       "        n_jobs=1, penalty='l2', power_t=0.5, random_state=None,\n",
       "        relevance_alpha=0.05, shuffle=True, tol=None, verbose=0,\n",
       "        warm_start=False)"
      ]
     },
     "execution_count": 49,
     "metadata": {},
     "output_type": "execute_result"
    }
   ],
   "source": [
    "model = OSFSClassifier(max_iter=5)\n",
    "model.fit(X1, y)"
   ]
  },
  {
   "cell_type": "code",
   "execution_count": 50,
   "metadata": {},
   "outputs": [
    {
     "name": "stdout",
     "output_type": "stream",
     "text": [
      "(100, 100)\n"
     ]
    },
    {
     "name": "stderr",
     "output_type": "stream",
     "text": [
      "C:\\Users\\chapm\\Documents\\GitHub\\sklearn-recipes\\streaming\\osfs_util.py:34: RuntimeWarning: divide by zero encountered in true_divide\n",
      "  z_score = 0.5*np.log((1+cor_m)/(1-cor_m))\n"
     ]
    },
    {
     "name": "stdout",
     "output_type": "stream",
     "text": [
      "['c50', 'c51', 'c52', 'c53', 'c54', 'c55', 'c56', 'c57', 'c58', 'c59', 'c60', 'c61', 'c62', 'c63', 'c64', 'c65', 'c66', 'c67', 'c68', 'c69', 'c70', 'c71', 'c72', 'c73', 'c74', 'c75', 'c76', 'c77', 'c78', 'c79', 'c80', 'c81', 'c82', 'c83', 'c84', 'c85', 'c86', 'c87', 'c88', 'c89', 'c90', 'c91', 'c92', 'c93', 'c94', 'c95', 'c96', 'c97', 'c98', 'c99']\n",
      "[]\n",
      "(100, 50)\n"
     ]
    },
    {
     "data": {
      "text/plain": [
       "OSFSClassifier(alpha=0.0001, average=False, class_weight=None, epsilon=0.1,\n",
       "        eta0=0.0, fit_intercept=True, l1_ratio=0.15,\n",
       "        learning_rate='optimal', loss='log', max_iter=5, n_iter=None,\n",
       "        n_jobs=1, penalty='l2', power_t=0.5, random_state=None,\n",
       "        relevance_alpha=0.05, shuffle=True, tol=None, verbose=0,\n",
       "        warm_start=False)"
      ]
     },
     "execution_count": 50,
     "metadata": {},
     "output_type": "execute_result"
    }
   ],
   "source": [
    "model.partial_fit(pdf, y)"
   ]
  },
  {
   "cell_type": "code",
   "execution_count": 52,
   "metadata": {},
   "outputs": [
    {
     "data": {
      "text/plain": [
       "{'coef': [-22.958145901469067,\n",
       "  -7.6985557603960295,\n",
       "  25.118304219527467,\n",
       "  12.316667225012328,\n",
       "  -4.52006010542748,\n",
       "  -8.9008885029307212,\n",
       "  -2.1359169475070079,\n",
       "  -51.696157879913713,\n",
       "  -23.975318001600719,\n",
       "  21.179720045605986,\n",
       "  -45.16804200894655,\n",
       "  -59.548642858035578,\n",
       "  0.0020105783205455734,\n",
       "  25.841875111982617,\n",
       "  -43.663548869382495,\n",
       "  41.684294718058979,\n",
       "  -6.9946115569979321,\n",
       "  2.9051862637308914,\n",
       "  -1.8640216186473721,\n",
       "  6.3929675766177256,\n",
       "  -40.170272313450525,\n",
       "  -50.67911090286497,\n",
       "  -0.18260716930603968,\n",
       "  12.124185313318209,\n",
       "  26.31154141968139,\n",
       "  -5.0404546322648969,\n",
       "  6.5952390727652652,\n",
       "  51.575670233426415,\n",
       "  -38.907723546179959,\n",
       "  -23.810610185356129,\n",
       "  15.289431533029971,\n",
       "  18.242266607316839,\n",
       "  9.4484040932658324,\n",
       "  -29.006462977002126,\n",
       "  36.138672936824989,\n",
       "  9.3719792169411438,\n",
       "  33.483985973796528,\n",
       "  20.247542012284828,\n",
       "  1.6980395538723814,\n",
       "  22.184723935134205,\n",
       "  28.919053743501742,\n",
       "  -18.428903728778369,\n",
       "  3.9810073246300259,\n",
       "  69.297059572643846,\n",
       "  -3.0424231963427277,\n",
       "  5.4058903774764753,\n",
       "  -26.430020034930269,\n",
       "  6.0247139201719655,\n",
       "  -41.383542776447925,\n",
       "  98.443036349507395],\n",
       " 'cols': ['c90',\n",
       "  'c80',\n",
       "  'c56',\n",
       "  'c78',\n",
       "  'c82',\n",
       "  'c57',\n",
       "  'c96',\n",
       "  'c61',\n",
       "  'c63',\n",
       "  'c72',\n",
       "  'c81',\n",
       "  'c92',\n",
       "  'c68',\n",
       "  'c62',\n",
       "  'c64',\n",
       "  'c73',\n",
       "  'c94',\n",
       "  'c83',\n",
       "  'c51',\n",
       "  'c76',\n",
       "  'c97',\n",
       "  'c60',\n",
       "  'c65',\n",
       "  'c86',\n",
       "  'c58',\n",
       "  'c74',\n",
       "  'c79',\n",
       "  'c77',\n",
       "  'c91',\n",
       "  'c75',\n",
       "  'c53',\n",
       "  'c99',\n",
       "  'c50',\n",
       "  'c70',\n",
       "  'c54',\n",
       "  'c88',\n",
       "  'c84',\n",
       "  'c66',\n",
       "  'c71',\n",
       "  'c52',\n",
       "  'c93',\n",
       "  'c85',\n",
       "  'c87',\n",
       "  'c89',\n",
       "  'c69',\n",
       "  'c67',\n",
       "  'c98',\n",
       "  'c95',\n",
       "  'c55',\n",
       "  'c59'],\n",
       " 'excluded_cols': ['c42',\n",
       "  'c7',\n",
       "  'c20',\n",
       "  'c48',\n",
       "  'c10',\n",
       "  'c3',\n",
       "  'c21',\n",
       "  'c28',\n",
       "  'c30',\n",
       "  'c12',\n",
       "  'c9',\n",
       "  'c24',\n",
       "  'c16',\n",
       "  'c25',\n",
       "  'c1',\n",
       "  'c47',\n",
       "  'c33',\n",
       "  'c22',\n",
       "  'c43',\n",
       "  'c49',\n",
       "  'c46',\n",
       "  'c13',\n",
       "  'c23',\n",
       "  'c0',\n",
       "  'c36',\n",
       "  'c26',\n",
       "  'c18',\n",
       "  'c14',\n",
       "  'c4',\n",
       "  'c11',\n",
       "  'c5',\n",
       "  'c27',\n",
       "  'c40',\n",
       "  'c31',\n",
       "  'c44',\n",
       "  'c39',\n",
       "  'c8',\n",
       "  'c32',\n",
       "  'c15',\n",
       "  'c38',\n",
       "  'c19',\n",
       "  'c17',\n",
       "  'c45',\n",
       "  'c29',\n",
       "  'c41',\n",
       "  'c6',\n",
       "  'c35',\n",
       "  'c37',\n",
       "  'c2',\n",
       "  'c34']}"
      ]
     },
     "execution_count": 52,
     "metadata": {},
     "output_type": "execute_result"
    }
   ],
   "source": [
    "model.coef_info"
   ]
  },
  {
   "cell_type": "code",
   "execution_count": 51,
   "metadata": {},
   "outputs": [
    {
     "data": {
      "text/plain": [
       "(1, 50)"
      ]
     },
     "execution_count": 51,
     "metadata": {},
     "output_type": "execute_result"
    }
   ],
   "source": [
    "model.coef_.shape"
   ]
  },
  {
   "cell_type": "code",
   "execution_count": null,
   "metadata": {},
   "outputs": [],
   "source": [
    "model.coef_"
   ]
  },
  {
   "cell_type": "code",
   "execution_count": null,
   "metadata": {},
   "outputs": [],
   "source": [
    "model.predict(pdf)"
   ]
  }
 ],
 "metadata": {
  "kernelspec": {
   "display_name": "Python [default]",
   "language": "python",
   "name": "python3"
  },
  "language_info": {
   "codemirror_mode": {
    "name": "ipython",
    "version": 3
   },
   "file_extension": ".py",
   "mimetype": "text/x-python",
   "name": "python",
   "nbconvert_exporter": "python",
   "pygments_lexer": "ipython3",
   "version": "3.5.2"
  }
 },
 "nbformat": 4,
 "nbformat_minor": 2
}
