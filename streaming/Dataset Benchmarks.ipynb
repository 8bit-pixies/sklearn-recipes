{
 "cells": [
  {
   "cell_type": "markdown",
   "metadata": {},
   "source": [
    "Online Grafting uses:\n",
    "\n",
    "*  2 Synthetic - probably no longer needed!\n",
    "*  https://archive.ics.uci.edu/ml/datasets/Multiple+Features\n",
    "\n",
    "OGFS:\n",
    "\n",
    "*  https://archive.ics.uci.edu/ml/datasets/Breast+Cancer+Wisconsin+(Diagnostic)\n",
    "*  https://archive.ics.uci.edu/ml/datasets/ionosphere\n",
    "*  https://archive.ics.uci.edu/ml/datasets/SPECTF+Heart\n",
    "*  https://archive.ics.uci.edu/ml/datasets/spambase\n",
    "*  Microarray datasets: http://perso.telecom-paristech.fr/~gfort/GLM/Programs.html; https://github.com/ramhiser/datamicroarray\n",
    "    *  colon\n",
    "    *  prostate\n",
    "    *  leukemia\n",
    "    *  lung cancer\n",
    "\n",
    "We will also use from NIPS 2003 workshop:\n",
    "\n",
    "http://clopinet.com/isabelle/Projects/NIPS2003/\n",
    "\n",
    "* Arcene\n",
    "* Dexter\n",
    "* Dorothea\n",
    "* Gisette\n",
    "* Madelon"
   ]
  },
  {
   "cell_type": "markdown",
   "metadata": {},
   "source": [
    "All datasets except the ones from NIPS workshop is downloaded via R\n",
    "\n",
    "```r\n",
    "library(datamicroarray)\n",
    "library(tidyverse)\n",
    "describe_data()\n",
    "\n",
    "# colon\n",
    "data('alon', package = 'datamicroarray')\n",
    "\n",
    "# prostate\n",
    "data('singh', package = 'datamicroarray')\n",
    "\n",
    "# leukemia\n",
    "data('golub', package = 'datamicroarray')\n",
    "\n",
    "# lung cancer\n",
    "data('gordon', package = 'datamicroarray')\n",
    "\n",
    "colon <- alon$x %>% as.data.frame %>% mutate(y=alon$y)\n",
    "prostate <- singh$x %>% as.data.frame %>% mutate(y=singh$y)\n",
    "leukemia <- golub$x %>% as.data.frame %>% mutate(y=golub$y)\n",
    "lung_cancer <- gordon$x %>% as.data.frame %>% mutate(y=gordon$y)\n",
    "\n",
    "colon %>% write_csv(\"colon.csv\")\n",
    "prostate %>% write_csv(\"prostate.csv\")\n",
    "leukemia %>% write_csv(\"leukemia.csv\")\n",
    "lung_cancer %>% write_csv(\"lung_cancer.csv\")\n",
    "\n",
    "# UCI benchmark datasets\n",
    "\n",
    "# Longley's Economic Regression Data\n",
    "data(longley) # regression\n",
    "longley %>% write_csv(\"longley.csv\")\n",
    "\n",
    "library(mlbench)\n",
    "\n",
    "data(\"BostonHousing\") # regression\n",
    "BostonHousing %>% write_csv(\"BostonHousing.csv\")\n",
    "data(\"BreastCancer\")\n",
    "BreastCancer %>% write_csv(\"BreastCancer.csv\")\n",
    "data(\"Ionosphere\")\n",
    "Ionosphere %>% write_csv(\"Ionosphere.csv\")\n",
    "data(\"PimaIndiansDiabetes\")\n",
    "PimaIndiansDiabetes %>% write_csv(\"PimaIndiansDiabetes.csv\")\n",
    "\n",
    "library(AppliedPredictiveModeling)\n",
    "data(\"abalone\")\n",
    "abalone %>% write_csv(\"abalone\") # regression\n",
    "\n",
    "```\n",
    "\n",
    "\n",
    "\n"
   ]
  },
  {
   "cell_type": "code",
   "execution_count": 1,
   "metadata": {
    "collapsed": true
   },
   "outputs": [],
   "source": [
    "import pandas as pd\n",
    "import numpy as np\n",
    "import glob\n",
    "from sklearn.datasets import load_svmlight_file"
   ]
  },
  {
   "cell_type": "code",
   "execution_count": 2,
   "metadata": {
    "collapsed": true
   },
   "outputs": [],
   "source": [
    "train_data = glob.glob(\"data/fs/raw/*_train.csv\")\n",
    "valid_data = glob.glob(\"data/fs/raw/*_valid.csv\")"
   ]
  },
  {
   "cell_type": "code",
   "execution_count": 3,
   "metadata": {},
   "outputs": [
    {
     "data": {
      "text/plain": [
       "['data/fs/raw\\\\arcene_train.csv',\n",
       " 'data/fs/raw\\\\dexter_train.csv',\n",
       " 'data/fs/raw\\\\dorothea_train.csv',\n",
       " 'data/fs/raw\\\\gisette_train.csv',\n",
       " 'data/fs/raw\\\\madelon_train.csv']"
      ]
     },
     "execution_count": 3,
     "metadata": {},
     "output_type": "execute_result"
    }
   ],
   "source": [
    "train_data"
   ]
  },
  {
   "cell_type": "code",
   "execution_count": 4,
   "metadata": {
    "collapsed": true
   },
   "outputs": [],
   "source": [
    "import os"
   ]
  },
  {
   "cell_type": "code",
   "execution_count": 5,
   "metadata": {
    "collapsed": true
   },
   "outputs": [],
   "source": [
    "def fix_name(fname, suffix=\".csv\"):\n",
    "    base_name = os.path.basename(fname)\n",
    "    return base_name.replace(\".csv\", suffix)\n",
    "\n",
    "def process_file(fname):\n",
    "    cname = fix_name(fname)\n",
    "    lname = fname.replace(\".csv\", \".labels\")\n",
    "    base_table = pd.read_table(fname, sep=' ', header=None)\n",
    "    base_table.columns = [\"c{}\".format(x) for x in list(base_table.columns)]\n",
    "    \n",
    "    label_table = pd.read_table(lname, sep=' ', header=None)\n",
    "    label_table.columns = ['target']\n",
    "    base_table['target'] = label_table['target']\n",
    "    base_table.to_csv(cname, index=False)\n",
    "    print(\"Complete: {}\".format(cname))"
   ]
  },
  {
   "cell_type": "code",
   "execution_count": 6,
   "metadata": {},
   "outputs": [
    {
     "name": "stdout",
     "output_type": "stream",
     "text": [
      "Complete: arcene_train.csv\n",
      "Complete: dexter_train.csv\n",
      "Complete: dorothea_train.csv\n",
      "Complete: gisette_train.csv\n",
      "Complete: madelon_train.csv\n"
     ]
    }
   ],
   "source": [
    "for t_data in train_data:\n",
    "    process_file(t_data)"
   ]
  },
  {
   "cell_type": "code",
   "execution_count": 7,
   "metadata": {
    "scrolled": true
   },
   "outputs": [
    {
     "name": "stdout",
     "output_type": "stream",
     "text": [
      "Complete: arcene_valid.csv\n",
      "Complete: dexter_valid.csv\n",
      "Complete: dorothea_valid.csv\n",
      "Complete: gisette_valid.csv\n",
      "Complete: madelon_valid.csv\n"
     ]
    }
   ],
   "source": [
    "for t_data in valid_data:\n",
    "    process_file(t_data)"
   ]
  },
  {
   "cell_type": "code",
   "execution_count": null,
   "metadata": {
    "collapsed": true
   },
   "outputs": [],
   "source": []
  }
 ],
 "metadata": {
  "kernelspec": {
   "display_name": "Python [conda env:skrecipe]",
   "language": "python",
   "name": "conda-env-skrecipe-py"
  },
  "language_info": {
   "codemirror_mode": {
    "name": "ipython",
    "version": 3
   },
   "file_extension": ".py",
   "mimetype": "text/x-python",
   "name": "python",
   "nbconvert_exporter": "python",
   "pygments_lexer": "ipython3",
   "version": "3.6.2"
  }
 },
 "nbformat": 4,
 "nbformat_minor": 2
}
