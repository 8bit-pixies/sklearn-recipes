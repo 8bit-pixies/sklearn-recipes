{
 "cells": [
  {
   "cell_type": "markdown",
   "metadata": {},
   "source": [
    "In this implementation of alpha-investing we will use \n",
    "\n",
    "mse and log loss as measures of likelihood for likelihood-ratio test"
   ]
  },
  {
   "cell_type": "code",
   "execution_count": 6,
   "metadata": {
    "collapsed": true
   },
   "outputs": [],
   "source": [
    "import sklearn"
   ]
  },
  {
   "cell_type": "code",
   "execution_count": 7,
   "metadata": {
    "collapsed": true
   },
   "outputs": [],
   "source": [
    "from sklearn.datasets import make_regression, make_classification\n",
    "from sklearn.linear_model import SGDRegressor, SGDClassifier\n",
    "from sklearn.metrics import log_loss, mean_squared_error\n",
    "from scipy.stats import chi2, norm\n",
    "\n",
    "import pandas as pd\n",
    "import numpy as np"
   ]
  },
  {
   "cell_type": "code",
   "execution_count": 8,
   "metadata": {
    "collapsed": true
   },
   "outputs": [],
   "source": [
    "X, y = make_regression(n_features=100)\n",
    "pdf = pd.DataFrame(X)\n",
    "pdf.columns = ['c{}'.format(x) for x in range(X.shape[1])]"
   ]
  },
  {
   "cell_type": "code",
   "execution_count": 9,
   "metadata": {
    "collapsed": true
   },
   "outputs": [],
   "source": [
    "X1 = pdf[['c{}'.format(x) for x in range(50, 100)]]\n",
    "X2 = pdf[['c{}'.format(x) for x in range(50)]]"
   ]
  },
  {
   "cell_type": "code",
   "execution_count": 20,
   "metadata": {
    "collapsed": true
   },
   "outputs": [],
   "source": [
    "def get_p_val(X, col, y):\n",
    "    # use log loss to calculate change in likelihood\n",
    "    col = np.array(col)\n",
    "    X = np.array(X)\n",
    "    new_X = np.hstack([X, col.reshape(-1, 1)])\n",
    "    mod = SGDRegressor(max_iter=1000)\n",
    "    nul_y = mod.fit(X, y).predict(X)\n",
    "    alt_y = mod.fit(new_X, y).predict(new_X)\n",
    "    \n",
    "    # calculate log loss\n",
    "    nul_ll = mean_squared_error(y, nul_y)\n",
    "    alt_ll = mean_squared_error(y, alt_y)\n",
    "    return chi2.cdf(2*(nul_ll-alt_ll), 1)"
   ]
  },
  {
   "cell_type": "code",
   "execution_count": 21,
   "metadata": {
    "collapsed": true
   },
   "outputs": [],
   "source": [
    "import pandas\n",
    "\n",
    "class AlphaInvestRegressor(SGDRegressor):\n",
    "    def __init__(self, loss=\"squared_loss\", penalty=\"l1\", alpha=0.0001,\n",
    "                 l1_ratio=0.15, fit_intercept=True, max_iter=None, tol=None,\n",
    "                 shuffle=True, verbose=0, epsilon=0.1,\n",
    "                 random_state=None, learning_rate=\"invscaling\", eta0=0.01,\n",
    "                 power_t=0.25, warm_start=False, average=False, n_iter=None, \n",
    "                 wealth=0.5, delta_alpha=0.5):\n",
    "        super(AlphaInvestRegressor, self).__init__(loss=loss, penalty=penalty,\n",
    "                                           alpha=alpha, l1_ratio=l1_ratio,\n",
    "                                           fit_intercept=fit_intercept,\n",
    "                                           max_iter=max_iter, tol=tol,\n",
    "                                           shuffle=shuffle,\n",
    "                                           verbose=verbose,\n",
    "                                           epsilon=epsilon,\n",
    "                                           random_state=random_state,\n",
    "                                           learning_rate=learning_rate,\n",
    "                                           eta0=eta0, power_t=power_t,\n",
    "                                           warm_start=warm_start,\n",
    "                                           average=average, n_iter=n_iter)\n",
    "        \"\"\"\n",
    "        intragroup_alpha : the alpha level of t-test used to determine significance\n",
    "        intergroup_thres : the threshold for lasso to remove redundancy\n",
    "        \"\"\"\n",
    "        self.coef_info = {'cols': [], 'coef':[], 'excluded_cols': []}\n",
    "        self.seen_cols = []\n",
    "        self.base_shape = None\n",
    "        self.delta_alpha = delta_alpha\n",
    "        self.wealth = wealth\n",
    "        self.temp_X = None\n",
    "    \n",
    "    def add_column_exclusion(self, cols):\n",
    "        self.coef_info['excluded_cols'] = self.coef_info['excluded_cols'] + cols\n",
    "    \n",
    "    def _alpha_sel(self, X_, y):\n",
    "        # need to continually refit...\n",
    "        new_X = X_[X_.columns.difference(self.coef_info['cols'])]\n",
    "        col_list = self.coef_info['cols'][:]\n",
    "                \n",
    "        for col in list(new_X.columns):\n",
    "            # perform test with and without dataset...\n",
    "            if col in self.coef_info['cols']:\n",
    "                continue\n",
    "            temp_X = X_[col_list]\n",
    "            # evaluate this column\n",
    "            pval = get_p_val(temp_X, new_X[[col]], y)\n",
    "            alpha = self.wealth/(2*temp_X.shape[1])\n",
    "            if pval < alpha:\n",
    "                col_list.append(col)\n",
    "                self.wealth = self.wealth + self.delta_alpha - alpha\n",
    "            else:\n",
    "                self.wealth = self.wealth - alpha\n",
    "        \n",
    "        # add and update cols...        \n",
    "        sel_cols = list(self.coef_info['cols']) + list(col_list)\n",
    "        self.coef_info['excluded_cols'] = [col for col in self.seen_cols if col not in sel_cols]\n",
    "        \n",
    "    def _fit_columns(self, X_, return_x=True, transform_only=False):\n",
    "        \"\"\"\n",
    "        Method filter through \"unselected\" columns. The goal of this \n",
    "        method is to filter any uninformative columns.\n",
    "        \n",
    "        This will be selected based on index only?\n",
    "        \n",
    "        If return_x is false, it will only return the boolean mask.\n",
    "        \"\"\"\n",
    "        X = X_[X_.columns.difference(self.coef_info['excluded_cols'])]\n",
    "        \n",
    "        # order the columns correctly...\n",
    "        col_order = self.coef_info['cols'] + list([x for x in X.columns if x not in self.coef_info['cols']])\n",
    "        X = X[col_order]\n",
    "        return X\n",
    "\n",
    "    def _reg_penalty(self, X):\n",
    "        col_coef = [(col, coef) for col, coef in zip(X.columns.tolist(), self.coef_) if np.abs(coef) >= -0.1]\n",
    "        self.coef_info['cols'] = [x for x, _ in col_coef]\n",
    "        self.coef_info['coef'] = [x for _, x in col_coef]\n",
    "        self.coef_info['excluded_cols'] = [x for x in self.seen_cols if x not in self.coef_info['cols']]\n",
    "        self.coef_ = np.array(self.coef_info['coef'])\n",
    "\n",
    "    \n",
    "    def fit(self, X, y, coef_init=None, intercept_init=None,\n",
    "            sample_weight=None):\n",
    "        X_ = X.copy()\n",
    "        self.seen_cols = list(set(self.seen_cols + X.columns.tolist()))\n",
    "        super(AlphaInvestRegressor, self).fit(X, y, coef_init=coef_init, intercept_init=intercept_init,\n",
    "            sample_weight=sample_weight)\n",
    "        # update params in self...\n",
    "        self._reg_penalty(X)\n",
    "        return self\n",
    "    \n",
    "    def partial_fit(self, X, y, sample_weight=None):\n",
    "        X_ = X.copy()\n",
    "        self.seen_cols = list(set(self.seen_cols + X.columns.tolist()))\n",
    "                \n",
    "        # TODO: alpha investing\n",
    "        self._alpha_sel(X, y)\n",
    "        X = self._fit_columns(X)\n",
    "        \n",
    "        # now update coefficients\n",
    "        n_samples, n_features = X.shape\n",
    "        coef_list = np.zeros(n_features, dtype=np.float64, order=\"C\")\n",
    "        coef_list[:len(self.coef_info['coef'])] = self.coef_info['coef']\n",
    "        self.coef_ = np.array(coef_list)\n",
    "        \n",
    "        super(AlphaInvestRegressor, self).partial_fit(X, y, sample_weight=None)  \n",
    "        self._reg_penalty(X)\n",
    "        return self\n",
    "    \n",
    "    def predict(self, X):\n",
    "        X = self._fit_columns(X, transform_only=True)\n",
    "        print(X.shape)\n",
    "        return super(AlphaInvestRegressor, self).predict(X)        "
   ]
  },
  {
   "cell_type": "code",
   "execution_count": 29,
   "metadata": {},
   "outputs": [
    {
     "data": {
      "text/plain": [
       "AlphaInvestRegressor(alpha=0.0001, average=False, delta_alpha=0.5,\n",
       "           epsilon=0.1, eta0=0.01, fit_intercept=True, l1_ratio=0.15,\n",
       "           learning_rate='invscaling', loss='squared_loss', max_iter=1000,\n",
       "           n_iter=None, penalty='l1', power_t=0.25, random_state=None,\n",
       "           shuffle=True, tol=None, verbose=0, warm_start=False, wealth=0.5)"
      ]
     },
     "execution_count": 29,
     "metadata": {},
     "output_type": "execute_result"
    }
   ],
   "source": [
    "model = AlphaInvestRegressor(max_iter=1000)\n",
    "model.fit(X1, y)"
   ]
  },
  {
   "cell_type": "code",
   "execution_count": 30,
   "metadata": {},
   "outputs": [
    {
     "data": {
      "text/plain": [
       "array([  46.80116426,   30.22180346,    8.92193156,   -1.54397191,\n",
       "         -6.72566221,  -22.1079264 ,  -25.00232716,   33.84285931,\n",
       "        -11.25278868,    1.29121497,  -11.76718961,   -2.58871565,\n",
       "        -18.86362968,   57.33669064,  -14.55793156,  110.3904802 ,\n",
       "         16.75388767,   18.0352998 ,    1.31859676,   -2.70571059,\n",
       "         -7.44179881,   70.64134538,    7.09748605,   24.82295686,\n",
       "         15.90355362,   -2.18482399,   -3.32863643,  -24.20277326,\n",
       "         -2.41955375,  -22.8086518 ,   14.6865101 ,   -7.89383798,\n",
       "         -0.63908353,    0.62317447,   -3.88720708,   -2.34831322,\n",
       "         18.97337076,  -16.33612658,   -1.80662728,   24.73371372,\n",
       "         18.29242505,   16.40639552,  -16.24767692,   -8.88079219,\n",
       "         -2.00275109,   13.429332  ,   -6.96642654,   10.576751  ,\n",
       "         18.45957113,  -19.65023762])"
      ]
     },
     "execution_count": 30,
     "metadata": {},
     "output_type": "execute_result"
    }
   ],
   "source": [
    "model.coef_"
   ]
  },
  {
   "cell_type": "code",
   "execution_count": 31,
   "metadata": {},
   "outputs": [
    {
     "data": {
      "text/plain": [
       "(50,)"
      ]
     },
     "execution_count": 31,
     "metadata": {},
     "output_type": "execute_result"
    }
   ],
   "source": [
    "model.coef_.shape"
   ]
  },
  {
   "cell_type": "code",
   "execution_count": 32,
   "metadata": {},
   "outputs": [
    {
     "data": {
      "text/plain": [
       "(100, 100)"
      ]
     },
     "execution_count": 32,
     "metadata": {},
     "output_type": "execute_result"
    }
   ],
   "source": [
    "X.shape"
   ]
  },
  {
   "cell_type": "code",
   "execution_count": 33,
   "metadata": {},
   "outputs": [
    {
     "data": {
      "text/plain": [
       "AlphaInvestRegressor(alpha=0.0001, average=False, delta_alpha=0.5,\n",
       "           epsilon=0.1, eta0=0.01, fit_intercept=True, l1_ratio=0.15,\n",
       "           learning_rate='invscaling', loss='squared_loss', max_iter=1000,\n",
       "           n_iter=None, penalty='l1', power_t=0.25, random_state=None,\n",
       "           shuffle=True, tol=None, verbose=0, warm_start=False,\n",
       "           wealth=0.7103149107067736)"
      ]
     },
     "execution_count": 33,
     "metadata": {},
     "output_type": "execute_result"
    }
   ],
   "source": [
    "model.partial_fit(pdf, y)"
   ]
  },
  {
   "cell_type": "code",
   "execution_count": 34,
   "metadata": {},
   "outputs": [
    {
     "data": {
      "text/plain": [
       "(51,)"
      ]
     },
     "execution_count": 34,
     "metadata": {},
     "output_type": "execute_result"
    }
   ],
   "source": [
    "model.coef_.shape"
   ]
  },
  {
   "cell_type": "code",
   "execution_count": 35,
   "metadata": {},
   "outputs": [
    {
     "data": {
      "text/plain": [
       "array([  4.67896922e+01,   3.02272853e+01,   8.90626055e+00,\n",
       "        -1.54061590e+00,  -6.72040787e+00,  -2.21129288e+01,\n",
       "        -2.50035643e+01,   3.38376218e+01,  -1.12707241e+01,\n",
       "         1.29423638e+00,  -1.17811925e+01,  -2.59833144e+00,\n",
       "        -1.88641435e+01,   5.73285368e+01,  -1.45560541e+01,\n",
       "         1.10391527e+02,   1.67527701e+01,   1.80278239e+01,\n",
       "         1.32013931e+00,  -2.69936744e+00,  -7.43945023e+00,\n",
       "         7.06415770e+01,   7.06807229e+00,   2.48184761e+01,\n",
       "         1.59116689e+01,  -2.18680114e+00,  -3.33468959e+00,\n",
       "        -2.42093178e+01,  -2.42467479e+00,  -2.28082276e+01,\n",
       "         1.46802146e+01,  -7.91276639e+00,  -6.48383876e-01,\n",
       "         6.40256150e-01,  -3.88636394e+00,  -2.35490508e+00,\n",
       "         1.89935343e+01,  -1.63377455e+01,  -1.79376142e+00,\n",
       "         2.47343089e+01,   1.82933949e+01,   1.64018750e+01,\n",
       "        -1.62512255e+01,  -8.86383490e+00,  -1.99239350e+00,\n",
       "         1.34093126e+01,  -6.97392235e+00,   1.05741610e+01,\n",
       "         1.84605058e+01,  -1.96588090e+01,   1.27462781e-02])"
      ]
     },
     "execution_count": 35,
     "metadata": {},
     "output_type": "execute_result"
    }
   ],
   "source": [
    "model.coef_"
   ]
  },
  {
   "cell_type": "code",
   "execution_count": 36,
   "metadata": {},
   "outputs": [
    {
     "name": "stdout",
     "output_type": "stream",
     "text": [
      "(100, 51)\n"
     ]
    },
    {
     "data": {
      "text/plain": [
       "array([  4.68612222e+01,  -4.07455447e+01,   1.48496224e+02,\n",
       "         3.07986420e+01,  -2.85692377e+01,  -5.45946063e+01,\n",
       "         3.60263148e+00,   2.07636520e+02,   2.52974978e+02,\n",
       "         3.95064978e+01,  -6.76216008e+00,   6.72505149e+01,\n",
       "         3.30062737e+01,   2.23969775e+02,   8.34394662e+01,\n",
       "        -1.23587417e+02,   1.16477231e+02,   1.53451451e+02,\n",
       "        -1.11756051e+02,  -1.44395933e+02,   5.17081741e+01,\n",
       "        -2.35614101e+02,   5.34946999e+01,  -7.38528402e+01,\n",
       "         1.87874390e+02,   2.01112980e+02,  -2.91409946e+02,\n",
       "         4.68312433e+00,  -6.59421636e+00,   6.51708465e+00,\n",
       "        -1.76563555e+02,   8.83536803e-02,   2.69641701e+02,\n",
       "         2.55606134e+02,  -1.19354851e+02,   9.08871234e+01,\n",
       "        -8.82455021e+01,   1.00221288e+02,   1.00705506e+02,\n",
       "         2.41440099e+02,  -2.54410156e+01,   1.78269591e+02,\n",
       "        -4.78966609e+01,  -1.64851540e+02,   1.28495929e+01,\n",
       "         2.84052076e+01,  -1.58606244e+02,  -5.54148434e+00,\n",
       "         1.94195484e+02,   1.52902866e+02,  -8.63510252e+01,\n",
       "        -1.30777332e+02,   2.46922135e+01,  -1.39659794e+02,\n",
       "        -1.87827983e+02,   1.84951911e+02,  -6.36325233e+01,\n",
       "        -1.87175753e+02,   3.84549044e+01,  -2.43396384e+02,\n",
       "        -2.18757051e+02,   1.24505472e+02,  -1.34633441e+01,\n",
       "        -6.62694024e+01,   1.58086496e+02,   1.00909466e+02,\n",
       "        -2.80948544e+02,   1.25089618e+00,   1.65847951e+01,\n",
       "         3.58862250e+01,  -1.20247483e+02,   3.08142043e+02,\n",
       "         2.38260600e+02,  -1.99617232e+02,   1.82314771e+02,\n",
       "        -7.76491492e+01,  -1.37672179e+02,  -1.22523016e+01,\n",
       "         2.36386008e+02,   8.37443994e+01,  -2.68192063e+01,\n",
       "         2.11538051e+02,   1.27981765e+02,   1.17364121e+02,\n",
       "        -1.91989523e+02,   3.16258772e+02,  -7.63235915e-01,\n",
       "         3.91201381e+01,   4.24933921e+01,   8.52656621e+01,\n",
       "        -4.32046602e+01,   1.47962108e+02,  -1.86105574e+02,\n",
       "        -1.39721963e+02,   1.09363601e+02,   6.39915999e+01,\n",
       "        -4.78373800e+01,   2.52855037e+02,  -1.08398944e+02,\n",
       "        -1.26283158e+02])"
      ]
     },
     "execution_count": 36,
     "metadata": {},
     "output_type": "execute_result"
    }
   ],
   "source": [
    "model.predict(pdf)"
   ]
  }
 ],
 "metadata": {
  "kernelspec": {
   "display_name": "Python [default]",
   "language": "python",
   "name": "python3"
  },
  "language_info": {
   "codemirror_mode": {
    "name": "ipython",
    "version": 3
   },
   "file_extension": ".py",
   "mimetype": "text/x-python",
   "name": "python",
   "nbconvert_exporter": "python",
   "pygments_lexer": "ipython3",
   "version": "3.6.2"
  }
 },
 "nbformat": 4,
 "nbformat_minor": 2
}
