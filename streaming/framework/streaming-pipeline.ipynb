{
 "cells": [
  {
   "cell_type": "markdown",
   "metadata": {},
   "source": [
    "The purpose of this notebook is to demonstrate what streaming pipelines will look like. \n",
    "\n",
    "```py\n",
    "DataSelector(\n",
    "\tFeatureUnion(\n",
    "\t\t[('base', BasePipeline), \n",
    "\t\t ('stream1', StreamPipeline),\n",
    "\t\t ('stream2', StreamPipeline)\n",
    "\t\t]\n",
    "\t)\n",
    ")\n",
    "```"
   ]
  },
  {
   "cell_type": "code",
   "execution_count": 1,
   "metadata": {
    "collapsed": true
   },
   "outputs": [],
   "source": [
    "from sklearn.datasets import make_regression, make_classification\n",
    "\n",
    "from sklearn.pipeline import Pipeline, make_pipeline, FeatureUnion\n",
    "from sklearn.metrics.pairwise import pairwise_distances\n",
    "from sklearn.decomposition import PCA\n",
    "\n",
    "import numpy as np\n",
    "import pandas as pd\n",
    "\n",
    "from sklearn.base import BaseEstimator, TransformerMixin\n",
    "from sklearn.feature_selection.base import SelectorMixin\n",
    "from sklearn.utils.validation import check_is_fitted\n",
    "\n",
    "from sklearn.linear_model import SGDRegressor\n",
    "\n",
    "import itertools"
   ]
  },
  {
   "cell_type": "code",
   "execution_count": 2,
   "metadata": {
    "collapsed": true
   },
   "outputs": [],
   "source": [
    "pdf = pd.DataFrame(np.random.normal(size=(100,100)))"
   ]
  },
  {
   "cell_type": "code",
   "execution_count": 3,
   "metadata": {
    "collapsed": true
   },
   "outputs": [],
   "source": [
    "pdf.columns = ['c{}'.format(x) for x in range(100)]"
   ]
  },
  {
   "cell_type": "code",
   "execution_count": 4,
   "metadata": {
    "collapsed": true
   },
   "outputs": [],
   "source": [
    "y = np.random.normal(size=100)"
   ]
  },
  {
   "cell_type": "code",
   "execution_count": 5,
   "metadata": {},
   "outputs": [
    {
     "data": {
      "text/html": [
       "<div>\n",
       "<style>\n",
       "    .dataframe thead tr:only-child th {\n",
       "        text-align: right;\n",
       "    }\n",
       "\n",
       "    .dataframe thead th {\n",
       "        text-align: left;\n",
       "    }\n",
       "\n",
       "    .dataframe tbody tr th {\n",
       "        vertical-align: top;\n",
       "    }\n",
       "</style>\n",
       "<table border=\"1\" class=\"dataframe\">\n",
       "  <thead>\n",
       "    <tr style=\"text-align: right;\">\n",
       "      <th></th>\n",
       "      <th>c0</th>\n",
       "      <th>c1</th>\n",
       "      <th>c2</th>\n",
       "      <th>c3</th>\n",
       "      <th>c4</th>\n",
       "      <th>c5</th>\n",
       "      <th>c6</th>\n",
       "      <th>c7</th>\n",
       "      <th>c8</th>\n",
       "      <th>c9</th>\n",
       "      <th>...</th>\n",
       "      <th>c90</th>\n",
       "      <th>c91</th>\n",
       "      <th>c92</th>\n",
       "      <th>c93</th>\n",
       "      <th>c94</th>\n",
       "      <th>c95</th>\n",
       "      <th>c96</th>\n",
       "      <th>c97</th>\n",
       "      <th>c98</th>\n",
       "      <th>c99</th>\n",
       "    </tr>\n",
       "  </thead>\n",
       "  <tbody>\n",
       "    <tr>\n",
       "      <th>0</th>\n",
       "      <td>-0.081009</td>\n",
       "      <td>0.446641</td>\n",
       "      <td>1.753018</td>\n",
       "      <td>1.573603</td>\n",
       "      <td>0.271781</td>\n",
       "      <td>1.173958</td>\n",
       "      <td>0.860765</td>\n",
       "      <td>-1.126751</td>\n",
       "      <td>-1.797735</td>\n",
       "      <td>-0.688237</td>\n",
       "      <td>...</td>\n",
       "      <td>-0.226435</td>\n",
       "      <td>1.106320</td>\n",
       "      <td>-0.152478</td>\n",
       "      <td>1.674564</td>\n",
       "      <td>-1.004144</td>\n",
       "      <td>-0.375211</td>\n",
       "      <td>0.541072</td>\n",
       "      <td>-0.514438</td>\n",
       "      <td>-0.845416</td>\n",
       "      <td>-0.003805</td>\n",
       "    </tr>\n",
       "    <tr>\n",
       "      <th>1</th>\n",
       "      <td>-0.867454</td>\n",
       "      <td>-0.567044</td>\n",
       "      <td>-2.172709</td>\n",
       "      <td>0.549284</td>\n",
       "      <td>-1.044569</td>\n",
       "      <td>-0.085124</td>\n",
       "      <td>0.218162</td>\n",
       "      <td>-1.201013</td>\n",
       "      <td>-0.039023</td>\n",
       "      <td>0.724099</td>\n",
       "      <td>...</td>\n",
       "      <td>2.152225</td>\n",
       "      <td>-0.316049</td>\n",
       "      <td>0.516507</td>\n",
       "      <td>0.015346</td>\n",
       "      <td>-0.681834</td>\n",
       "      <td>-0.572671</td>\n",
       "      <td>-0.598991</td>\n",
       "      <td>-0.304668</td>\n",
       "      <td>1.754217</td>\n",
       "      <td>-1.029740</td>\n",
       "    </tr>\n",
       "    <tr>\n",
       "      <th>2</th>\n",
       "      <td>-0.137167</td>\n",
       "      <td>-0.570255</td>\n",
       "      <td>-0.191417</td>\n",
       "      <td>0.445955</td>\n",
       "      <td>1.166362</td>\n",
       "      <td>-1.054386</td>\n",
       "      <td>-0.007278</td>\n",
       "      <td>0.460846</td>\n",
       "      <td>-2.738251</td>\n",
       "      <td>1.299032</td>\n",
       "      <td>...</td>\n",
       "      <td>-0.637977</td>\n",
       "      <td>0.388052</td>\n",
       "      <td>2.619541</td>\n",
       "      <td>-0.891907</td>\n",
       "      <td>-0.242087</td>\n",
       "      <td>0.276049</td>\n",
       "      <td>-0.925730</td>\n",
       "      <td>-0.067757</td>\n",
       "      <td>-0.235863</td>\n",
       "      <td>1.636044</td>\n",
       "    </tr>\n",
       "    <tr>\n",
       "      <th>3</th>\n",
       "      <td>-0.657558</td>\n",
       "      <td>1.800762</td>\n",
       "      <td>-1.042025</td>\n",
       "      <td>0.324521</td>\n",
       "      <td>-0.454903</td>\n",
       "      <td>0.371031</td>\n",
       "      <td>-1.107835</td>\n",
       "      <td>-2.119823</td>\n",
       "      <td>-0.137015</td>\n",
       "      <td>0.274050</td>\n",
       "      <td>...</td>\n",
       "      <td>-0.536900</td>\n",
       "      <td>-1.168740</td>\n",
       "      <td>1.275998</td>\n",
       "      <td>-0.509346</td>\n",
       "      <td>-0.264405</td>\n",
       "      <td>1.863733</td>\n",
       "      <td>-0.451234</td>\n",
       "      <td>0.450466</td>\n",
       "      <td>0.237420</td>\n",
       "      <td>-0.163271</td>\n",
       "    </tr>\n",
       "    <tr>\n",
       "      <th>4</th>\n",
       "      <td>-0.853415</td>\n",
       "      <td>1.366949</td>\n",
       "      <td>0.885289</td>\n",
       "      <td>-0.540979</td>\n",
       "      <td>-0.569812</td>\n",
       "      <td>0.115609</td>\n",
       "      <td>-0.223273</td>\n",
       "      <td>-1.169540</td>\n",
       "      <td>-1.379653</td>\n",
       "      <td>0.237232</td>\n",
       "      <td>...</td>\n",
       "      <td>1.195078</td>\n",
       "      <td>0.118953</td>\n",
       "      <td>0.268569</td>\n",
       "      <td>-0.205080</td>\n",
       "      <td>-1.276802</td>\n",
       "      <td>0.123475</td>\n",
       "      <td>-1.339757</td>\n",
       "      <td>-1.699879</td>\n",
       "      <td>1.694811</td>\n",
       "      <td>0.798126</td>\n",
       "    </tr>\n",
       "  </tbody>\n",
       "</table>\n",
       "<p>5 rows × 100 columns</p>\n",
       "</div>"
      ],
      "text/plain": [
       "         c0        c1        c2        c3        c4        c5        c6  \\\n",
       "0 -0.081009  0.446641  1.753018  1.573603  0.271781  1.173958  0.860765   \n",
       "1 -0.867454 -0.567044 -2.172709  0.549284 -1.044569 -0.085124  0.218162   \n",
       "2 -0.137167 -0.570255 -0.191417  0.445955  1.166362 -1.054386 -0.007278   \n",
       "3 -0.657558  1.800762 -1.042025  0.324521 -0.454903  0.371031 -1.107835   \n",
       "4 -0.853415  1.366949  0.885289 -0.540979 -0.569812  0.115609 -0.223273   \n",
       "\n",
       "         c7        c8        c9    ...          c90       c91       c92  \\\n",
       "0 -1.126751 -1.797735 -0.688237    ...    -0.226435  1.106320 -0.152478   \n",
       "1 -1.201013 -0.039023  0.724099    ...     2.152225 -0.316049  0.516507   \n",
       "2  0.460846 -2.738251  1.299032    ...    -0.637977  0.388052  2.619541   \n",
       "3 -2.119823 -0.137015  0.274050    ...    -0.536900 -1.168740  1.275998   \n",
       "4 -1.169540 -1.379653  0.237232    ...     1.195078  0.118953  0.268569   \n",
       "\n",
       "        c93       c94       c95       c96       c97       c98       c99  \n",
       "0  1.674564 -1.004144 -0.375211  0.541072 -0.514438 -0.845416 -0.003805  \n",
       "1  0.015346 -0.681834 -0.572671 -0.598991 -0.304668  1.754217 -1.029740  \n",
       "2 -0.891907 -0.242087  0.276049 -0.925730 -0.067757 -0.235863  1.636044  \n",
       "3 -0.509346 -0.264405  1.863733 -0.451234  0.450466  0.237420 -0.163271  \n",
       "4 -0.205080 -1.276802  0.123475 -1.339757 -1.699879  1.694811  0.798126  \n",
       "\n",
       "[5 rows x 100 columns]"
      ]
     },
     "execution_count": 5,
     "metadata": {},
     "output_type": "execute_result"
    }
   ],
   "source": [
    "pdf.head()"
   ]
  },
  {
   "cell_type": "code",
   "execution_count": 6,
   "metadata": {
    "collapsed": true
   },
   "outputs": [],
   "source": [
    "class DataSelector(BaseEstimator, TransformerMixin):\n",
    "    def __init__(self, columns=None):\n",
    "        self.columns = columns\n",
    "    \n",
    "    def fit(self, x, y=None):\n",
    "        return self\n",
    "\n",
    "    def transform(self, X):\n",
    "        if self.columns is not None:\n",
    "            return X[self.columns]\n",
    "        else:\n",
    "            return X.copy()"
   ]
  },
  {
   "cell_type": "code",
   "execution_count": 7,
   "metadata": {
    "collapsed": true
   },
   "outputs": [],
   "source": [
    "testSel = DataSelector(columns=['c0', 'c1'])"
   ]
  },
  {
   "cell_type": "code",
   "execution_count": 8,
   "metadata": {},
   "outputs": [
    {
     "data": {
      "text/html": [
       "<div>\n",
       "<style>\n",
       "    .dataframe thead tr:only-child th {\n",
       "        text-align: right;\n",
       "    }\n",
       "\n",
       "    .dataframe thead th {\n",
       "        text-align: left;\n",
       "    }\n",
       "\n",
       "    .dataframe tbody tr th {\n",
       "        vertical-align: top;\n",
       "    }\n",
       "</style>\n",
       "<table border=\"1\" class=\"dataframe\">\n",
       "  <thead>\n",
       "    <tr style=\"text-align: right;\">\n",
       "      <th></th>\n",
       "      <th>c0</th>\n",
       "      <th>c1</th>\n",
       "    </tr>\n",
       "  </thead>\n",
       "  <tbody>\n",
       "    <tr>\n",
       "      <th>0</th>\n",
       "      <td>-0.081009</td>\n",
       "      <td>0.446641</td>\n",
       "    </tr>\n",
       "    <tr>\n",
       "      <th>1</th>\n",
       "      <td>-0.867454</td>\n",
       "      <td>-0.567044</td>\n",
       "    </tr>\n",
       "    <tr>\n",
       "      <th>2</th>\n",
       "      <td>-0.137167</td>\n",
       "      <td>-0.570255</td>\n",
       "    </tr>\n",
       "    <tr>\n",
       "      <th>3</th>\n",
       "      <td>-0.657558</td>\n",
       "      <td>1.800762</td>\n",
       "    </tr>\n",
       "    <tr>\n",
       "      <th>4</th>\n",
       "      <td>-0.853415</td>\n",
       "      <td>1.366949</td>\n",
       "    </tr>\n",
       "  </tbody>\n",
       "</table>\n",
       "</div>"
      ],
      "text/plain": [
       "         c0        c1\n",
       "0 -0.081009  0.446641\n",
       "1 -0.867454 -0.567044\n",
       "2 -0.137167 -0.570255\n",
       "3 -0.657558  1.800762\n",
       "4 -0.853415  1.366949"
      ]
     },
     "execution_count": 8,
     "metadata": {},
     "output_type": "execute_result"
    }
   ],
   "source": [
    "testSel.fit_transform(pdf).head()"
   ]
  },
  {
   "cell_type": "code",
   "execution_count": 9,
   "metadata": {
    "collapsed": true
   },
   "outputs": [],
   "source": [
    "# simulate what streaming features might look like\n",
    "base_df = pdf[['c{}'.format(x) for x in range(20)]]\n",
    "stream1 = pdf[['c{}'.format(x) for x in range(20,30)]]\n",
    "stream2 = pdf[['c{}'.format(x) for x in range(30,40)]]"
   ]
  },
  {
   "cell_type": "code",
   "execution_count": 10,
   "metadata": {
    "collapsed": true
   },
   "outputs": [],
   "source": [
    "class SGDRegressorTransformer(SGDRegressor, TransformerMixin):\n",
    "    def __init__(self, penalty='l1'):\n",
    "        SGDRegressor.__init__(self, penalty=penalty)\n",
    "        \n",
    "    def transform(self, X):\n",
    "        return self.predict(X).reshape(-1, 1)"
   ]
  },
  {
   "cell_type": "code",
   "execution_count": 11,
   "metadata": {
    "collapsed": true
   },
   "outputs": [],
   "source": [
    "def streaming_pipeline(columns):\n",
    "    return make_pipeline(\n",
    "        DataSelector(columns = columns), \n",
    "        SGDRegressorTransformer()\n",
    "    )"
   ]
  },
  {
   "cell_type": "code",
   "execution_count": 12,
   "metadata": {
    "collapsed": true
   },
   "outputs": [],
   "source": [
    "base_pipeline = streaming_pipeline(['c{}'.format(x) for x in range(20)])\n",
    "stream1_pipeline = streaming_pipeline(['c{}'.format(x) for x in range(20,30)])\n",
    "stream2_pipeline = streaming_pipeline(['c{}'.format(x) for x in range(30,40)])"
   ]
  },
  {
   "cell_type": "code",
   "execution_count": 13,
   "metadata": {
    "collapsed": true
   },
   "outputs": [],
   "source": [
    "# combine all the pipeline together...\n",
    "# using stacking - this will be the boosting\n",
    "# variant of grafting...\n",
    "full_pipeline = make_pipeline(\n",
    "    FeatureUnion([\n",
    "        ('base', base_pipeline), \n",
    "        ('stream1', stream1_pipeline), \n",
    "        ('stream2', stream2_pipeline)\n",
    "    ]), \n",
    "    SGDRegressorTransformer('elasticnet'))"
   ]
  },
  {
   "cell_type": "code",
   "execution_count": 14,
   "metadata": {},
   "outputs": [
    {
     "data": {
      "text/plain": [
       "array([-0.10700842, -0.03062437, -0.02090286, -0.11336955, -0.15977816,\n",
       "       -0.12579174, -0.08741142, -0.12134747, -0.04462746, -0.08296429,\n",
       "       -0.03304037, -0.11740999, -0.10431545, -0.00037746, -0.14182735,\n",
       "       -0.05118834, -0.08439879, -0.0629687 , -0.10683876, -0.05377854,\n",
       "        0.00510214, -0.05260897, -0.06858216, -0.07814564, -0.09182128,\n",
       "       -0.12353198, -0.12371988, -0.03552614, -0.04843085, -0.05347862,\n",
       "       -0.09092167, -0.13127768, -0.13939877, -0.09217763, -0.09870898,\n",
       "       -0.05749069, -0.14396359, -0.03037639, -0.10313411, -0.05340791,\n",
       "       -0.08215666, -0.05038099, -0.10502642, -0.04993068, -0.11425534,\n",
       "       -0.05122696, -0.18006223, -0.09279828, -0.0775214 , -0.19063154,\n",
       "       -0.03115275, -0.10557639, -0.06163757, -0.07014581, -0.05115169,\n",
       "       -0.06922402, -0.11620319, -0.13705242, -0.09855643, -0.13782169,\n",
       "       -0.13481644, -0.01276539, -0.01060413, -0.1534875 , -0.0790885 ,\n",
       "       -0.03677558, -0.11595928, -0.10471266, -0.03096234, -0.09928369,\n",
       "       -0.10694513, -0.10810034, -0.07622746, -0.11870449, -0.07252212,\n",
       "       -0.0661332 , -0.07701265, -0.0367088 , -0.12791096, -0.00382798,\n",
       "       -0.11613093, -0.12541921, -0.0347415 , -0.01630019, -0.17278762,\n",
       "       -0.10297765, -0.10904487, -0.09807611, -0.07464294, -0.0345069 ,\n",
       "       -0.09359759, -0.07271633, -0.11673103, -0.11174294, -0.08528878,\n",
       "       -0.14424038, -0.08232457, -0.05912558, -0.09210196, -0.10475424])"
      ]
     },
     "execution_count": 14,
     "metadata": {},
     "output_type": "execute_result"
    }
   ],
   "source": [
    "full_pipeline.fit(pdf, y)\n",
    "full_pipeline.predict(pdf)"
   ]
  },
  {
   "cell_type": "code",
   "execution_count": 15,
   "metadata": {
    "collapsed": true
   },
   "outputs": [],
   "source": [
    "class GraftingRegressor(BaseEstimator, TransformerMixin):\n",
    "    def __init__(self, lambda_=0.05):\n",
    "        \"\"\"\n",
    "        lambda_: is the regularizer penalty. This is used to select which columns are kept\n",
    "                 in the model.\n",
    "        \"\"\"\n",
    "        self.grafting_columns = []\n",
    "        self.stream_pipeline = []\n",
    "        self.full_pipeline = []\n",
    "        self.lambda_ = lambda_\n",
    "        \n",
    "    def streaming_pipeline(self, columns):\n",
    "        return make_pipeline(\n",
    "            DataSelector(columns = columns), \n",
    "            SGDRegressorTransformer()\n",
    "        )\n",
    "    \n",
    "    def _fit(self, X, y=None):\n",
    "        if not type(X) is pd.core.frame.DataFrame:\n",
    "            raise Exception(\"Grafting Classifier can only accept dataframes!\")\n",
    "        \n",
    "        flat_columns = list(itertools.chain(*self.grafting_columns))\n",
    "        new_feats = [x for x in list(X.columns) if x not in flat_columns]\n",
    "        \n",
    "        idx = len(self.stream_pipeline)\n",
    "        self.stream_pipeline.append(('stream{}'.format(idx), self.streaming_pipeline(new_feats)))\n",
    "        self.full_pipeline = make_pipeline(\n",
    "            FeatureUnion(self.stream_pipeline[:]), \n",
    "            SGDRegressorTransformer('elasticnet'))\n",
    "        \n",
    "    \n",
    "    def fit(self, X, y=None):\n",
    "        self._fit(X, y)\n",
    "        self.full_pipeline.fit(X, y)\n",
    "        return self\n",
    "    \n",
    "    def partial_fit(self, X, y=None):\n",
    "        self._fit(X, y)\n",
    "        self.full_pipeline.partial_fit(X, y)\n",
    "        return self\n",
    "    \n",
    "    def predict(self, X):\n",
    "        return self.full_pipeline.predict(X)\n",
    "\n",
    "    def transform(self, X):\n",
    "        return self.predict(X)"
   ]
  },
  {
   "cell_type": "code",
   "execution_count": 16,
   "metadata": {},
   "outputs": [],
   "source": [
    "gcc  = GraftingRegressor()"
   ]
  },
  {
   "cell_type": "code",
   "execution_count": 17,
   "metadata": {},
   "outputs": [
    {
     "data": {
      "text/plain": [
       "GraftingRegressor(lambda_=0.05)"
      ]
     },
     "execution_count": 17,
     "metadata": {},
     "output_type": "execute_result"
    }
   ],
   "source": [
    "gcc.fit(pdf, y)"
   ]
  },
  {
   "cell_type": "code",
   "execution_count": 18,
   "metadata": {},
   "outputs": [
    {
     "data": {
      "text/plain": [
       "array([-0.39380592,  0.23180973,  0.49707636,  0.14014472,  0.01280641,\n",
       "       -0.31580541, -0.05606834, -0.47831911,  0.10068441, -0.25821049,\n",
       "        0.05498184, -0.38126252, -0.16214793, -0.08358622, -0.54967117,\n",
       "        0.15199634, -0.51491051,  0.06813817, -0.33611079, -0.01782047,\n",
       "        0.1293091 ,  0.01802911, -0.35382979,  0.08904158, -0.00257713,\n",
       "       -0.20318506,  0.08491686, -0.03881853,  0.43664507, -0.11114208,\n",
       "       -0.4792771 ,  0.00387224, -0.29778018, -0.50782561,  0.12219898,\n",
       "       -0.15904784,  0.12917408,  0.19068617, -0.14757517, -0.01550723,\n",
       "       -0.32793189,  0.1438364 ,  0.13095491,  0.22965644,  0.08485319,\n",
       "        0.04804499, -0.55323421, -0.14434505, -0.0039075 , -0.58844475,\n",
       "        0.22705779, -0.25241946,  0.12399556,  0.25459338,  0.0884384 ,\n",
       "       -0.17107297,  0.0454575 , -0.56554495, -0.38401559, -0.46473955,\n",
       "       -0.31219383,  0.6066835 ,  0.22040682, -0.62362999, -0.33836777,\n",
       "       -0.08132287, -0.17515207, -0.07986534,  0.12086997, -0.55432681,\n",
       "       -0.24731357, -0.12879931, -0.06098167, -0.02401296, -0.19831804,\n",
       "        0.34540792, -0.07710855,  0.16854416, -0.41983162,  0.42431118,\n",
       "        0.02274323, -0.13554789,  0.37031156,  0.42805729, -0.34694716,\n",
       "       -0.33771769,  0.03705967, -0.24202825,  0.0198698 ,  0.47909002,\n",
       "        0.22378048,  0.1396452 , -0.3496178 , -0.18495287,  0.07043831,\n",
       "       -0.52957455, -0.28206289, -0.5591581 , -0.47264485, -0.27816834])"
      ]
     },
     "execution_count": 18,
     "metadata": {},
     "output_type": "execute_result"
    }
   ],
   "source": [
    "gcc.transform(pdf)"
   ]
  },
  {
   "cell_type": "code",
   "execution_count": 19,
   "metadata": {},
   "outputs": [
    {
     "data": {
      "text/plain": [
       "array([-0.39380592,  0.23180973,  0.49707636,  0.14014472,  0.01280641,\n",
       "       -0.31580541, -0.05606834, -0.47831911,  0.10068441, -0.25821049,\n",
       "        0.05498184, -0.38126252, -0.16214793, -0.08358622, -0.54967117,\n",
       "        0.15199634, -0.51491051,  0.06813817, -0.33611079, -0.01782047,\n",
       "        0.1293091 ,  0.01802911, -0.35382979,  0.08904158, -0.00257713,\n",
       "       -0.20318506,  0.08491686, -0.03881853,  0.43664507, -0.11114208,\n",
       "       -0.4792771 ,  0.00387224, -0.29778018, -0.50782561,  0.12219898,\n",
       "       -0.15904784,  0.12917408,  0.19068617, -0.14757517, -0.01550723,\n",
       "       -0.32793189,  0.1438364 ,  0.13095491,  0.22965644,  0.08485319,\n",
       "        0.04804499, -0.55323421, -0.14434505, -0.0039075 , -0.58844475,\n",
       "        0.22705779, -0.25241946,  0.12399556,  0.25459338,  0.0884384 ,\n",
       "       -0.17107297,  0.0454575 , -0.56554495, -0.38401559, -0.46473955,\n",
       "       -0.31219383,  0.6066835 ,  0.22040682, -0.62362999, -0.33836777,\n",
       "       -0.08132287, -0.17515207, -0.07986534,  0.12086997, -0.55432681,\n",
       "       -0.24731357, -0.12879931, -0.06098167, -0.02401296, -0.19831804,\n",
       "        0.34540792, -0.07710855,  0.16854416, -0.41983162,  0.42431118,\n",
       "        0.02274323, -0.13554789,  0.37031156,  0.42805729, -0.34694716,\n",
       "       -0.33771769,  0.03705967, -0.24202825,  0.0198698 ,  0.47909002,\n",
       "        0.22378048,  0.1396452 , -0.3496178 , -0.18495287,  0.07043831,\n",
       "       -0.52957455, -0.28206289, -0.5591581 , -0.47264485, -0.27816834])"
      ]
     },
     "execution_count": 19,
     "metadata": {},
     "output_type": "execute_result"
    }
   ],
   "source": [
    "gcc.predict(pdf)"
   ]
  }
 ],
 "metadata": {
  "kernelspec": {
   "display_name": "Python [default]",
   "language": "python",
   "name": "python3"
  },
  "language_info": {
   "codemirror_mode": {
    "name": "ipython",
    "version": 3
   },
   "file_extension": ".py",
   "mimetype": "text/x-python",
   "name": "python",
   "nbconvert_exporter": "python",
   "pygments_lexer": "ipython3",
   "version": "3.5.2"
  }
 },
 "nbformat": 4,
 "nbformat_minor": 2
}
