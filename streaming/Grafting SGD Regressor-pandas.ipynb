{
 "cells": [
  {
   "cell_type": "markdown",
   "metadata": {},
   "source": [
    "This implementation only takes in a pandas dataframe and considers only the columns to keep as string objects.\n",
    "\n",
    "**Reasoning for only taking Pandas**\n",
    "\n",
    "Streams of data often come in chunks, (key pairs or otherwise) with no intrinsic ordering, hence assumption of order in the model matrix is probably inappropriate.\n",
    "\n",
    "**Dealing with numpy matrices** (to do in the future)\n",
    "\n",
    "Presume an order which is to be enforced - the easiest way is to:\n",
    "\n",
    "*  Check if object is array, if it is:\n",
    "    *  Force column names in the logical way (e.g. `column0`, `column1` ... etc)\n",
    "    *  Coerce as a dataframe\n",
    "*  Proceed as normal "
   ]
  },
  {
   "cell_type": "code",
   "execution_count": 1,
   "metadata": {
    "collapsed": true
   },
   "outputs": [],
   "source": [
    "import sklearn"
   ]
  },
  {
   "cell_type": "code",
   "execution_count": 2,
   "metadata": {
    "collapsed": true
   },
   "outputs": [],
   "source": [
    "from sklearn.datasets import make_regression\n",
    "from sklearn.linear_model import SGDRegressor\n",
    "\n",
    "import pandas as pd\n",
    "import numpy as np"
   ]
  },
  {
   "cell_type": "code",
   "execution_count": 3,
   "metadata": {
    "collapsed": true
   },
   "outputs": [],
   "source": [
    "X, y = make_regression()\n",
    "pdf = pd.DataFrame(X)\n",
    "pdf.columns = ['c{}'.format(x) for x in range(100)]"
   ]
  },
  {
   "cell_type": "code",
   "execution_count": 4,
   "metadata": {},
   "outputs": [
    {
     "data": {
      "text/plain": [
       "(100, 100)"
      ]
     },
     "execution_count": 4,
     "metadata": {},
     "output_type": "execute_result"
    }
   ],
   "source": [
    "X.shape"
   ]
  },
  {
   "cell_type": "code",
   "execution_count": 5,
   "metadata": {
    "collapsed": true
   },
   "outputs": [],
   "source": [
    "X1 = pdf[['c{}'.format(x) for x in range(50, 100)]]\n",
    "X2 = pdf[['c{}'.format(x) for x in range(50)]]"
   ]
  },
  {
   "cell_type": "code",
   "execution_count": 6,
   "metadata": {
    "collapsed": true
   },
   "outputs": [],
   "source": [
    "class GraftingRegressor(SGDRegressor):\n",
    "    def __init__(self, loss=\"squared_loss\", penalty=\"l2\", alpha=0.0001,\n",
    "                 l1_ratio=0.15, fit_intercept=True, max_iter=None, tol=None,\n",
    "                 shuffle=True, verbose=0, epsilon=0.1,\n",
    "                 random_state=None, learning_rate=\"invscaling\", eta0=0.01,\n",
    "                 power_t=0.25, warm_start=False, average=False, n_iter=None, reg_penalty=None):\n",
    "        super(GraftingRegressor, self).__init__(loss=loss, penalty=penalty,\n",
    "                                           alpha=alpha, l1_ratio=l1_ratio,\n",
    "                                           fit_intercept=fit_intercept,\n",
    "                                           max_iter=max_iter, tol=tol,\n",
    "                                           shuffle=shuffle,\n",
    "                                           verbose=verbose,\n",
    "                                           epsilon=epsilon,\n",
    "                                           random_state=random_state,\n",
    "                                           learning_rate=learning_rate,\n",
    "                                           eta0=eta0, power_t=power_t,\n",
    "                                           warm_start=warm_start,\n",
    "                                           average=average, n_iter=n_iter)\n",
    "        self.coef_info = {'cols': [], 'coef':[], 'excluded_cols': []}\n",
    "        self.seen_cols = []\n",
    "        self.base_shape = None\n",
    "        self.reg_penalty = reg_penalty if reg_penalty is not None else l1_ratio\n",
    "        \n",
    "    def add_column_exclusion(self, cols):\n",
    "        self.coef_info['excluded_cols'] = list(self.coef_info['excluded_cols']) + list(cols)\n",
    "    \n",
    "    def _fit_columns(self, X_, return_x=True, transform_only=False):\n",
    "        \"\"\"\n",
    "        Method filter through \"unselected\" columns. The goal of this \n",
    "        method is to filter any uninformative columns.\n",
    "        \n",
    "        This will be selected based on index only?\n",
    "        \n",
    "        If return_x is false, it will only return the boolean mask.\n",
    "        \"\"\"\n",
    "        X = X_[X_.columns.difference(self.coef_info['excluded_cols'])]\n",
    "        \n",
    "        # order the columns correctly...\n",
    "        col_order = self.coef_info['cols'] + list([x for x in X.columns if x not in self.coef_info['cols']])\n",
    "        X = X[col_order]\n",
    "        return X\n",
    "        \n",
    "    def _reg_penalty(self, X):\n",
    "        col_coef = [(col, coef) for col, coef in zip(X.columns.tolist(), self.coef_) if np.abs(coef) >= self.reg_penalty]\n",
    "        self.coef_info['cols'] = [x for x, _ in col_coef]\n",
    "        self.coef_info['coef'] = [x for _, x in col_coef]\n",
    "        self.coef_info['excluded_cols'] = [x for x in self.seen_cols if x not in self.coef_info['cols']]\n",
    "        self.coef_ = np.array(self.coef_info['coef'])\n",
    "            \n",
    "    def _partial_grafting_fit(self, X, y):\n",
    "        \"\"\"\n",
    "        Partial fit grafting method to expand the coefficient listing\n",
    "        to taking into account new coefficients\n",
    "        \"\"\"        \n",
    "        n_samples, n_features = X.shape\n",
    "        coef_list = np.zeros(n_features, dtype=np.float64, order=\"C\")\n",
    "        coef_list[:len(self.coef_info['coef'])] = self.coef_info['coef']\n",
    "        self.coef_ = coef_list.copy()\n",
    "    \n",
    "    def fit(self, X, y, coef_init=None, intercept_init=None,\n",
    "            sample_weight=None):\n",
    "        self.seen_cols = list(set(self.seen_cols + X.columns.tolist()))\n",
    "        super(GraftingRegressor, self).fit(X, y, coef_init=coef_init, intercept_init=intercept_init,\n",
    "            sample_weight=sample_weight)\n",
    "        self._reg_penalty(X)\n",
    "        return self\n",
    "        \n",
    "    def partial_fit(self, X, y, sample_weight=None):\n",
    "        self.seen_cols = list(set(self.seen_cols + X.columns.tolist()))\n",
    "        X = self._fit_columns(X)\n",
    "        self._partial_grafting_fit(X, y)\n",
    "        super(GraftingRegressor, self).partial_fit(X, y, sample_weight=sample_weight)  \n",
    "        \n",
    "        # update parameters based on weight of regularizer penalty\n",
    "        self._reg_penalty(X)\n",
    "        return self\n",
    "    \n",
    "    def predict(self, X):\n",
    "        X = self._fit_columns(X, transform_only=True)\n",
    "        return super(GraftingRegressor, self).predict(X)        "
   ]
  },
  {
   "cell_type": "code",
   "execution_count": 7,
   "metadata": {},
   "outputs": [
    {
     "data": {
      "text/plain": [
       "GraftingRegressor(alpha=0.0001, average=False, epsilon=0.1, eta0=0.01,\n",
       "         fit_intercept=True, l1_ratio=1.0, learning_rate='invscaling',\n",
       "         loss='squared_loss', max_iter=1000, n_iter=None, penalty='l2',\n",
       "         power_t=0.25, random_state=None, reg_penalty=1.0, shuffle=True,\n",
       "         tol=None, verbose=0, warm_start=False)"
      ]
     },
     "execution_count": 7,
     "metadata": {},
     "output_type": "execute_result"
    }
   ],
   "source": [
    "model = GraftingRegressor(max_iter=1000, l1_ratio=1.0)\n",
    "model.fit(X1, y)"
   ]
  },
  {
   "cell_type": "code",
   "execution_count": 8,
   "metadata": {},
   "outputs": [
    {
     "data": {
      "text/plain": [
       "49"
      ]
     },
     "execution_count": 8,
     "metadata": {},
     "output_type": "execute_result"
    }
   ],
   "source": [
    "len(model.coef_)"
   ]
  },
  {
   "cell_type": "code",
   "execution_count": 9,
   "metadata": {},
   "outputs": [
    {
     "data": {
      "text/plain": [
       "GraftingRegressor(alpha=0.0001, average=False, epsilon=0.1, eta0=0.01,\n",
       "         fit_intercept=True, l1_ratio=1.0, learning_rate='invscaling',\n",
       "         loss='squared_loss', max_iter=1000, n_iter=None, penalty='l2',\n",
       "         power_t=0.25, random_state=None, reg_penalty=1.0, shuffle=True,\n",
       "         tol=None, verbose=0, warm_start=False)"
      ]
     },
     "execution_count": 9,
     "metadata": {},
     "output_type": "execute_result"
    }
   ],
   "source": [
    "model.partial_fit(pdf, y)"
   ]
  },
  {
   "cell_type": "code",
   "execution_count": 10,
   "metadata": {},
   "outputs": [
    {
     "data": {
      "text/plain": [
       "51"
      ]
     },
     "execution_count": 10,
     "metadata": {},
     "output_type": "execute_result"
    }
   ],
   "source": [
    "len(model.coef_)"
   ]
  },
  {
   "cell_type": "code",
   "execution_count": 11,
   "metadata": {},
   "outputs": [
    {
     "data": {
      "text/plain": [
       "dict_keys(['excluded_cols', 'cols', 'coef'])"
      ]
     },
     "execution_count": 11,
     "metadata": {},
     "output_type": "execute_result"
    }
   ],
   "source": [
    "model.coef_info.keys()"
   ]
  },
  {
   "cell_type": "code",
   "execution_count": 12,
   "metadata": {},
   "outputs": [
    {
     "data": {
      "text/plain": [
       "51"
      ]
     },
     "execution_count": 12,
     "metadata": {},
     "output_type": "execute_result"
    }
   ],
   "source": [
    "len(model.coef_info['cols'])"
   ]
  },
  {
   "cell_type": "code",
   "execution_count": 13,
   "metadata": {},
   "outputs": [
    {
     "data": {
      "text/plain": [
       "51"
      ]
     },
     "execution_count": 13,
     "metadata": {},
     "output_type": "execute_result"
    }
   ],
   "source": [
    "len(model.coef_info['coef'])"
   ]
  },
  {
   "cell_type": "code",
   "execution_count": 14,
   "metadata": {},
   "outputs": [
    {
     "data": {
      "text/plain": [
       "49"
      ]
     },
     "execution_count": 14,
     "metadata": {},
     "output_type": "execute_result"
    }
   ],
   "source": [
    "len(model.coef_info['excluded_cols'])"
   ]
  },
  {
   "cell_type": "code",
   "execution_count": 15,
   "metadata": {},
   "outputs": [
    {
     "data": {
      "text/plain": [
       "array([-329.44065603,  173.24467027, -295.01914425,  218.244592  ,\n",
       "        -55.33762252,  185.78602405,  112.41239643,  -63.67967196,\n",
       "        252.21051927,   38.01259169, -102.71677656,   35.44518254,\n",
       "       -119.38403627,  -75.02029465,  -41.18083533,   28.50881144,\n",
       "       -109.28412896, -335.63412544,  374.30156923,  183.30446827,\n",
       "       -109.53705761, -396.24064481,  592.41453369,  350.97702621,\n",
       "       -425.95768105,  168.79839357,  -56.81364026,   96.51907632,\n",
       "         19.26518584,  119.66260308,   27.2611923 , -155.77133304,\n",
       "         62.64732302, -243.88977687,  -45.84745769,  211.9536094 ,\n",
       "       -225.33171983,  106.64324122,   56.33866071,  174.56428333,\n",
       "       -128.66176981,  121.32528132,  145.20361225,   99.78558791,\n",
       "         72.6107238 , -106.25582428, -228.72471591,   70.32521605,\n",
       "        334.61916916, -115.12821897,  113.26299583, -514.38728888,\n",
       "        -19.01582745,  -31.99521041, -309.74839348,   24.09277155,\n",
       "         65.1461789 , -239.31839227,  185.46870131,  -82.1869437 ,\n",
       "        223.63210063,  182.35472891,  -54.24904147,   95.44242766,\n",
       "        104.9560856 , -114.97197864,  150.77674884,   20.56392   ,\n",
       "       -171.21625454,  173.36023176, -190.61140647,  213.89859104,\n",
       "        211.65592015,   12.53496309, -121.37017967,  277.41972406,\n",
       "        211.77841107,  256.91078372,   99.67630079, -125.91476546,\n",
       "         57.73439271,   84.87960109,   79.07797543,   52.06257142,\n",
       "         50.26954034,  335.50559951,  269.15560441,   27.85583822,\n",
       "         -6.35091345,  160.63650472,  277.83819526, -326.19849901,\n",
       "       -137.55849855,  179.69781507, -214.42009013,  -35.47721693,\n",
       "       -135.4125899 , -143.78009194,   58.03400564, -369.35307928])"
      ]
     },
     "execution_count": 15,
     "metadata": {},
     "output_type": "execute_result"
    }
   ],
   "source": [
    "model.predict(pdf)"
   ]
  }
 ],
 "metadata": {
  "kernelspec": {
   "display_name": "Python [default]",
   "language": "python",
   "name": "python3"
  },
  "language_info": {
   "codemirror_mode": {
    "name": "ipython",
    "version": 3
   },
   "file_extension": ".py",
   "mimetype": "text/x-python",
   "name": "python",
   "nbconvert_exporter": "python",
   "pygments_lexer": "ipython3",
   "version": "3.5.2"
  }
 },
 "nbformat": 4,
 "nbformat_minor": 2
}
