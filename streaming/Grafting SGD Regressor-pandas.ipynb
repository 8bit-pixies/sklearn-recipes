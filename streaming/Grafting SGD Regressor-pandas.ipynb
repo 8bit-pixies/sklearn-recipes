{
 "cells": [
  {
   "cell_type": "markdown",
   "metadata": {},
   "source": [
    "This implementation only takes in a pandas dataframe and considers only the columns to keep as string objects.\n",
    "\n",
    "**Reasoning for only taking Pandas**\n",
    "\n",
    "Streams of data often come in chunks, (key pairs or otherwise) with no intrinsic ordering, hence assumption of order in the model matrix is probably inappropriate.\n",
    "\n",
    "**Dealing with numpy matrices** (to do in the future)\n",
    "\n",
    "Presume an order which is to be enforced - the easiest way is to:\n",
    "\n",
    "*  Check if object is array, if it is:\n",
    "    *  Force column names in the logical way (e.g. `column0`, `column1` ... etc)\n",
    "    *  Coerce as a dataframe\n",
    "*  Proceed as normal "
   ]
  },
  {
   "cell_type": "code",
   "execution_count": 1,
   "metadata": {
    "collapsed": true
   },
   "outputs": [],
   "source": [
    "import sklearn"
   ]
  },
  {
   "cell_type": "code",
   "execution_count": 2,
   "metadata": {
    "collapsed": true
   },
   "outputs": [],
   "source": [
    "from sklearn.datasets import make_regression\n",
    "from sklearn.linear_model import SGDRegressor\n",
    "\n",
    "import pandas as pd\n",
    "import numpy as np"
   ]
  },
  {
   "cell_type": "code",
   "execution_count": 3,
   "metadata": {
    "collapsed": true
   },
   "outputs": [],
   "source": [
    "X, y = make_regression()\n",
    "pdf = pd.DataFrame(X)\n",
    "pdf.columns = ['c{}'.format(x) for x in range(100)]"
   ]
  },
  {
   "cell_type": "code",
   "execution_count": 4,
   "metadata": {},
   "outputs": [
    {
     "data": {
      "text/plain": [
       "(100, 100)"
      ]
     },
     "execution_count": 4,
     "metadata": {},
     "output_type": "execute_result"
    }
   ],
   "source": [
    "X.shape"
   ]
  },
  {
   "cell_type": "code",
   "execution_count": 5,
   "metadata": {
    "collapsed": true
   },
   "outputs": [],
   "source": [
    "X1 = pdf[['c{}'.format(x) for x in range(50, 100)]]\n",
    "X2 = pdf[['c{}'.format(x) for x in range(50)]]"
   ]
  },
  {
   "cell_type": "code",
   "execution_count": 6,
   "metadata": {
    "collapsed": true
   },
   "outputs": [],
   "source": [
    "class GraftingRegressor(SGDRegressor):\n",
    "    def __init__(self, loss=\"squared_loss\", penalty=\"l2\", alpha=0.0001,\n",
    "                 l1_ratio=0.15, fit_intercept=True, max_iter=None, tol=None,\n",
    "                 shuffle=True, verbose=0, epsilon=0.1,\n",
    "                 random_state=None, learning_rate=\"invscaling\", eta0=0.01,\n",
    "                 power_t=0.25, warm_start=False, average=False, n_iter=None, reg_penalty=None):\n",
    "        super(GraftingRegressor, self).__init__(loss=loss, penalty=penalty,\n",
    "                                           alpha=alpha, l1_ratio=l1_ratio,\n",
    "                                           fit_intercept=fit_intercept,\n",
    "                                           max_iter=max_iter, tol=tol,\n",
    "                                           shuffle=shuffle,\n",
    "                                           verbose=verbose,\n",
    "                                           epsilon=epsilon,\n",
    "                                           random_state=random_state,\n",
    "                                           learning_rate=learning_rate,\n",
    "                                           eta0=eta0, power_t=power_t,\n",
    "                                           warm_start=warm_start,\n",
    "                                           average=average, n_iter=n_iter)\n",
    "        self.coef_info = {'cols': [], 'coef':[], 'excluded_cols': []}\n",
    "        self.seen_cols = []\n",
    "        self.base_shape = None\n",
    "        self.reg_penalty = reg_penalty if reg_penalty is not None else l1_ratio\n",
    "        \n",
    "    def add_column_exclusion(self, cols):\n",
    "        self.coef_info['excluded_cols'] = list(self.coef_info['excluded_cols']) + list(cols)\n",
    "    \n",
    "    def _fit_columns(self, X_, return_x=True, transform_only=False):\n",
    "        \"\"\"\n",
    "        Method filter through \"unselected\" columns. The goal of this \n",
    "        method is to filter any uninformative columns.\n",
    "        \n",
    "        This will be selected based on index only?\n",
    "        \n",
    "        If return_x is false, it will only return the boolean mask.\n",
    "        \"\"\"\n",
    "        X = X_[X_.columns.difference(self.coef_info['excluded_cols'])]\n",
    "        \n",
    "        # order the columns correctly...\n",
    "        col_order = self.coef_info['cols'] + list([x for x in X.columns if x not in self.coef_info['cols']])\n",
    "        X = X[col_order]\n",
    "        return X\n",
    "        \n",
    "    def _reg_penalty(self, X):\n",
    "        col_coef = [(col, coef) for col, coef in zip(X.columns.tolist(), self.coef_) if np.abs(coef) >= self.reg_penalty]\n",
    "        self.coef_info['cols'] = [x for x, _ in col_coef]\n",
    "        self.coef_info['coef'] = [x for _, x in col_coef]\n",
    "        self.coef_info['excluded_cols'] = [x for x in self.seen_cols if x not in self.coef_info['cols']]\n",
    "        self.coef_ = np.array(self.coef_info['coef'])\n",
    "            \n",
    "    def _partial_grafting_fit(self, X, y):\n",
    "        \"\"\"\n",
    "        Partial fit grafting method to expand the coefficient listing\n",
    "        to taking into account new coefficients\n",
    "        \"\"\"        \n",
    "        n_samples, n_features = X.shape\n",
    "        coef_list = np.zeros(n_features, dtype=np.float64, order=\"C\")\n",
    "        coef_list[:len(self.coef_info['coef'])] = self.coef_info['coef']\n",
    "        self.coef_ = coef_list.copy()\n",
    "    \n",
    "    def fit(self, X, y, coef_init=None, intercept_init=None,\n",
    "            sample_weight=None):\n",
    "        self.seen_cols = list(set(self.seen_cols + X.columns.tolist()))\n",
    "        super(GraftingRegressor, self).fit(X, y, coef_init=coef_init, intercept_init=intercept_init,\n",
    "            sample_weight=sample_weight)\n",
    "        self._reg_penalty(X)\n",
    "        return self\n",
    "        \n",
    "    def partial_fit(self, X, y, sample_weight=None):\n",
    "        self.seen_cols = list(set(self.seen_cols + X.columns.tolist()))\n",
    "        X = self._fit_columns(X)\n",
    "        self._partial_grafting_fit(X, y)\n",
    "        super(GraftingRegressor, self).partial_fit(X, y, sample_weight=sample_weight)  \n",
    "        \n",
    "        # update parameters based on weight of regularizer penalty\n",
    "        self._reg_penalty(X)\n",
    "        return self\n",
    "    \n",
    "    def predict(self, X):\n",
    "        X = self._fit_columns(X, transform_only=True)\n",
    "        return super(GraftingRegressor, self).predict(X)        "
   ]
  },
  {
   "cell_type": "code",
   "execution_count": 7,
   "metadata": {},
   "outputs": [
    {
     "data": {
      "text/plain": [
       "GraftingRegressor(alpha=0.0001, average=False, epsilon=0.1, eta0=0.01,\n",
       "         fit_intercept=True, l1_ratio=1.0, learning_rate='invscaling',\n",
       "         loss='squared_loss', max_iter=1000, n_iter=None, penalty='l2',\n",
       "         power_t=0.25, random_state=None, reg_penalty=1.0, shuffle=True,\n",
       "         tol=None, verbose=0, warm_start=False)"
      ]
     },
     "execution_count": 7,
     "metadata": {},
     "output_type": "execute_result"
    }
   ],
   "source": [
    "model = GraftingRegressor(max_iter=1000, l1_ratio=1.0)\n",
    "model.fit(X1, y)"
   ]
  },
  {
   "cell_type": "code",
   "execution_count": 8,
   "metadata": {},
   "outputs": [
    {
     "data": {
      "text/plain": [
       "49"
      ]
     },
     "execution_count": 8,
     "metadata": {},
     "output_type": "execute_result"
    }
   ],
   "source": [
    "len(model.coef_)"
   ]
  },
  {
   "cell_type": "code",
   "execution_count": 9,
   "metadata": {},
   "outputs": [
    {
     "data": {
      "text/plain": [
       "GraftingRegressor(alpha=0.0001, average=False, epsilon=0.1, eta0=0.01,\n",
       "         fit_intercept=True, l1_ratio=1.0, learning_rate='invscaling',\n",
       "         loss='squared_loss', max_iter=1000, n_iter=None, penalty='l2',\n",
       "         power_t=0.25, random_state=None, reg_penalty=1.0, shuffle=True,\n",
       "         tol=None, verbose=0, warm_start=False)"
      ]
     },
     "execution_count": 9,
     "metadata": {},
     "output_type": "execute_result"
    }
   ],
   "source": [
    "model.partial_fit(pdf, y)"
   ]
  },
  {
   "cell_type": "code",
   "execution_count": 10,
   "metadata": {},
   "outputs": [
    {
     "data": {
      "text/plain": [
       "57"
      ]
     },
     "execution_count": 10,
     "metadata": {},
     "output_type": "execute_result"
    }
   ],
   "source": [
    "len(model.coef_)"
   ]
  },
  {
   "cell_type": "code",
   "execution_count": 11,
   "metadata": {},
   "outputs": [
    {
     "data": {
      "text/plain": [
       "dict_keys(['coef', 'cols', 'excluded_cols'])"
      ]
     },
     "execution_count": 11,
     "metadata": {},
     "output_type": "execute_result"
    }
   ],
   "source": [
    "model.coef_info.keys()"
   ]
  },
  {
   "cell_type": "code",
   "execution_count": 12,
   "metadata": {},
   "outputs": [
    {
     "data": {
      "text/plain": [
       "57"
      ]
     },
     "execution_count": 12,
     "metadata": {},
     "output_type": "execute_result"
    }
   ],
   "source": [
    "len(model.coef_info['cols'])"
   ]
  },
  {
   "cell_type": "code",
   "execution_count": 13,
   "metadata": {},
   "outputs": [
    {
     "data": {
      "text/plain": [
       "57"
      ]
     },
     "execution_count": 13,
     "metadata": {},
     "output_type": "execute_result"
    }
   ],
   "source": [
    "len(model.coef_info['coef'])"
   ]
  },
  {
   "cell_type": "code",
   "execution_count": 14,
   "metadata": {},
   "outputs": [
    {
     "data": {
      "text/plain": [
       "43"
      ]
     },
     "execution_count": 14,
     "metadata": {},
     "output_type": "execute_result"
    }
   ],
   "source": [
    "len(model.coef_info['excluded_cols'])"
   ]
  },
  {
   "cell_type": "code",
   "execution_count": 15,
   "metadata": {},
   "outputs": [
    {
     "data": {
      "text/plain": [
       "array([-108.35791191,  207.91816625,  -31.47114295,  -51.47720674,\n",
       "         46.87862919,  -35.5718505 ,  142.98270672,  133.55590398,\n",
       "         -5.96245542,   75.94270026,  237.41777405,   28.68783597,\n",
       "         65.38049609,  -78.37920503, -175.57978513,  -26.95706324,\n",
       "        224.70945344, -245.22455315,   40.53589353,   -4.40814661,\n",
       "         33.92163182, -131.88991859,  -98.27594562,    4.88781561,\n",
       "       -239.76452488,  -13.33517415,  128.02397954,   34.39949925,\n",
       "        -58.46164746,   21.09281941, -157.10914664,  185.2639206 ,\n",
       "         46.94566028,  140.82046925,  -90.93960077,   84.62717298,\n",
       "        -89.30355266, -233.15676383,  385.26502104,  -33.90056035,\n",
       "       -255.85025649,   27.73267347,  -63.66160932, -305.26282284,\n",
       "       -152.26960375,  116.83927432,  -46.2483672 , -165.38233289,\n",
       "       -122.66969556, -358.08372963,  -40.14668753,  -92.9073549 ,\n",
       "        209.26726795, -129.18168025,   80.805593  ,   -4.60250911,\n",
       "       -145.61112123,   41.5809896 , -211.83619557,  -55.21152591,\n",
       "         87.76505327, -103.95192244, -127.21578644,    8.63064065,\n",
       "       -115.46305036, -205.08113286,   68.10018359,   27.01942254,\n",
       "        156.00862167,   -9.74603082,   10.93598693, -270.55823989,\n",
       "        -94.29402979, -196.46017663, -230.7591019 ,  -30.01558006,\n",
       "         59.32705732,  -59.30663026,  156.83272818,  -73.86015553,\n",
       "        155.70577987,  123.44576436, -172.08924536,  -58.46398174,\n",
       "        137.19822603, -122.51896394, -114.12730308,   26.66347553,\n",
       "        255.79238515, -177.5852836 ,   65.61203443,  -40.98944457,\n",
       "        -21.82784615,  328.76406259, -342.33621918,   80.14761653,\n",
       "        -90.0081762 , -247.0117391 , -281.31110234,    9.94641617])"
      ]
     },
     "execution_count": 15,
     "metadata": {},
     "output_type": "execute_result"
    }
   ],
   "source": [
    "model.predict(pdf)"
   ]
  }
 ],
 "metadata": {
  "kernelspec": {
   "display_name": "Python [default]",
   "language": "python",
   "name": "python3"
  },
  "language_info": {
   "codemirror_mode": {
    "name": "ipython",
    "version": 3
   },
   "file_extension": ".py",
   "mimetype": "text/x-python",
   "name": "python",
   "nbconvert_exporter": "python",
   "pygments_lexer": "ipython3",
   "version": "3.5.2"
  }
 },
 "nbformat": 4,
 "nbformat_minor": 2
}
