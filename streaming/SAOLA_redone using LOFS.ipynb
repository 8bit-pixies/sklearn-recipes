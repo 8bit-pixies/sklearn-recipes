{
 "cells": [
  {
   "cell_type": "code",
   "execution_count": 1,
   "metadata": {
    "collapsed": true
   },
   "outputs": [],
   "source": [
    "import glob\n",
    "import os\n",
    "\n",
    "import pandas as pd \n",
    "import numpy as np\n",
    "import pprint\n",
    "from sklearn.linear_model import SGDRegressor, SGDClassifier\n",
    "from sklearn.metrics import log_loss, accuracy_score"
   ]
  },
  {
   "cell_type": "code",
   "execution_count": 2,
   "metadata": {
    "collapsed": true
   },
   "outputs": [],
   "source": [
    "os.environ['OCTAVE_EXECUTABLE'] = \"C:/Octave/Octave-4.2.1/bin/octave-cli-4.2.1.exe\""
   ]
  },
  {
   "cell_type": "code",
   "execution_count": 3,
   "metadata": {
    "collapsed": true
   },
   "outputs": [],
   "source": [
    "%load_ext oct2py.ipython"
   ]
  },
  {
   "cell_type": "code",
   "execution_count": 4,
   "metadata": {},
   "outputs": [
    {
     "name": "stdout",
     "output_type": "stream",
     "text": [
      "warning: function LOFS_Octave/source_codes\\example.m shadows a core library function\n"
     ]
    }
   ],
   "source": [
    "from oct2py import octave\n",
    "_ = octave.addpath('LOFS_Octave/source_codes/')"
   ]
  },
  {
   "cell_type": "code",
   "execution_count": 5,
   "metadata": {
    "collapsed": true
   },
   "outputs": [],
   "source": [
    "all_train = glob.glob(\"microarray/*_train.csv\") + glob.glob(\"uci/*_train.csv\") + glob.glob(\"NIPS/*_train.csv\")\n",
    "#all_train = glob.glob(\"uci/*_train.csv\") + glob.glob(\"NIPS/*_train.csv\")\n",
    "#all_train = glob.glob(\"NIPS/*_train.csv\")"
   ]
  },
  {
   "cell_type": "code",
   "execution_count": 6,
   "metadata": {
    "collapsed": true
   },
   "outputs": [],
   "source": [
    "def train_label(fname):\n",
    "    targetname = fname.replace(\".csv\", \".labels\")\n",
    "    return pd.read_csv(targetname)"
   ]
  },
  {
   "cell_type": "code",
   "execution_count": 7,
   "metadata": {},
   "outputs": [
    {
     "name": "stdout",
     "output_type": "stream",
     "text": [
      "microarray\\colon_train.csv\n",
      "6\n",
      "{'dataset': 'microarray\\\\colon_train.csv', 'accuracy': 0.85483870967741937, 'logloss': 5.0136933476483243, 'feat_dim': 6}\n",
      "\n",
      "\n",
      "\n",
      "microarray\\leukemia_train.csv\n"
     ]
    },
    {
     "name": "stderr",
     "output_type": "stream",
     "text": [
      "C:\\Users\\chapm\\Anaconda3\\envs\\skrecipe\\lib\\site-packages\\sklearn\\linear_model\\base.py:340: RuntimeWarning: overflow encountered in exp\n",
      "  np.exp(prob, prob)\n"
     ]
    },
    {
     "name": "stdout",
     "output_type": "stream",
     "text": [
      "21\n",
      "{'dataset': 'microarray\\\\leukemia_train.csv', 'accuracy': 0.98611111111111116, 'logloss': 0.47970522770709373, 'feat_dim': 21}\n",
      "\n",
      "\n",
      "\n",
      "microarray\\lung_cancer_train.csv\n",
      "54\n",
      "{'dataset': 'microarray\\\\lung_cancer_train.csv', 'accuracy': 1.0, 'logloss': 9.9920072216264128e-16, 'feat_dim': 54}\n",
      "\n",
      "\n",
      "\n",
      "microarray\\prostate_train.csv\n",
      "16\n",
      "{'dataset': 'microarray\\\\prostate_train.csv', 'accuracy': 0.92156862745098034, 'logloss': 2.708923638816525, 'feat_dim': 16}\n",
      "\n",
      "\n",
      "\n",
      "uci\\Ionosphere_train.csv\n",
      "4\n",
      "{'dataset': 'uci\\\\Ionosphere_train.csv', 'accuracy': 0.89458689458689455, 'logloss': 1.0215881689838706, 'feat_dim': 4}\n",
      "\n",
      "\n",
      "\n",
      "uci\\spambase_train.csv\n",
      "25\n",
      "{'dataset': 'uci\\\\spambase_train.csv', 'accuracy': 0.68767659204520759, 'logloss': 10.754718658437609, 'feat_dim': 25}\n",
      "\n",
      "\n",
      "\n",
      "uci\\spectf_train.csv\n",
      "1\n",
      "{'dataset': 'uci\\\\spectf_train.csv', 'accuracy': 0.79400749063670417, 'logloss': 0.92935358555818504, 'feat_dim': 1}\n",
      "\n",
      "\n",
      "\n",
      "uci\\wdbc_train.csv\n",
      "2\n",
      "{'dataset': 'uci\\\\wdbc_train.csv', 'accuracy': 0.70298769771529002, 'logloss': 8.9675765630070234, 'feat_dim': 2}\n",
      "\n",
      "\n",
      "\n",
      "NIPS\\arcene_train.csv\n",
      "37\n",
      "{'dataset': 'NIPS\\\\arcene_train.csv', 'accuracy': 1.0, 'logloss': 9.9920072216264128e-16, 'feat_dim': 37}\n",
      "\n",
      "\n",
      "\n",
      "NIPS\\dexter_train.csv\n",
      "24\n",
      "{'dataset': 'NIPS\\\\dexter_train.csv', 'accuracy': 0.91333333333333333, 'logloss': 2.8496912440314817, 'feat_dim': 24}\n",
      "\n",
      "\n",
      "\n",
      "NIPS\\gisette_train.csv\n",
      "warning: division by zero\n",
      "24\n",
      "{'dataset': 'NIPS\\\\gisette_train.csv', 'accuracy': 0.84833333333333338, 'logloss': 5.2383810865614544, 'feat_dim': 24}\n",
      "\n",
      "\n",
      "\n",
      "NIPS\\madelon_train.csv\n",
      "25\n",
      "{'dataset': 'NIPS\\\\madelon_train.csv', 'accuracy': 0.52049999999999996, 'logloss': 16.561343281359672, 'feat_dim': 25}\n",
      "\n",
      "\n",
      "\n"
     ]
    }
   ],
   "source": [
    "results_all = []\n",
    "for fpath in all_train:    \n",
    "    print(fpath)\n",
    "    X = np.array(pd.read_csv(fpath))\n",
    "    y = np.array(train_label(fpath)).flatten()\n",
    "    alpha = 0.05\n",
    "\n",
    "    X_train = np.hstack([X, y.reshape(-1, 1)])\n",
    "    s_feats = octave.saola_z_test(X_train, alpha)\n",
    "    feats_fix = [int(x-1) for x in list(np.array(s_feats).flatten())]\n",
    "    print(len(feats_fix))\n",
    "    \n",
    "    # now fit and return metrics...\n",
    "    X_sel = X[:, feats_fix]\n",
    "    mod = SGDClassifier(loss='log', max_iter=5)\n",
    "    mod.fit(X_sel, y)\n",
    "    results = {\n",
    "            'dataset': fpath,\n",
    "            'accuracy': accuracy_score(y, mod.predict(X_sel)), \n",
    "           'logloss': log_loss(y, mod.predict_proba(X_sel)), \n",
    "           'feat_dim': len(feats_fix)}\n",
    "    print(results)\n",
    "    print(\"\\n\\n\")\n",
    "    results_all.append(results)"
   ]
  },
  {
   "cell_type": "code",
   "execution_count": 8,
   "metadata": {},
   "outputs": [
    {
     "name": "stdout",
     "output_type": "stream",
     "text": [
      "[{'accuracy': 0.85483870967741937,\n",
      "  'dataset': 'microarray\\\\colon_train.csv',\n",
      "  'feat_dim': 6,\n",
      "  'logloss': 5.0136933476483243},\n",
      " {'accuracy': 0.98611111111111116,\n",
      "  'dataset': 'microarray\\\\leukemia_train.csv',\n",
      "  'feat_dim': 21,\n",
      "  'logloss': 0.47970522770709373},\n",
      " {'accuracy': 1.0,\n",
      "  'dataset': 'microarray\\\\lung_cancer_train.csv',\n",
      "  'feat_dim': 54,\n",
      "  'logloss': 9.9920072216264128e-16},\n",
      " {'accuracy': 0.92156862745098034,\n",
      "  'dataset': 'microarray\\\\prostate_train.csv',\n",
      "  'feat_dim': 16,\n",
      "  'logloss': 2.708923638816525},\n",
      " {'accuracy': 0.89458689458689455,\n",
      "  'dataset': 'uci\\\\Ionosphere_train.csv',\n",
      "  'feat_dim': 4,\n",
      "  'logloss': 1.0215881689838706},\n",
      " {'accuracy': 0.68767659204520759,\n",
      "  'dataset': 'uci\\\\spambase_train.csv',\n",
      "  'feat_dim': 25,\n",
      "  'logloss': 10.754718658437609},\n",
      " {'accuracy': 0.79400749063670417,\n",
      "  'dataset': 'uci\\\\spectf_train.csv',\n",
      "  'feat_dim': 1,\n",
      "  'logloss': 0.92935358555818504},\n",
      " {'accuracy': 0.70298769771529002,\n",
      "  'dataset': 'uci\\\\wdbc_train.csv',\n",
      "  'feat_dim': 2,\n",
      "  'logloss': 8.9675765630070234},\n",
      " {'accuracy': 1.0,\n",
      "  'dataset': 'NIPS\\\\arcene_train.csv',\n",
      "  'feat_dim': 37,\n",
      "  'logloss': 9.9920072216264128e-16},\n",
      " {'accuracy': 0.91333333333333333,\n",
      "  'dataset': 'NIPS\\\\dexter_train.csv',\n",
      "  'feat_dim': 24,\n",
      "  'logloss': 2.8496912440314817},\n",
      " {'accuracy': 0.84833333333333338,\n",
      "  'dataset': 'NIPS\\\\gisette_train.csv',\n",
      "  'feat_dim': 24,\n",
      "  'logloss': 5.2383810865614544},\n",
      " {'accuracy': 0.52049999999999996,\n",
      "  'dataset': 'NIPS\\\\madelon_train.csv',\n",
      "  'feat_dim': 25,\n",
      "  'logloss': 16.561343281359672}]\n"
     ]
    }
   ],
   "source": [
    "pprint.pprint(results_all)"
   ]
  }
 ],
 "metadata": {
  "kernelspec": {
   "display_name": "Python [conda env:skrecipe]",
   "language": "python",
   "name": "conda-env-skrecipe-py"
  },
  "language_info": {
   "codemirror_mode": {
    "name": "ipython",
    "version": 3
   },
   "file_extension": ".py",
   "mimetype": "text/x-python",
   "name": "python",
   "nbconvert_exporter": "python",
   "pygments_lexer": "ipython3",
   "version": "3.6.2"
  }
 },
 "nbformat": 4,
 "nbformat_minor": 2
}
