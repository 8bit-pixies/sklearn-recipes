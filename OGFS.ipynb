{
 "cells": [
  {
   "cell_type": "markdown",
   "metadata": {},
   "source": [
    "Implementation of the _Online Group Feature Selection_ (OGFS) algorithm.\n",
    "\n",
    "OGFS uses Lasso, so we will default to Lasso in its filtering with a low tolerance.\n",
    "\n",
    "**Note**: The output of the algorithm is not to provide a model, but rather the present the group of selected (subset) of features."
   ]
  },
  {
   "cell_type": "code",
   "execution_count": 1,
   "metadata": {
    "collapsed": true
   },
   "outputs": [],
   "source": [
    "import sklearn"
   ]
  },
  {
   "cell_type": "code",
   "execution_count": 2,
   "metadata": {
    "collapsed": true
   },
   "outputs": [],
   "source": [
    "from sklearn.datasets import make_regression, make_classification\n",
    "from sklearn.linear_model import SGDRegressor\n",
    "\n",
    "import pandas as pd\n",
    "import numpy as np\n",
    "\n",
    "import SPEC\n",
    "from scipy import stats\n",
    "from sklearn.metrics.pairwise import rbf_kernel"
   ]
  },
  {
   "cell_type": "code",
   "execution_count": 3,
   "metadata": {
    "collapsed": true
   },
   "outputs": [],
   "source": [
    "def similarity_within_class(X, y):\n",
    "    return SPEC.similarity_classification(X, y)\n",
    "\n",
    "def similarity_between_class(X, y):\n",
    "    \"\"\"\n",
    "    Calculates betweenclass affinity X (data) y (labels)\n",
    "    \n",
    "    note that it only considers the labels\n",
    "    \"\"\"\n",
    "    y_series = pd.Series(y)\n",
    "    y_val = y_series.value_counts(normalize=True)\n",
    "    n_inv = 1.0/len(set(y))\n",
    "    \n",
    "    y_size = len(y)\n",
    "    sim_matrix = np.zeros((len(y), len(y)))\n",
    "    for s_i in range(y_size):\n",
    "        for s_j in range(y_size):\n",
    "            sim_matrix[s_i, s_j] = n_inv - y_val[y[s_i]] if y[s_i] == y[s_j] else n_inv\n",
    "    return sim_matrix"
   ]
  },
  {
   "cell_type": "code",
   "execution_count": 4,
   "metadata": {
    "collapsed": true
   },
   "outputs": [],
   "source": [
    "def convert_to_deciles(y, n=10):\n",
    "    \"\"\"\n",
    "    By default converts to deciles, can be changed based on choice of n.\n",
    "    \"\"\"\n",
    "    return np.array(pd.cut(y, n, labels=range(n)))"
   ]
  },
  {
   "cell_type": "code",
   "execution_count": 5,
   "metadata": {},
   "outputs": [],
   "source": [
    "X, y = make_regression(n_features=100)\n",
    "pdf = pd.DataFrame(X)\n",
    "pdf.columns = ['c{}'.format(x) for x in range(X.shape[1])]"
   ]
  },
  {
   "cell_type": "code",
   "execution_count": 6,
   "metadata": {},
   "outputs": [
    {
     "data": {
      "text/plain": [
       "(100, 100)"
      ]
     },
     "execution_count": 6,
     "metadata": {},
     "output_type": "execute_result"
    }
   ],
   "source": [
    "X.shape"
   ]
  },
  {
   "cell_type": "code",
   "execution_count": 7,
   "metadata": {},
   "outputs": [],
   "source": [
    "X1 = pdf[['c{}'.format(x) for x in range(50, 100)]]\n",
    "X2 = pdf[['c{}'.format(x) for x in range(50)]]"
   ]
  },
  {
   "cell_type": "code",
   "execution_count": 8,
   "metadata": {
    "collapsed": true
   },
   "outputs": [],
   "source": [
    "def spec_supervised(X, y, is_classification=True):\n",
    "    if not is_classification:\n",
    "        y = convert_to_deciles(y)\n",
    "    W_w = similarity_within_class(X, y)\n",
    "    W_b = similarity_between_class(X, y)\n",
    "    s_w = SPEC.spec(**{'X': X, 'y': y, 'style':0, 'mode': 'raw', 'W': W_w})\n",
    "    s_b = SPEC.spec(**{'X': X, 'y': y, 'style':0, 'mode': 'raw', 'W': W_b})\n",
    "    return s_b, s_w"
   ]
  },
  {
   "cell_type": "code",
   "execution_count": 9,
   "metadata": {},
   "outputs": [],
   "source": [
    "def evaluate_feats1(s_b, s_w):\n",
    "    curr_u1 = []\n",
    "    curr_u2 = []\n",
    "    my_feats = []\n",
    "    prev_score = None\n",
    "    for idx, x1, x2 in zip(range(len(s_b)), s_b, s_w):\n",
    "        if prev_score is None:\n",
    "            curr_u1.append(x1)\n",
    "            curr_u2.append(x2)\n",
    "            my_feats.append(idx)\n",
    "        else:\n",
    "            test_u1 = curr_u1[:]\n",
    "            test_u2 = curr_u2[:]\n",
    "            test_u1.append(x1)\n",
    "            test_u2.append(x2)\n",
    "            score = ((np.sum(test_u1)/np.sum(test_u2)) - prev_score)\n",
    "            if score > 0.001:\n",
    "                my_feats.append(idx)\n",
    "                curr_u1.append(x1)\n",
    "                curr_u2.append(x2)\n",
    "        prev_score = np.sum(curr_u1)/np.sum(curr_u2)\n",
    "\n",
    "    # testing first feat...\n",
    "    curr_u1.pop(0)\n",
    "    curr_u2.pop(0)\n",
    "    my_feats.pop(0)\n",
    "    test_u1 = curr_u1[:]\n",
    "    test_u2 = curr_u2[:]\n",
    "    test_u1.append(s_b[0])\n",
    "    test_u2.append(s_w[0])\n",
    "    prev_score = np.sum(curr_u1)/np.sum(curr_u2)\n",
    "    score = ((np.sum(test_u1)/np.sum(test_u2)) - prev_score)\n",
    "    if score > 0.001:\n",
    "        my_feats.append(0)\n",
    "    return my_feats\n",
    "\n",
    "def evaluate_feats2(X, alpha=0.05, highest_best=True):\n",
    "    \"\"\"\n",
    "    X is the raw scrores\n",
    "    alpha is the level of significance\n",
    "    \n",
    "    This version uses T-test\n",
    "    \n",
    "    Returns: set of indices indicating selected features.\n",
    "    \"\"\"\n",
    "    eval_order = np.argsort(X)\n",
    "    if highest_best:\n",
    "        eval_order = eval_order[::-1]\n",
    "    selected_feats = []\n",
    "    selected_idx = []\n",
    "    for idx in eval_order:\n",
    "        if len(selected_feats) == 0:\n",
    "            selected_feats.append(X[idx])\n",
    "            selected_idx.append(idx)\n",
    "            continue\n",
    "        # now continue on and decide what to do\n",
    "        mu = np.mean(selected_feats)\n",
    "        sigma = np.std(selected_feats)\n",
    "        U = len(selected_feats)\n",
    "        if sigma == 0.0 and U > 1:\n",
    "            return selected_idx\n",
    "        elif sigma == 0.0:\n",
    "            selected_feats.append(X[idx])\n",
    "            selected_idx.append(idx)\n",
    "            continue\n",
    "        \n",
    "        # otherwise compute score for T test.\n",
    "        t_stat = (mu - X[idx])/(sigma/np.sqrt(U))\n",
    "        t_alpha = stats.t.pdf(t_stat, U)\n",
    "        if t_alpha <= alpha:\n",
    "            selected_feats.append(X[idx])\n",
    "            selected_idx.append(idx)\n",
    "        else:\n",
    "            return selected_idx\n",
    "    return selected_idx"
   ]
  },
  {
   "cell_type": "code",
   "execution_count": 10,
   "metadata": {
    "collapsed": true
   },
   "outputs": [],
   "source": [
    "def evaluate_feats(s_b, s_w, alpha=0.05):\n",
    "    set1 = evaluate_feats1(s_b,s_w)\n",
    "    set2 = evaluate_feats2(s_b/s_w, alpha)\n",
    "    return list(set(set1 + set2))"
   ]
  },
  {
   "cell_type": "code",
   "execution_count": 11,
   "metadata": {},
   "outputs": [
    {
     "data": {
      "text/plain": [
       "[1, 2, 35, 36, 44, 51, 53, 25]"
      ]
     },
     "execution_count": 11,
     "metadata": {},
     "output_type": "execute_result"
    }
   ],
   "source": [
    "s_b, s_w = spec_supervised(X, y, False)\n",
    "evaluate_feats(s_b, s_w)"
   ]
  },
  {
   "cell_type": "code",
   "execution_count": 12,
   "metadata": {
    "collapsed": true
   },
   "outputs": [],
   "source": [
    "import pandas\n",
    "\n",
    "class OGFSRegressor(SGDRegressor):\n",
    "    def __init__(self, loss=\"squared_loss\", penalty=\"l1\", alpha=0.0001,\n",
    "                 l1_ratio=0.15, fit_intercept=True, max_iter=None, tol=None,\n",
    "                 shuffle=True, verbose=0, epsilon=0.1,\n",
    "                 random_state=None, learning_rate=\"invscaling\", eta0=0.01,\n",
    "                 power_t=0.25, warm_start=False, average=False, n_iter=None, \n",
    "                 intragroup_alpha=0.05, intergroup_thres=None):\n",
    "        super(OGFSRegressor, self).__init__(loss=loss, penalty=penalty,\n",
    "                                           alpha=alpha, l1_ratio=l1_ratio,\n",
    "                                           fit_intercept=fit_intercept,\n",
    "                                           max_iter=max_iter, tol=tol,\n",
    "                                           shuffle=shuffle,\n",
    "                                           verbose=verbose,\n",
    "                                           epsilon=epsilon,\n",
    "                                           random_state=random_state,\n",
    "                                           learning_rate=learning_rate,\n",
    "                                           eta0=eta0, power_t=power_t,\n",
    "                                           warm_start=warm_start,\n",
    "                                           average=average, n_iter=n_iter)\n",
    "        \"\"\"\n",
    "        intragroup_alpha : the alpha level of t-test used to determine significance\n",
    "        intergroup_thres : the threshold for lasso to remove redundancy\n",
    "        \"\"\"\n",
    "        self.filter_cols = []\n",
    "        self.base_shape = None\n",
    "        self.intragroup_alpha = intragroup_alpha\n",
    "        self.intergroup_thres = intergroup_thres if intergroup_thres is not None else epsilon\n",
    "    \n",
    "    def _X_unseen(self, X):\n",
    "        \"\"\"\n",
    "        Method used to only select unseen features.\n",
    "        \"\"\"\n",
    "        bool_mask = np.zeros((X.shape[1],), dtype=np.bool)\n",
    "        bool_mask[self.coef_.shape[0]:] = True\n",
    "        return self._fit_X_mask(X, bool_mask, True)\n",
    "    \n",
    "    def _fit_X_mask(self, X, bool_mask, return_x=True):\n",
    "        if not return_x:\n",
    "            return bool_mask\n",
    "        if type(X) is pandas.core.frame.DataFrame:\n",
    "            return X[X.columns[bool_mask]]\n",
    "        else:\n",
    "            return X[:, bool_mask]\n",
    "    \n",
    "    def _fit_columns(self, X, return_x=True):\n",
    "        \"\"\"\n",
    "        Method filter through \"unselected\" columns. The goal of this \n",
    "        method is to filter any uninformative columns.\n",
    "        \n",
    "        This will be selected based on index only?\n",
    "        \n",
    "        If return_x is false, it will only return the boolean mask.\n",
    "        \"\"\"\n",
    "        import pandas\n",
    "        bool_mask = np.ones((X.shape[1],), dtype=np.bool)\n",
    "        if len(self.filter_cols) == 0:\n",
    "            if return_x:\n",
    "                return X\n",
    "            else:\n",
    "                return bool_mask\n",
    "        # otherwise...\n",
    "        bool_mask[self.filter_cols] = False\n",
    "        return self._fit_X_mask(X, bool_mask, return_x)\n",
    "    \n",
    "    def _reg_penalty(self, tot_new_feats, base_size):\n",
    "        remove_cols = np.argwhere(np.abs(self.coef_[-tot_new_feats:]) < self.intergroup_thres)\n",
    "        add_cols = np.argwhere(np.abs(self.coef_[-tot_new_feats:]) >= self.intergroup_thres)\n",
    "        base_coef = self.coef_[:-tot_new_feats].tolist()\n",
    "        # adding new coefs\n",
    "        base_coef = base_coef + self.coef_[-tot_new_feats:][add_cols].flatten().tolist()\n",
    "        self.coef_ = np.array(base_coef)\n",
    "        remove_cols_offset = [base_size + x for x in remove_cols.flatten().tolist()]\n",
    "        self.filter_cols = self.filter_cols + remove_cols_offset\n",
    "    \n",
    "    def _partial_ogfs_fit(self, X_, y):\n",
    "        \"\"\"\n",
    "        Partial fit online group feature selection method to \n",
    "        perform spectral analysis on incoming feature set\n",
    "        to then expand the coefficient listing\n",
    "        \"\"\"\n",
    "        # require to know the base shape to determine/\n",
    "        # check for irrelevant columns in the future.\n",
    "        base_size = len(self.filter_cols) + self.coef_.flatten().shape[0]\n",
    "        \n",
    "        X = self._fit_columns(X_)\n",
    "        n_samples, n_features = X.shape\n",
    "        \n",
    "        # extract only the new feature that has arrived.\n",
    "        new_X = self._X_unseen(X)\n",
    "        s_b, s_w = spec_supervised(np.array(new_X), y, False)\n",
    "        sel_feats = evaluate_feats(s_b, s_w, self.intragroup_alpha)\n",
    "        #sel_feats = [x+self.coef_.shape[0] for x in evaluate_feats(s_b, s_w)]\n",
    "        # flip sel_feats\n",
    "        unsel_feats = [x+base_size for x in range(new_X.shape[1]) if x not in sel_feats]\n",
    "        self.filter_cols = self.filter_cols + unsel_feats        \n",
    "        \n",
    "        # update coef_list...\n",
    "        coef_list = np.zeros(self.coef_.shape[0] + len(sel_feats))\n",
    "        coef_list[:self.coef_.shape[0]] = self.coef_.copy()\n",
    "        self.coef_ = coef_list.copy()\n",
    "        \n",
    "    def partial_fit(self, X, y, sample_weight=None):\n",
    "        base_size = len(self.filter_cols) + self.coef_.shape[0]\n",
    "        tot_new_feats = X.shape[1] - base_size\n",
    "        self._partial_ogfs_fit(X, y)\n",
    "        X_ = self._fit_columns(X)\n",
    "        super(OGFSRegressor, self).partial_fit(X_, y, sample_weight=None)  \n",
    "        \n",
    "        # update parameters based on weight of regularizer penalty\n",
    "        self._reg_penalty(tot_new_feats, base_size)\n",
    "        return self\n",
    "    \n",
    "    def predict(self, X):\n",
    "        X = self._fit_columns(X)\n",
    "        return super(OGFSRegressor, self).predict(X)        "
   ]
  },
  {
   "cell_type": "code",
   "execution_count": 13,
   "metadata": {},
   "outputs": [
    {
     "data": {
      "text/plain": [
       "OGFSRegressor(alpha=0.0001, average=False, epsilon=0.1, eta0=0.01,\n",
       "       fit_intercept=True, intergroup_thres=0.1, intragroup_alpha=0.05,\n",
       "       l1_ratio=0.15, learning_rate='invscaling', loss='squared_loss',\n",
       "       max_iter=1000, n_iter=None, penalty='l1', power_t=0.25,\n",
       "       random_state=None, shuffle=True, tol=None, verbose=0,\n",
       "       warm_start=False)"
      ]
     },
     "execution_count": 13,
     "metadata": {},
     "output_type": "execute_result"
    }
   ],
   "source": [
    "model = OGFSRegressor(max_iter=1000)\n",
    "model.fit(X1, y)"
   ]
  },
  {
   "cell_type": "code",
   "execution_count": 14,
   "metadata": {},
   "outputs": [
    {
     "data": {
      "text/plain": [
       "50"
      ]
     },
     "execution_count": 14,
     "metadata": {},
     "output_type": "execute_result"
    }
   ],
   "source": [
    "len(model.coef_)"
   ]
  },
  {
   "cell_type": "code",
   "execution_count": 15,
   "metadata": {},
   "outputs": [
    {
     "data": {
      "text/plain": [
       "OGFSRegressor(alpha=0.0001, average=False, epsilon=0.1, eta0=0.01,\n",
       "       fit_intercept=True, intergroup_thres=0.1, intragroup_alpha=0.05,\n",
       "       l1_ratio=0.15, learning_rate='invscaling', loss='squared_loss',\n",
       "       max_iter=1000, n_iter=None, penalty='l1', power_t=0.25,\n",
       "       random_state=None, shuffle=True, tol=None, verbose=0,\n",
       "       warm_start=False)"
      ]
     },
     "execution_count": 15,
     "metadata": {},
     "output_type": "execute_result"
    }
   ],
   "source": [
    "model.partial_fit(pdf, y)"
   ]
  },
  {
   "cell_type": "code",
   "execution_count": 16,
   "metadata": {},
   "outputs": [
    {
     "data": {
      "text/plain": [
       "52"
      ]
     },
     "execution_count": 16,
     "metadata": {},
     "output_type": "execute_result"
    }
   ],
   "source": [
    "len(model.coef_)"
   ]
  },
  {
   "cell_type": "code",
   "execution_count": 18,
   "metadata": {},
   "outputs": [
    {
     "data": {
      "text/plain": [
       "array([  1.25454019e+02,   4.52538076e+02,  -3.09508817e+02,\n",
       "        -6.77813454e+01,   7.86029635e+01,   3.03654283e+02,\n",
       "         2.16585208e+02,  -2.88280063e+02,  -4.41192664e+01,\n",
       "        -2.81307312e+01,   1.64139159e+02,  -1.14539245e+02,\n",
       "         3.44437436e+02,   5.65249518e+00,   2.92762772e+02,\n",
       "         5.69373776e+01,  -1.29226291e+02,  -3.61063305e+02,\n",
       "        -1.03017022e+02,   4.58093983e+02,   2.96376650e+01,\n",
       "        -3.20941846e+01,  -1.14709139e+02,   1.16798982e+02,\n",
       "         4.54908195e+02,   2.86969813e+02,   1.50462082e+02,\n",
       "         1.89904573e+02,   3.06059152e+02,   2.73216205e+01,\n",
       "        -4.57908704e+02,   1.64173316e+02,   9.95388813e+01,\n",
       "        -2.99182795e+02,   3.13470835e+01,   6.92551308e+02,\n",
       "         3.77686284e+02,   2.80838651e+01,  -7.70324744e+00,\n",
       "         1.67369367e+02,   1.03183169e+02,   3.58115808e+02,\n",
       "         4.74991904e+02,   7.93734954e+01,   7.00028172e+01,\n",
       "         1.62268630e+02,   3.82299174e+02,  -1.24457665e+02,\n",
       "        -1.43717626e+02,  -2.65650967e+02,   2.72325340e+00,\n",
       "        -1.93889948e+02,   5.62423743e+01,   7.04011029e+01,\n",
       "         4.61313177e+02,  -8.75331940e+01,   7.83534294e+01,\n",
       "         7.43165406e+01,   7.72241765e+00,  -6.63487571e+01,\n",
       "        -1.60699617e+02,   1.57246164e+02,  -1.76972851e+02,\n",
       "        -5.27979756e+01,   5.92524389e+01,   9.37216054e+01,\n",
       "        -4.25744208e+01,   1.91230327e+02,  -6.60609099e+01,\n",
       "         1.47142686e+02,   9.62192716e+01,   4.03873035e+02,\n",
       "         1.46978824e+02,   3.84830542e+02,   1.98940329e+02,\n",
       "         1.18961629e+02,   1.72784813e+02,  -1.69167544e+02,\n",
       "        -6.21819493e+01,   8.73813276e+01,  -8.08173604e+01,\n",
       "        -4.45463063e+02,  -1.47264233e+02,   4.36833162e+01,\n",
       "        -7.02525450e+01,   2.65984631e+02,   2.15654688e+02,\n",
       "         4.93378285e+02,  -6.97363439e+01,   1.53313831e+02,\n",
       "        -1.48471405e-01,  -3.02862394e+01,   2.06886517e+01,\n",
       "         1.54225661e+01,  -2.20335370e+02,  -4.28236753e+01,\n",
       "         2.87676892e+02,  -3.59795794e+02,   1.67923487e+02,\n",
       "        -5.63860302e+02])"
      ]
     },
     "execution_count": 18,
     "metadata": {},
     "output_type": "execute_result"
    }
   ],
   "source": [
    "model.predict(pdf)"
   ]
  },
  {
   "cell_type": "code",
   "execution_count": null,
   "metadata": {
    "collapsed": true
   },
   "outputs": [],
   "source": []
  }
 ],
 "metadata": {
  "kernelspec": {
   "display_name": "Python [default]",
   "language": "python",
   "name": "python3"
  },
  "language_info": {
   "codemirror_mode": {
    "name": "ipython",
    "version": 3
   },
   "file_extension": ".py",
   "mimetype": "text/x-python",
   "name": "python",
   "nbconvert_exporter": "python",
   "pygments_lexer": "ipython3",
   "version": "3.5.2"
  }
 },
 "nbformat": 4,
 "nbformat_minor": 2
}
