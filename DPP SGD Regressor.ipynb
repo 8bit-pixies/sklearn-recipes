{
 "cells": [
  {
   "cell_type": "code",
   "execution_count": 1,
   "metadata": {
    "collapsed": true
   },
   "outputs": [],
   "source": [
    "import sklearn"
   ]
  },
  {
   "cell_type": "code",
   "execution_count": 2,
   "metadata": {
    "collapsed": true
   },
   "outputs": [],
   "source": [
    "from sklearn.datasets import make_regression\n",
    "from sklearn.linear_model import SGDRegressor\n",
    "\n",
    "import pandas as pd\n",
    "import numpy as np"
   ]
  },
  {
   "cell_type": "code",
   "execution_count": 3,
   "metadata": {
    "collapsed": true
   },
   "outputs": [],
   "source": [
    "X, y = make_regression()\n",
    "pdf = pd.DataFrame(X)\n",
    "pdf.columns = ['c{}'.format(x) for x in range(100)]"
   ]
  },
  {
   "cell_type": "code",
   "execution_count": 4,
   "metadata": {},
   "outputs": [
    {
     "data": {
      "text/plain": [
       "(100, 100)"
      ]
     },
     "execution_count": 4,
     "metadata": {},
     "output_type": "execute_result"
    }
   ],
   "source": [
    "X.shape"
   ]
  },
  {
   "cell_type": "code",
   "execution_count": 5,
   "metadata": {
    "collapsed": true
   },
   "outputs": [],
   "source": [
    "X1 = pdf[['c{}'.format(x) for x in range(50, 100)]]\n",
    "X2 = pdf[['c{}'.format(x) for x in range(50)]]"
   ]
  },
  {
   "cell_type": "code",
   "execution_count": 10,
   "metadata": {
    "collapsed": true
   },
   "outputs": [],
   "source": [
    "\"\"\"\n",
    "Implement DPP version that is similar to what is done above\n",
    "\n",
    "\n",
    "sketch of solution\n",
    "------------------\n",
    "\n",
    "DPP requires a known number of parameters to check at each partial fit!\n",
    "\n",
    "\n",
    "\"\"\"\n",
    "\n",
    "class DPPRegressor(SGDRegressor):\n",
    "    def __init__(self, loss=\"squared_loss\", penalty=\"l2\", alpha=0.0001,\n",
    "                 l1_ratio=0.15, fit_intercept=True, max_iter=None, tol=None,\n",
    "                 shuffle=True, verbose=0, epsilon=0.1,\n",
    "                 random_state=None, learning_rate=\"invscaling\", eta0=0.01,\n",
    "                 power_t=0.25, warm_start=False, average=False, n_iter=None):\n",
    "        super(DPPRegressor, self).__init__(loss=loss, penalty=penalty,\n",
    "                                           alpha=alpha, l1_ratio=l1_ratio,\n",
    "                                           fit_intercept=fit_intercept,\n",
    "                                           max_iter=max_iter, tol=tol,\n",
    "                                           shuffle=shuffle,\n",
    "                                           verbose=verbose,\n",
    "                                           epsilon=epsilon,\n",
    "                                           random_state=random_state,\n",
    "                                           learning_rate=learning_rate,\n",
    "                                           eta0=eta0, power_t=power_t,\n",
    "                                           warm_start=warm_start,\n",
    "                                           average=average, n_iter=n_iter)\n",
    "        self.filter_cols = []\n",
    "        self.base_shape = None\n",
    "    \n",
    "    def _fit_columns(self, X, return_x=True):\n",
    "        \"\"\"\n",
    "        Method filter through \"unselected\" columns. The goal of this \n",
    "        method is to filter any uninformative columns.\n",
    "        \n",
    "        This will be selected based on index only?\n",
    "        \n",
    "        If return_x is false, it will only return the boolean mask.\n",
    "        \"\"\"\n",
    "        import pandas\n",
    "        bool_mask = np.ones((X.shape[1],), dtype=np.bool)\n",
    "        if len(self.filter_cols) == 0:\n",
    "            if return_x:\n",
    "                return X\n",
    "            else:\n",
    "                return bool_mask\n",
    "        # otherwise...\n",
    "        bool_mask[self.filter_cols] = False\n",
    "        if not return_x:\n",
    "            return bool_mask\n",
    "        if type(X) is pandas.core.frame.DataFrame:\n",
    "            return X[X.columns[bool_mask]]\n",
    "        else:\n",
    "            return X[:, bool_mask]\n",
    "    \n",
    "    def _partial_dpp_fit(self, X, y):\n",
    "        \"\"\"\n",
    "        we have to perform conditional dpp here - we will take in the dataset\n",
    "        and then we will sample according to condition??\n",
    "        \"\"\"\n",
    "        self.base_shape = self.coef_.shape[0]\n",
    "        \n",
    "        \"\"\"\n",
    "        Before the fit columns is called - we should perform sampling/masking\n",
    "        update so that not all columns are chosen\n",
    "        \"\"\"\n",
    "        X = self._fit_columns(X)\n",
    "        n_samples, n_features = X.shape\n",
    "        coef_list = np.zeros(n_features, dtype=np.float64, order=\"C\")\n",
    "        coef_list[:self.coef_.shape[0]] = self.coef_.copy()\n",
    "        self.coef_ = coef_list.copy()\n",
    "        \n",
    "        \n",
    "    def partial_fit(self, X, y, sample_weight=None):\n",
    "        self._partial_dpp_fit(X, y)\n",
    "        super(DPPRegressor, self).partial_fit(X, y, sample_weight=None)  \n",
    "        return self\n",
    "    \n",
    "    def predict(self, X):\n",
    "        X = self._fit_columns(X)\n",
    "        return super(DPPRegressor, self).predict(X)        "
   ]
  },
  {
   "cell_type": "code",
   "execution_count": 11,
   "metadata": {},
   "outputs": [
    {
     "data": {
      "text/plain": [
       "DPPRegressor(alpha=0.0001, average=False, epsilon=0.1, eta0=0.01,\n",
       "       fit_intercept=True, l1_ratio=0.15, learning_rate='invscaling',\n",
       "       loss='squared_loss', max_iter=1000, n_iter=None, penalty='l2',\n",
       "       power_t=0.25, random_state=None, shuffle=True, tol=None, verbose=0,\n",
       "       warm_start=False)"
      ]
     },
     "execution_count": 11,
     "metadata": {},
     "output_type": "execute_result"
    }
   ],
   "source": [
    "model = DPPRegressor(max_iter=1000)\n",
    "model.fit(X1, y)"
   ]
  },
  {
   "cell_type": "code",
   "execution_count": 12,
   "metadata": {},
   "outputs": [
    {
     "data": {
      "text/plain": [
       "50"
      ]
     },
     "execution_count": 12,
     "metadata": {},
     "output_type": "execute_result"
    }
   ],
   "source": [
    "len(model.coef_)"
   ]
  },
  {
   "cell_type": "code",
   "execution_count": 13,
   "metadata": {},
   "outputs": [
    {
     "data": {
      "text/plain": [
       "DPPRegressor(alpha=0.0001, average=False, epsilon=0.1, eta0=0.01,\n",
       "       fit_intercept=True, l1_ratio=0.15, learning_rate='invscaling',\n",
       "       loss='squared_loss', max_iter=1000, n_iter=None, penalty='l2',\n",
       "       power_t=0.25, random_state=None, shuffle=True, tol=None, verbose=0,\n",
       "       warm_start=False)"
      ]
     },
     "execution_count": 13,
     "metadata": {},
     "output_type": "execute_result"
    }
   ],
   "source": [
    "model.partial_fit(pdf, y)"
   ]
  },
  {
   "cell_type": "code",
   "execution_count": 14,
   "metadata": {},
   "outputs": [
    {
     "data": {
      "text/plain": [
       "100"
      ]
     },
     "execution_count": 14,
     "metadata": {},
     "output_type": "execute_result"
    }
   ],
   "source": [
    "len(model.coef_)"
   ]
  },
  {
   "cell_type": "code",
   "execution_count": 15,
   "metadata": {},
   "outputs": [
    {
     "data": {
      "text/plain": [
       "array([-215.68090643, -171.12348582,  -86.5133144 , -206.42923396,\n",
       "        199.36330671, -277.10036819, -124.91231933,  -51.79150044,\n",
       "         19.01488922,  268.10757417, -256.71295929,  -29.47206108,\n",
       "        135.80009473,  135.36187193,   68.66074387,   82.57113691,\n",
       "        148.19926614, -114.57455919,    2.72501381,   39.31876302,\n",
       "        196.08499757,  -63.31608078, -288.63349941,    2.13140069,\n",
       "         37.0888929 ,  141.24296281,   37.21294871, -255.98162184,\n",
       "        263.43541023, -105.15605908, -174.81860156,  -10.06764571,\n",
       "        -76.1533631 ,   28.53949232, -158.57791312, -200.7821329 ,\n",
       "        197.80912931, -411.57004559, -338.36618913, -134.84274097,\n",
       "       -113.74300531, -195.82821768,  -54.82063278,   64.52205131,\n",
       "        195.45766935,  134.57796755,   13.93516877,  150.03431086,\n",
       "         76.89292196, -257.34039213,   -3.20981957, -110.36049994,\n",
       "        -48.33271121,  115.27725093,  -79.3158718 , -133.53034614,\n",
       "          4.51964811,  139.22359803,  116.41288154,  -13.85101037,\n",
       "        -18.38577379,   50.60562216, -149.08917181,  103.43543962,\n",
       "         21.8560818 , -151.62957747,  195.39606089,  234.93797178,\n",
       "        200.57531108,  -84.98114743,  152.30626309,  180.7860101 ,\n",
       "       -114.05672781,   10.54757379,  159.46798155, -217.97440215,\n",
       "       -203.92419957,   60.00905389, -178.47094565,  172.00093528,\n",
       "       -121.88258162,  -92.79638219, -124.0584415 ,  -20.23036222,\n",
       "         62.33783162, -225.38100009, -258.01107118, -294.59753333,\n",
       "         66.97186478, -239.01942258, -141.77808458,   64.21837455,\n",
       "         74.66078434,   28.74899043, -326.32486668,   70.56650819,\n",
       "         -2.86268203,  -74.4647368 ,   36.69288794,  144.96090556])"
      ]
     },
     "execution_count": 15,
     "metadata": {},
     "output_type": "execute_result"
    }
   ],
   "source": [
    "model.predict(pdf)"
   ]
  },
  {
   "cell_type": "code",
   "execution_count": null,
   "metadata": {
    "collapsed": true
   },
   "outputs": [],
   "source": []
  }
 ],
 "metadata": {
  "kernelspec": {
   "display_name": "Python [default]",
   "language": "python",
   "name": "python3"
  },
  "language_info": {
   "codemirror_mode": {
    "name": "ipython",
    "version": 3
   },
   "file_extension": ".py",
   "mimetype": "text/x-python",
   "name": "python",
   "nbconvert_exporter": "python",
   "pygments_lexer": "ipython3",
   "version": "3.5.2"
  }
 },
 "nbformat": 4,
 "nbformat_minor": 2
}
